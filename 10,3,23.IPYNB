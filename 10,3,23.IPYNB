{
 "cells": [
  {
   "attachments": {},
   "cell_type": "markdown",
   "metadata": {},
   "source": [
    "- Hash Table"
   ]
  },
  {
   "cell_type": "code",
   "execution_count": 20,
   "metadata": {},
   "outputs": [
    {
     "name": "stdout",
     "output_type": "stream",
     "text": [
      "0 ['MODI', 'YOGI']\n",
      "1 []\n",
      "2 ['RAHUL']\n",
      "{0: ['MODI', 'YOGI'], 1: [], 2: ['RAHUL']}\n"
     ]
    }
   ],
   "source": [
    "class HashTable:\n",
    "    def __init__(self,size):\n",
    "        self.size=size\n",
    "        self.table={}\n",
    "        for i in range(size):\n",
    "            self.table[i]=[]\n",
    "    def __str__(self):\n",
    "        return str(self.table)\n",
    "    def put(self,key,value):\n",
    "        container=self.table[self.hash(key)]\n",
    "        if value not in container:\n",
    "            container.append(value)\n",
    "    def get(self,key):\n",
    "        return self.table[self.hash(key)]\n",
    "    def hash(self,key):\n",
    "        return key%self.size\n",
    "myhash=HashTable(3)\n",
    "names=[\"MODI\",\"MODI\",\"YOGI\",\"RAHUL\"]\n",
    "for name in names:\n",
    "    key = sum(map(ord,name))\n",
    "    myhash.put(key,name)\n",
    "for key in myhash.table.keys():\n",
    "    print(key,myhash.table[key])\n",
    "print(myhash)"
   ]
  },
  {
   "cell_type": "code",
   "execution_count": 18,
   "metadata": {},
   "outputs": [
    {
     "data": {
      "text/plain": [
       "297"
      ]
     },
     "execution_count": 18,
     "metadata": {},
     "output_type": "execute_result"
    }
   ],
   "source": [
    "ord('M')+ord('O')+ord('D')+ord('I')"
   ]
  },
  {
   "cell_type": "code",
   "execution_count": 19,
   "metadata": {},
   "outputs": [
    {
     "data": {
      "text/plain": [
       "0"
      ]
     },
     "execution_count": 19,
     "metadata": {},
     "output_type": "execute_result"
    }
   ],
   "source": [
    "297%3"
   ]
  },
  {
   "attachments": {},
   "cell_type": "markdown",
   "metadata": {},
   "source": [
    "Bubble Sort\n",
    "    - without swap"
   ]
  },
  {
   "cell_type": "code",
   "execution_count": 32,
   "metadata": {},
   "outputs": [
    {
     "data": {
      "text/plain": [
       "[1, 2, 3, 4, 5, 6, 7, 8, 9, 10]"
      ]
     },
     "execution_count": 32,
     "metadata": {},
     "output_type": "execute_result"
    }
   ],
   "source": [
    "l=[]\n",
    "\n",
    "def Bubble(lst):\n",
    "    for i in range(len(lst)):\n",
    "        for j in range(i+1,len(lst)):\n",
    "            if lst[j-1]>lst[j]:\n",
    "                lst[j-1],lst[j]=lst[j],lst[j-1]\n",
    "    return lst\n",
    "l=[1,2,3,4,5,7,8,6,10,9]\n",
    "Bubble(l)"
   ]
  },
  {
   "cell_type": "code",
   "execution_count": 36,
   "metadata": {},
   "outputs": [
    {
     "name": "stdout",
     "output_type": "stream",
     "text": [
      "True\n",
      "False\n"
     ]
    }
   ],
   "source": [
    "def Arms(n):\n",
    "    temp=str(n)\n",
    "    sum=0\n",
    "    for i in temp:\n",
    "        sum+=int(i)**len(temp)\n",
    "    if sum==n:\n",
    "        return True\n",
    "    else: \n",
    "        return False\n",
    "s=Arms(153)\n",
    "d=Arms(122)\n",
    "print(s)\n",
    "print(d)"
   ]
  },
  {
   "cell_type": "code",
   "execution_count": 58,
   "metadata": {},
   "outputs": [
    {
     "name": "stdout",
     "output_type": "stream",
     "text": [
      "True\n",
      "True\n"
     ]
    }
   ],
   "source": [
    "def Arms(n):\n",
    "    temp=str(n)\n",
    "    t=sum(int(i)** len(temp) for i in temp)\n",
    "    if t==n:\n",
    "        return True\n",
    "    else:\n",
    "        return False\n",
    "s=Arms(153)\n",
    "d=Arms(370)\n",
    "print(s)\n",
    "print(d)"
   ]
  },
  {
   "cell_type": "code",
   "execution_count": 63,
   "metadata": {},
   "outputs": [
    {
     "name": "stdout",
     "output_type": "stream",
     "text": [
      "0 1 2 3 4 5 6 7 8 9 153 370 371 407 1634 8208 9474 54748 92727 93084 "
     ]
    }
   ],
   "source": [
    "def Arms(n):\n",
    "    return True if sum(int(i)**len(str(n)) for i in str(n)) ==n else False\n",
    "for i in range(100000):\n",
    "    s=Arms(i)\n",
    "    if s:\n",
    "        print(i,end=\" \")"
   ]
  },
  {
   "cell_type": "code",
   "execution_count": 74,
   "metadata": {},
   "outputs": [
    {
     "name": "stdout",
     "output_type": "stream",
     "text": [
      "[11, 13, 17, 19, 23, 29, 31, 37, 41, 43, 47]\n"
     ]
    }
   ],
   "source": [
    "l=[]\n",
    "def is_Prime(num):\n",
    "    for i in range(2,num):\n",
    "        if num%i==0:\n",
    "            return False\n",
    "    return True\n",
    "def Prime(n,m):\n",
    "    for i in range(n,m):\n",
    "        if  is_Prime(i):\n",
    "            l.append(i)\n",
    "    print(l)\n",
    "n=int(input(\"enter lower limit: \"))\n",
    "m=int(input(\"Enter upper limit: \"))\n",
    "Prime(n,m)\n"
   ]
  },
  {
   "cell_type": "code",
   "execution_count": 75,
   "metadata": {},
   "outputs": [
    {
     "name": "stdout",
     "output_type": "stream",
     "text": [
      "     March 2023\n",
      "Mo Tu We Th Fr Sa Su\n",
      "       1  2  3  4  5\n",
      " 6  7  8  9 10 11 12\n",
      "13 14 15 16 17 18 19\n",
      "20 21 22 23 24 25 26\n",
      "27 28 29 30 31\n",
      "\n"
     ]
    }
   ],
   "source": [
    "import calendar\n",
    "print(calendar.month(2023,3))"
   ]
  },
  {
   "cell_type": "code",
   "execution_count": 76,
   "metadata": {},
   "outputs": [
    {
     "name": "stdout",
     "output_type": "stream",
     "text": [
      "                                  2023\n",
      "\n",
      "      January                   February                   March\n",
      "Mo Tu We Th Fr Sa Su      Mo Tu We Th Fr Sa Su      Mo Tu We Th Fr Sa Su\n",
      "                   1             1  2  3  4  5             1  2  3  4  5\n",
      " 2  3  4  5  6  7  8       6  7  8  9 10 11 12       6  7  8  9 10 11 12\n",
      " 9 10 11 12 13 14 15      13 14 15 16 17 18 19      13 14 15 16 17 18 19\n",
      "16 17 18 19 20 21 22      20 21 22 23 24 25 26      20 21 22 23 24 25 26\n",
      "23 24 25 26 27 28 29      27 28                     27 28 29 30 31\n",
      "30 31\n",
      "\n",
      "       April                      May                       June\n",
      "Mo Tu We Th Fr Sa Su      Mo Tu We Th Fr Sa Su      Mo Tu We Th Fr Sa Su\n",
      "                1  2       1  2  3  4  5  6  7                1  2  3  4\n",
      " 3  4  5  6  7  8  9       8  9 10 11 12 13 14       5  6  7  8  9 10 11\n",
      "10 11 12 13 14 15 16      15 16 17 18 19 20 21      12 13 14 15 16 17 18\n",
      "17 18 19 20 21 22 23      22 23 24 25 26 27 28      19 20 21 22 23 24 25\n",
      "24 25 26 27 28 29 30      29 30 31                  26 27 28 29 30\n",
      "\n",
      "        July                     August                  September\n",
      "Mo Tu We Th Fr Sa Su      Mo Tu We Th Fr Sa Su      Mo Tu We Th Fr Sa Su\n",
      "                1  2          1  2  3  4  5  6                   1  2  3\n",
      " 3  4  5  6  7  8  9       7  8  9 10 11 12 13       4  5  6  7  8  9 10\n",
      "10 11 12 13 14 15 16      14 15 16 17 18 19 20      11 12 13 14 15 16 17\n",
      "17 18 19 20 21 22 23      21 22 23 24 25 26 27      18 19 20 21 22 23 24\n",
      "24 25 26 27 28 29 30      28 29 30 31               25 26 27 28 29 30\n",
      "31\n",
      "\n",
      "      October                   November                  December\n",
      "Mo Tu We Th Fr Sa Su      Mo Tu We Th Fr Sa Su      Mo Tu We Th Fr Sa Su\n",
      "                   1             1  2  3  4  5                   1  2  3\n",
      " 2  3  4  5  6  7  8       6  7  8  9 10 11 12       4  5  6  7  8  9 10\n",
      " 9 10 11 12 13 14 15      13 14 15 16 17 18 19      11 12 13 14 15 16 17\n",
      "16 17 18 19 20 21 22      20 21 22 23 24 25 26      18 19 20 21 22 23 24\n",
      "23 24 25 26 27 28 29      27 28 29 30               25 26 27 28 29 30 31\n",
      "30 31\n",
      "\n"
     ]
    }
   ],
   "source": [
    "print(calendar.calendar(2023))"
   ]
  },
  {
   "attachments": {},
   "cell_type": "markdown",
   "metadata": {},
   "source": [
    "-   Selection Sort\n",
    "    - selects one index for comparing with all elements in the list"
   ]
  },
  {
   "cell_type": "code",
   "execution_count": 85,
   "metadata": {},
   "outputs": [
    {
     "name": "stdout",
     "output_type": "stream",
     "text": [
      "[12, 23, 34, 34, 43, 54, 55]\n"
     ]
    }
   ],
   "source": [
    "def Selection_sort(l):\n",
    "    for i in range(len(l)):\n",
    "        m=i\n",
    "        for j in range(i,len(l)):\n",
    "            if l[m]>l[j]:\n",
    "                l[m],l[j]=l[j],l[m]\n",
    "    return l\n",
    "l=[23,43,34,54,12,34,55]\n",
    "print(Selection_sort(l))"
   ]
  },
  {
   "cell_type": "code",
   "execution_count": 87,
   "metadata": {},
   "outputs": [
    {
     "name": "stdout",
     "output_type": "stream",
     "text": [
      "[] [50, 30, 40, 10, 20]\n",
      "[10] [50, 30, 40, 20]\n",
      "[10, 20] [50, 30, 40]\n",
      "[10, 20, 30] [50, 40]\n",
      "[10, 20, 30, 40] [50]\n"
     ]
    },
    {
     "data": {
      "text/plain": [
       "[10, 20, 30, 40, 50]"
      ]
     },
     "execution_count": 87,
     "metadata": {},
     "output_type": "execute_result"
    }
   ],
   "source": [
    "def Selection(lst):\n",
    "    Tlist=[]\n",
    "    while(len(lst)>0):\n",
    "        print(Tlist,lst)\n",
    "        i= lst.index(min(lst))\n",
    "        Tlist.append(lst[i])\n",
    "        lst.pop(i)\n",
    "    return Tlist\n",
    "num=[50,30,40,10,20]\n",
    "Selection(num)"
   ]
  },
  {
   "attachments": {},
   "cell_type": "markdown",
   "metadata": {},
   "source": [
    "- C## supports multple class declaration with same name\n",
    "- javaScript supports Hoisting\n"
   ]
  },
  {
   "attachments": {},
   "cell_type": "markdown",
   "metadata": {},
   "source": [
    "- Insertion Sort"
   ]
  },
  {
   "cell_type": "code",
   "execution_count": 93,
   "metadata": {},
   "outputs": [
    {
     "name": "stdout",
     "output_type": "stream",
     "text": [
      "[] [50, 40, 30, 10, 20]\n",
      "[50] [40, 30, 10, 20]\n",
      "[50, 40] [30, 10, 20]\n",
      "[50, 30, 40] [10, 20]\n",
      "[50, 10, 30, 40] [20]\n"
     ]
    },
    {
     "data": {
      "text/plain": [
       "[50, 10, 20, 30, 40]"
      ]
     },
     "execution_count": 93,
     "metadata": {},
     "output_type": "execute_result"
    }
   ],
   "source": [
    "def Insertion(coll):\n",
    "    size=len(coll)\n",
    "    Tlst=[]\n",
    "    while(len(coll)>0):\n",
    "        print(Tlst,coll)\n",
    "        a=coll.pop(0)\n",
    "        count=len(Tlst)-1\n",
    "        while(count>0 and Tlst[count]>a):\n",
    "            count-=1\n",
    "        Tlst.insert(count+1,a)\n",
    "    return Tlst\n",
    "n=[50,40,30,10,20]\n",
    "Insertion(n)"
   ]
  },
  {
   "cell_type": "code",
   "execution_count": null,
   "metadata": {},
   "outputs": [],
   "source": []
  }
 ],
 "metadata": {
  "kernelspec": {
   "display_name": "Python 3",
   "language": "python",
   "name": "python3"
  },
  "language_info": {
   "codemirror_mode": {
    "name": "ipython",
    "version": 3
   },
   "file_extension": ".py",
   "mimetype": "text/x-python",
   "name": "python",
   "nbconvert_exporter": "python",
   "pygments_lexer": "ipython3",
   "version": "3.11.0"
  },
  "orig_nbformat": 4
 },
 "nbformat": 4,
 "nbformat_minor": 2
}

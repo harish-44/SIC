{
 "cells": [
  {
   "cell_type": "code",
   "execution_count": 2,
   "id": "65cf3874",
   "metadata": {},
   "outputs": [
    {
     "name": "stdout",
     "output_type": "stream",
     "text": [
      "Requirement already satisfied: pandas in c:\\programdata\\anaconda3\\envs\\pythonk\\lib\\site-packages (1.5.3)\n",
      "Requirement already satisfied: python-dateutil>=2.8.1 in c:\\programdata\\anaconda3\\envs\\pythonk\\lib\\site-packages (from pandas) (2.8.2)\n",
      "Requirement already satisfied: numpy>=1.21.0 in c:\\programdata\\anaconda3\\envs\\pythonk\\lib\\site-packages (from pandas) (1.24.2)\n",
      "Requirement already satisfied: pytz>=2020.1 in c:\\programdata\\anaconda3\\envs\\pythonk\\lib\\site-packages (from pandas) (2022.7.1)\n",
      "Requirement already satisfied: six>=1.5 in c:\\programdata\\anaconda3\\envs\\pythonk\\lib\\site-packages (from python-dateutil>=2.8.1->pandas) (1.16.0)\n",
      "Note: you may need to restart the kernel to use updated packages.\n"
     ]
    }
   ],
   "source": [
    "pip install pandas"
   ]
  },
  {
   "cell_type": "code",
   "execution_count": 15,
   "id": "e0bc1114",
   "metadata": {},
   "outputs": [
    {
     "ename": "SyntaxError",
     "evalue": "invalid syntax (2070995041.py, line 10)",
     "output_type": "error",
     "traceback": [
      "\u001b[1;36m  Cell \u001b[1;32mIn[15], line 10\u001b[1;36m\u001b[0m\n\u001b[1;33m    series.index--> defines the index of series\u001b[0m\n\u001b[1;37m                 ^\u001b[0m\n\u001b[1;31mSyntaxError\u001b[0m\u001b[1;31m:\u001b[0m invalid syntax\n"
     ]
    }
   ],
   "source": [
    "# #pandas - it is a data analysus abd data manipulation tool that is built\n",
    "# #on python\n",
    "# Data series \n",
    "# it is a 1D array capable of storing varios data types\n",
    "# it is possible to convert a list a tuple or a dicts into series using series\n",
    "# the row labels of series is called index\n",
    "\n",
    "\n",
    "#attributes that is used to get information about the series object\n",
    "# series.index--> defines the index of series\n",
    "# series.shape--> returns the tuple of shape of the data\n",
    "# series.dtype--> returns the data type of the data\n",
    "# series.size--> returns the size of the Series(data)\n",
    "# series.empty-->returns if the series is empty or not--> (true or false)"
   ]
  },
  {
   "cell_type": "code",
   "execution_count": 4,
   "id": "ad3ee856",
   "metadata": {},
   "outputs": [
    {
     "ename": "SyntaxError",
     "evalue": "invalid syntax (3870529943.py, line 2)",
     "output_type": "error",
     "traceback": [
      "\u001b[1;36m  Cell \u001b[1;32mIn[4], line 2\u001b[1;36m\u001b[0m\n\u001b[1;33m    <series_object>=pandas.series()\u001b[0m\n\u001b[1;37m    ^\u001b[0m\n\u001b[1;31mSyntaxError\u001b[0m\u001b[1;31m:\u001b[0m invalid syntax\n"
     ]
    }
   ],
   "source": [
    "#creating an empty dat series\n",
    "<series_object>=pandas.series()\n"
   ]
  },
  {
   "cell_type": "code",
   "execution_count": 8,
   "id": "d125269b",
   "metadata": {},
   "outputs": [
    {
     "name": "stdout",
     "output_type": "stream",
     "text": [
      "Series([], dtype: float64)\n",
      "0    I\n",
      "1    N\n",
      "2    D\n",
      "3    I\n",
      "4    A\n",
      "dtype: object\n",
      "D\n"
     ]
    },
    {
     "name": "stderr",
     "output_type": "stream",
     "text": [
      "C:\\Users\\Administrator.DESKTOP-S06Q1DV\\AppData\\Local\\Temp\\ipykernel_8540\\2366952654.py:2: FutureWarning: The default dtype for empty Series will be 'object' instead of 'float64' in a future version. Specify a dtype explicitly to silence this warning.\n",
      "  obj=pan.Series()\n"
     ]
    }
   ],
   "source": [
    "import pandas as pan\n",
    "obj=pan.Series()\n",
    "print(obj)\n",
    "#creating data series using numpy array\n",
    "import numpy as np\n",
    "info=np.array(['I','N','D','I','A'])#creation of data\n",
    "obj=pan.Series(info)#storing of data in obj\n",
    "print(obj)#used t oprint data series\n",
    "print(obj[2])#printing a caertain data from a set"
   ]
  },
  {
   "cell_type": "code",
   "execution_count": 11,
   "id": "2ee7ab52",
   "metadata": {},
   "outputs": [
    {
     "name": "stdout",
     "output_type": "stream",
     "text": [
      "cap        virat\n",
      "vicecap       KL\n",
      "keeper        DK\n",
      "hitman     rohit\n",
      "dtype: object\n",
      "virat\n"
     ]
    }
   ],
   "source": [
    "#creating using dict\n",
    "import pandas as pd\n",
    "team={'cap':'virat','vicecap':'KL','keeper':'DK','hitman':'rohit'}\n",
    "data=pd.Series(team)\n",
    "print(data)\n",
    "print(data['cap'])"
   ]
  },
  {
   "cell_type": "code",
   "execution_count": 14,
   "id": "0800e8e8",
   "metadata": {},
   "outputs": [
    {
     "name": "stdout",
     "output_type": "stream",
     "text": [
      "0    CSE\n",
      "3    CSE\n",
      "4    CSE\n",
      "dtype: object\n"
     ]
    }
   ],
   "source": [
    "# creating data using scalar\n",
    "dept = pan.Series('CSE',index=[0,3,4])\n",
    "print(dept)"
   ]
  },
  {
   "cell_type": "code",
   "execution_count": 23,
   "id": "0d7cd0c3",
   "metadata": {},
   "outputs": [
    {
     "name": "stdout",
     "output_type": "stream",
     "text": [
      "RangeIndex(start=0, stop=4, step=1)\n",
      "[12 'Test' '654' 'False']\n",
      "object\n",
      "int64\n",
      "4\n"
     ]
    }
   ],
   "source": [
    "import pandas as pd\n",
    "import numpy as np\n",
    "mydata=pd.Series(data=[12,'Test','654','False'])\n",
    "mydata1=pd.Series(data=[12,64,82,95])\n",
    "# series.index--> defines the index of series\n",
    "print(mydata.index)# ranges printing -->RangeIndex(start=0, stop=4, step=1)\n",
    "#series.values--> returns values of data\n",
    "print(mydata.values)#values returned\n",
    "# series.shape--> returns the tuple of shape of the data\n",
    "# series.dtype--> returns the data type of the data\n",
    "print(mydata.dtype)#type (object) returned\n",
    "print(mydata1.dtype)#type (int64) returned\n",
    "# series.size--> returns the size of the Series(data)\n",
    "print(mydata.size)#size(4) returned\n",
    "# series.empty-->returns if the series is empty or not--> (true or false)"
   ]
  },
  {
   "cell_type": "code",
   "execution_count": 32,
   "id": "fa0741ba",
   "metadata": {},
   "outputs": [
    {
     "name": "stdout",
     "output_type": "stream",
     "text": [
      "0          color\n",
      "1            NaN\n",
      "2            NaN\n",
      "3            NaN\n",
      "4    MyFavNumber\n",
      "5            NaN\n",
      "6            NaN\n",
      "dtype: object\n",
      "2.2314999074019015\n",
      "0    mon\n",
      "1    tue\n",
      "2    wed\n",
      "3    thu\n",
      "4    fri\n",
      "5    sat\n",
      "6    sun\n",
      "Name: Days_of_the_week, dtype: object\n",
      "  Days_of_the_week\n",
      "0              mon\n",
      "1              tue\n",
      "2              wed\n",
      "3              thu\n",
      "4              fri\n",
      "5              sat\n",
      "6              sun\n"
     ]
    }
   ],
   "source": [
    "# Functinalities / Actions / Behaviour /methods\n",
    "# map() -->maps the values from the two series that have a common coloumn\n",
    "myseries=pan.Series(['violet','blue','indigo','blue',1234,5678.6,True])\n",
    "print(myseries.map({'violet':'color',1234:'MyFavNumber'}))\n",
    "# std() -->calculate the standard deviation\n",
    "print(np.std([4,5,7,8,1,6,3]))\n",
    "#to_frame()-->covert the series to data fram\n",
    "data=pan.Series(['mon','tue','wed','thu','fri','sat','sun'],name='Days_of_the_week')\n",
    "print(data)\n",
    "data_frame=data.to_frame()\n",
    "print(data_frame)\n",
    "#value_counts--> returns a series that contains the counts of unique values\n"
   ]
  },
  {
   "cell_type": "code",
   "execution_count": 33,
   "id": "7f96b071",
   "metadata": {},
   "outputs": [
    {
     "name": "stdout",
     "output_type": "stream",
     "text": [
      "Collecting matplotlib\n",
      "  Downloading matplotlib-3.7.1-cp310-cp310-win_amd64.whl (7.6 MB)\n",
      "     ---------------------------------------- 7.6/7.6 MB 18.0 MB/s eta 0:00:00\n",
      "Collecting cycler>=0.10\n",
      "  Downloading cycler-0.11.0-py3-none-any.whl (6.4 kB)\n",
      "Collecting fonttools>=4.22.0\n",
      "  Downloading fonttools-4.39.2-py3-none-any.whl (1.0 MB)\n",
      "     ---------------------------------------- 1.0/1.0 MB 21.2 MB/s eta 0:00:00\n",
      "Requirement already satisfied: numpy>=1.20 in c:\\programdata\\anaconda3\\envs\\pythonk\\lib\\site-packages (from matplotlib) (1.24.2)\n",
      "Collecting pyparsing>=2.3.1\n",
      "  Downloading pyparsing-3.0.9-py3-none-any.whl (98 kB)\n",
      "     ---------------------------------------- 98.3/98.3 kB 2.8 MB/s eta 0:00:00\n",
      "Requirement already satisfied: python-dateutil>=2.7 in c:\\programdata\\anaconda3\\envs\\pythonk\\lib\\site-packages (from matplotlib) (2.8.2)\n",
      "Collecting kiwisolver>=1.0.1\n",
      "  Downloading kiwisolver-1.4.4-cp310-cp310-win_amd64.whl (55 kB)\n",
      "     ---------------------------------------- 55.3/55.3 kB 3.0 MB/s eta 0:00:00\n",
      "Requirement already satisfied: packaging>=20.0 in c:\\programdata\\anaconda3\\envs\\pythonk\\lib\\site-packages (from matplotlib) (22.0)\n",
      "Collecting pillow>=6.2.0\n",
      "  Downloading Pillow-9.4.0-cp310-cp310-win_amd64.whl (2.5 MB)\n",
      "     ---------------------------------------- 2.5/2.5 MB 13.1 MB/s eta 0:00:00\n",
      "Collecting contourpy>=1.0.1\n",
      "  Downloading contourpy-1.0.7-cp310-cp310-win_amd64.whl (162 kB)\n",
      "     -------------------------------------- 163.0/163.0 kB 4.8 MB/s eta 0:00:00\n",
      "Requirement already satisfied: six>=1.5 in c:\\programdata\\anaconda3\\envs\\pythonk\\lib\\site-packages (from python-dateutil>=2.7->matplotlib) (1.16.0)\n",
      "Installing collected packages: pyparsing, pillow, kiwisolver, fonttools, cycler, contourpy, matplotlib\n",
      "Successfully installed contourpy-1.0.7 cycler-0.11.0 fonttools-4.39.2 kiwisolver-1.4.4 matplotlib-3.7.1 pillow-9.4.0 pyparsing-3.0.9\n",
      "Note: you may need to restart the kernel to use updated packages.\n"
     ]
    }
   ],
   "source": [
    "pip install matplotlib"
   ]
  },
  {
   "cell_type": "code",
   "execution_count": 10,
   "id": "ab0db813",
   "metadata": {},
   "outputs": [
    {
     "name": "stdout",
     "output_type": "stream",
     "text": [
      "  student Name  Roll Number\n",
      "0       Thomas          103\n",
      "1       Walter          105\n",
      "2        Tyler          120\n",
      "3        Bruce          193\n",
      "4      Patrick          111\n",
      "100    3\n",
      "200    2\n",
      "25     2\n",
      "300    1\n",
      "600    1\n",
      "488    1\n",
      "848    1\n",
      "dtype: int64\n"
     ]
    }
   ],
   "source": [
    "# import matplotlib.pyplot as plt\n",
    "import pandas as pan\n",
    "student=['Thomas','Walter','Tyler','Bruce','Patrick']\n",
    "roll=[103,105,120,193,111]\n",
    "stu_series=pan.Series(student)\n",
    "roll_series=pan.Series(roll)\n",
    "studentframe={'student Name':stu_series,'Roll Number':roll_series}\n",
    "fin_data=pan.DataFrame(studentframe)\n",
    "print(fin_data)\n",
    "valueinfo=pan.Index([100,100,100,200,25,25,200,300,600,488,848])\n",
    "print(valueinfo.value_counts())"
   ]
  },
  {
   "cell_type": "code",
   "execution_count": null,
   "id": "3f6d2294",
   "metadata": {},
   "outputs": [],
   "source": [
    "#create  a data frame of human population\n",
    "\"\"\"\n",
    "\n",
    "\n",
    "\n",
    "population Area\n",
    "rdnum      Bangalore\n",
    "rdnum      Delhi\n",
    "\"\"\""
   ]
  },
  {
   "cell_type": "code",
   "execution_count": 12,
   "id": "0a2771ca",
   "metadata": {},
   "outputs": [
    {
     "name": "stdout",
     "output_type": "stream",
     "text": [
      "   Population         Area\n",
      "0         100   Birmingham\n",
      "1         100  Alberqerque\n",
      "2         200     New york\n",
      "3         250       Gotham\n",
      "4         250  Wall Street\n",
      "100    2\n",
      "250    2\n",
      "200    1\n",
      "dtype: int64\n"
     ]
    }
   ],
   "source": [
    "import matplotlib.pyplot as plt\n",
    "import random as rd\n",
    "import pandas as pd\n",
    "city=['Birmingham','Alberqerque','New york','Gotham','Wall Street']\n",
    "pop=[100,100,200,250,250]\n",
    "city_series=pan.Series(city)\n",
    "pop_series=pan.Series(pop)\n",
    "popu_frame={'Population':pop_series,'Area':city_series}\n",
    "findata=pan.DataFrame(popu_frame)    \n",
    "print(findata)\n",
    "print(pop_series.value_counts())\n"
   ]
  },
  {
   "cell_type": "raw",
   "id": "025f98c4",
   "metadata": {},
   "source": []
  },
  {
   "cell_type": "code",
   "execution_count": 4,
   "id": "5b8abcf5",
   "metadata": {},
   "outputs": [
    {
     "name": "stdout",
     "output_type": "stream",
     "text": [
      "       0\n",
      "0    red\n",
      "1  green\n",
      "2   blue\n",
      "    0\n",
      "  red\n",
      "green\n",
      " blue\n"
     ]
    }
   ],
   "source": [
    "import pandas\n",
    "mydataframe=pandas.DataFrame(['red','green','blue'])\n",
    "print(mydataframe)\n",
    "print(mydataframe.to_string(index=False))"
   ]
  },
  {
   "cell_type": "code",
   "execution_count": 7,
   "id": "527d91e6",
   "metadata": {},
   "outputs": [
    {
     "name": "stdout",
     "output_type": "stream",
     "text": [
      "   rollno  Dept\n",
      "0      10   ECE\n",
      "1      20   EEE\n",
      "2      30   CSE\n",
      "3      40   E&I\n",
      "4      50  Mech\n"
     ]
    }
   ],
   "source": [
    "#creating using dicts\n",
    "mydata={'rollno':[10,20,30,40,50,],'Dept':['ECE','EEE','CSE','E&I','Mech']}\n",
    "mf=pandas.DataFrame(mydata)\n",
    "print(mf)"
   ]
  },
  {
   "cell_type": "code",
   "execution_count": 11,
   "id": "ec106cc4",
   "metadata": {},
   "outputs": [
    {
     "name": "stdout",
     "output_type": "stream",
     "text": [
      "     Average\n",
      "I      56.45\n",
      "II     45.56\n",
      "III    67.34\n",
      "IV     86.78\n",
      "V      98.45\n"
     ]
    },
    {
     "ename": "ValueError",
     "evalue": "Length of values (4) does not match length of index (5)",
     "output_type": "error",
     "traceback": [
      "\u001b[1;31m---------------------------------------------------------------------------\u001b[0m",
      "\u001b[1;31mValueError\u001b[0m                                Traceback (most recent call last)",
      "Cell \u001b[1;32mIn[11], line 5\u001b[0m\n\u001b[0;32m      3\u001b[0m \u001b[38;5;28mprint\u001b[39m(mydf)\n\u001b[0;32m      4\u001b[0m \u001b[38;5;66;03m#adding new data\u001b[39;00m\n\u001b[1;32m----> 5\u001b[0m mydf[\u001b[38;5;124m'\u001b[39m\u001b[38;5;124mheight\u001b[39m\u001b[38;5;124m'\u001b[39m]\u001b[38;5;241m=\u001b[39m\u001b[43mpandas\u001b[49m\u001b[38;5;241;43m.\u001b[39;49m\u001b[43mSeries\u001b[49m\u001b[43m(\u001b[49m\u001b[43m[\u001b[49m\u001b[38;5;124;43m'\u001b[39;49m\u001b[38;5;124;43m6.5 Ft\u001b[39;49m\u001b[38;5;124;43m'\u001b[39;49m\u001b[43m,\u001b[49m\u001b[38;5;124;43m'\u001b[39;49m\u001b[38;5;124;43m8.45 Ft\u001b[39;49m\u001b[38;5;124;43m'\u001b[39;49m\u001b[43m,\u001b[49m\u001b[38;5;124;43m'\u001b[39;49m\u001b[38;5;124;43m5.11 Ft\u001b[39;49m\u001b[38;5;124;43m'\u001b[39;49m\u001b[43m,\u001b[49m\u001b[38;5;124;43m'\u001b[39;49m\u001b[38;5;124;43m8 Ft\u001b[39;49m\u001b[38;5;124;43m'\u001b[39;49m\u001b[43m]\u001b[49m\u001b[43m,\u001b[49m\u001b[43mindex\u001b[49m\u001b[38;5;241;43m=\u001b[39;49m\u001b[43m[\u001b[49m\u001b[38;5;124;43m'\u001b[39;49m\u001b[38;5;124;43mone\u001b[39;49m\u001b[38;5;124;43m'\u001b[39;49m\u001b[43m,\u001b[49m\u001b[38;5;124;43m'\u001b[39;49m\u001b[38;5;124;43mtwo\u001b[39;49m\u001b[38;5;124;43m'\u001b[39;49m\u001b[43m,\u001b[49m\u001b[38;5;124;43m'\u001b[39;49m\u001b[38;5;124;43mthree\u001b[39;49m\u001b[38;5;124;43m'\u001b[39;49m\u001b[43m,\u001b[49m\u001b[38;5;124;43m'\u001b[39;49m\u001b[38;5;124;43mfour\u001b[39;49m\u001b[38;5;124;43m'\u001b[39;49m\u001b[43m,\u001b[49m\u001b[38;5;124;43m'\u001b[39;49m\u001b[38;5;124;43mfive\u001b[39;49m\u001b[38;5;124;43m'\u001b[39;49m\u001b[43m]\u001b[49m\u001b[43m)\u001b[49m\n\u001b[0;32m      6\u001b[0m \u001b[38;5;28mprint\u001b[39m(mydf)\n",
      "File \u001b[1;32mC:\\ProgramData\\Anaconda3\\envs\\pythonk\\lib\\site-packages\\pandas\\core\\series.py:461\u001b[0m, in \u001b[0;36mSeries.__init__\u001b[1;34m(self, data, index, dtype, name, copy, fastpath)\u001b[0m\n\u001b[0;32m    459\u001b[0m     index \u001b[38;5;241m=\u001b[39m default_index(\u001b[38;5;28mlen\u001b[39m(data))\n\u001b[0;32m    460\u001b[0m \u001b[38;5;28;01melif\u001b[39;00m is_list_like(data):\n\u001b[1;32m--> 461\u001b[0m     \u001b[43mcom\u001b[49m\u001b[38;5;241;43m.\u001b[39;49m\u001b[43mrequire_length_match\u001b[49m\u001b[43m(\u001b[49m\u001b[43mdata\u001b[49m\u001b[43m,\u001b[49m\u001b[43m \u001b[49m\u001b[43mindex\u001b[49m\u001b[43m)\u001b[49m\n\u001b[0;32m    463\u001b[0m \u001b[38;5;66;03m# create/copy the manager\u001b[39;00m\n\u001b[0;32m    464\u001b[0m \u001b[38;5;28;01mif\u001b[39;00m \u001b[38;5;28misinstance\u001b[39m(data, (SingleBlockManager, SingleArrayManager)):\n",
      "File \u001b[1;32mC:\\ProgramData\\Anaconda3\\envs\\pythonk\\lib\\site-packages\\pandas\\core\\common.py:571\u001b[0m, in \u001b[0;36mrequire_length_match\u001b[1;34m(data, index)\u001b[0m\n\u001b[0;32m    567\u001b[0m \u001b[38;5;124;03m\"\"\"\u001b[39;00m\n\u001b[0;32m    568\u001b[0m \u001b[38;5;124;03mCheck the length of data matches the length of the index.\u001b[39;00m\n\u001b[0;32m    569\u001b[0m \u001b[38;5;124;03m\"\"\"\u001b[39;00m\n\u001b[0;32m    570\u001b[0m \u001b[38;5;28;01mif\u001b[39;00m \u001b[38;5;28mlen\u001b[39m(data) \u001b[38;5;241m!=\u001b[39m \u001b[38;5;28mlen\u001b[39m(index):\n\u001b[1;32m--> 571\u001b[0m     \u001b[38;5;28;01mraise\u001b[39;00m \u001b[38;5;167;01mValueError\u001b[39;00m(\n\u001b[0;32m    572\u001b[0m         \u001b[38;5;124m\"\u001b[39m\u001b[38;5;124mLength of values \u001b[39m\u001b[38;5;124m\"\u001b[39m\n\u001b[0;32m    573\u001b[0m         \u001b[38;5;124mf\u001b[39m\u001b[38;5;124m\"\u001b[39m\u001b[38;5;124m(\u001b[39m\u001b[38;5;132;01m{\u001b[39;00m\u001b[38;5;28mlen\u001b[39m(data)\u001b[38;5;132;01m}\u001b[39;00m\u001b[38;5;124m) \u001b[39m\u001b[38;5;124m\"\u001b[39m\n\u001b[0;32m    574\u001b[0m         \u001b[38;5;124m\"\u001b[39m\u001b[38;5;124mdoes not match length of index \u001b[39m\u001b[38;5;124m\"\u001b[39m\n\u001b[0;32m    575\u001b[0m         \u001b[38;5;124mf\u001b[39m\u001b[38;5;124m\"\u001b[39m\u001b[38;5;124m(\u001b[39m\u001b[38;5;132;01m{\u001b[39;00m\u001b[38;5;28mlen\u001b[39m(index)\u001b[38;5;132;01m}\u001b[39;00m\u001b[38;5;124m)\u001b[39m\u001b[38;5;124m\"\u001b[39m\n\u001b[0;32m    576\u001b[0m     )\n",
      "\u001b[1;31mValueError\u001b[0m: Length of values (4) does not match length of index (5)"
     ]
    }
   ],
   "source": [
    "avg={'Average':pandas.Series([56.45,45.56,67.34,86.78,98.45],index=['I','II','III','IV','V'])}\n",
    "mydf=pandas.DataFrame(avg)\n",
    "print(mydf)\n",
    "#adding new data\n",
    "mydf['height']=pandas.Series(['6.5 Ft','8.45 Ft','5.11 Ft','8 Ft'],index=['one','two','three','four','five'])\n",
    "print(mydf)"
   ]
  },
  {
   "cell_type": "code",
   "execution_count": 25,
   "id": "7484d2bf",
   "metadata": {},
   "outputs": [
    {
     "name": "stdout",
     "output_type": "stream",
     "text": [
      "       RADIUS    length   breadth\n",
      "A         NaN  8.718758       NaN\n",
      "B         NaN  7.799115       NaN\n",
      "C         NaN  7.993947       NaN\n",
      "D         NaN  7.898385       NaN\n",
      "E         NaN  7.111297       NaN\n",
      "I    8.718758       NaN       NaN\n",
      "II   7.799115       NaN       NaN\n",
      "III  7.993947       NaN       NaN\n",
      "IV   7.898385       NaN       NaN\n",
      "V    7.111297       NaN       NaN\n",
      "1         NaN       NaN  8.718758\n",
      "2         NaN       NaN  7.799115\n",
      "3         NaN       NaN  7.993947\n",
      "4         NaN       NaN  7.898385\n",
      "5         NaN       NaN  7.111297\n"
     ]
    }
   ],
   "source": [
    "# #create a data frame that consists of various information of 5 different circle\n",
    "# and name the index as a,b,c,d,e , add length and breadth of a rectangle to th existing fram\n",
    "# the radius, length and breadth must be a floating point value tht is generated randomly\n",
    "import pandas as pd\n",
    "import random as rd\n",
    "radius=[rd.uniform(5,10) for i in range(5)]\n",
    "mydata={\"RADIUS\":pd.Series(radius,index=['I','II','III','IV','V'])}\n",
    "mydata['length']=pd.Series(radius,index=['A','B','C','D','E'])\n",
    "mydata['breadth']=pd.Series(radius,index=[1,2,3,4,5])\n",
    "print(pd.DataFrame(mydata))"
   ]
  },
  {
   "cell_type": "code",
   "execution_count": 60,
   "id": "902c42ad",
   "metadata": {},
   "outputs": [
    {
     "name": "stdout",
     "output_type": "stream",
     "text": [
      "     RADIUS    length   breadth  Area of Rectangle  Area of Circlee\n",
      "A  8.756845  7.047165  9.469102          66.730328       240.782527\n",
      "B  6.612797  5.509352  6.775336          37.327715       137.309319\n",
      "C  9.722040  8.387462  8.382967          70.311814       296.786690\n"
     ]
    }
   ],
   "source": [
    "# #create a data frame that consists of various information of 5 different circle\n",
    "# and name the index as a,b,c,d,e , add length and breadth of a rectangle to th existing fram\n",
    "# the radius, length and breadth must be a floating point value tht is generated randomly\n",
    "import pandas as pd\n",
    "import random as rd\n",
    "radius=[rd.uniform(5,10) for i in range(5)]\n",
    "length=[rd.uniform(5,10) for i in range(5)]\n",
    "breadth=[rd.uniform(5,10) for i in range(5)]\n",
    "mydata={\"RADIUS\":pd.Series(radius,index=['A','B','C','D','E'])}\n",
    "mydata['length']=pd.Series(length,index=['A','B','C','D','E'])\n",
    "mydata['breadth']=pd.Series(breadth,index=['A','B','C','D','E'])\n",
    "mydata['Area of Rectangle']=pd.Series(mydata['length']*mydata['breadth'],index=['A','B','C','D','E'])\n",
    "mydata['Area of Circlee']=pd.Series(mydata['RADIUS']**2*3.14,index=['A','B','C','D','E'])\n",
    "mydata['Area of Triangle']=pd.Series(mydata['length']*mydata['breadth']*0.5,index=['A','B','C','D','E'])\n",
    "del mydata['Area of Triangle']\n",
    "mf = pd.DataFrame(mydata)\n",
    "# print(mf)\n",
    "\n",
    "print(mf.loc['A':'C'])\n",
    "# print(mf.iloc[2])"
   ]
  },
  {
   "cell_type": "code",
   "execution_count": 37,
   "id": "91ddff71",
   "metadata": {},
   "outputs": [
    {
     "data": {
      "text/plain": [
       "{'RADIUS': A    7.725931\n",
       " B    9.244461\n",
       " C    9.562295\n",
       " D    8.767857\n",
       " E    8.941699\n",
       " dtype: float64,\n",
       " 'length': A    7.077528\n",
       " B    8.359188\n",
       " C    9.637225\n",
       " D    8.063448\n",
       " E    5.324728\n",
       " dtype: float64,\n",
       " 'breadth': A    5.230574\n",
       " B    7.951653\n",
       " C    5.925089\n",
       " D    5.143882\n",
       " E    8.141512\n",
       " dtype: float64,\n",
       " 'Area of Rectangle': A    37.019533\n",
       " B    66.469361\n",
       " C    57.101417\n",
       " D    41.477424\n",
       " E    43.351332\n",
       " dtype: float64,\n",
       " 'Area of Circlee': A    187.426607\n",
       " B    268.344564\n",
       " C    287.113721\n",
       " D    241.388495\n",
       " E    251.055487\n",
       " dtype: float64}"
      ]
     },
     "execution_count": 37,
     "metadata": {},
     "output_type": "execute_result"
    }
   ],
   "source": [
    "mydata"
   ]
  },
  {
   "cell_type": "code",
   "execution_count": 61,
   "id": "6abcf395",
   "metadata": {},
   "outputs": [
    {
     "data": {
      "text/html": [
       "<div>\n",
       "<style scoped>\n",
       "    .dataframe tbody tr th:only-of-type {\n",
       "        vertical-align: middle;\n",
       "    }\n",
       "\n",
       "    .dataframe tbody tr th {\n",
       "        vertical-align: top;\n",
       "    }\n",
       "\n",
       "    .dataframe thead th {\n",
       "        text-align: right;\n",
       "    }\n",
       "</style>\n",
       "<table border=\"1\" class=\"dataframe\">\n",
       "  <thead>\n",
       "    <tr style=\"text-align: right;\">\n",
       "      <th></th>\n",
       "      <th>RADIUS</th>\n",
       "      <th>length</th>\n",
       "      <th>breadth</th>\n",
       "      <th>Area of Rectangle</th>\n",
       "      <th>Area of Circlee</th>\n",
       "    </tr>\n",
       "  </thead>\n",
       "  <tbody>\n",
       "    <tr>\n",
       "      <th>A</th>\n",
       "      <td>8.756845</td>\n",
       "      <td>7.047165</td>\n",
       "      <td>9.469102</td>\n",
       "      <td>66.730328</td>\n",
       "      <td>240.782527</td>\n",
       "    </tr>\n",
       "    <tr>\n",
       "      <th>B</th>\n",
       "      <td>6.612797</td>\n",
       "      <td>5.509352</td>\n",
       "      <td>6.775336</td>\n",
       "      <td>37.327715</td>\n",
       "      <td>137.309319</td>\n",
       "    </tr>\n",
       "  </tbody>\n",
       "</table>\n",
       "</div>"
      ],
      "text/plain": [
       "     RADIUS    length   breadth  Area of Rectangle  Area of Circlee\n",
       "A  8.756845  7.047165  9.469102          66.730328       240.782527\n",
       "B  6.612797  5.509352  6.775336          37.327715       137.309319"
      ]
     },
     "execution_count": 61,
     "metadata": {},
     "output_type": "execute_result"
    }
   ],
   "source": [
    "mf.iloc[0:2]"
   ]
  },
  {
   "cell_type": "code",
   "execution_count": null,
   "id": "e85c6407",
   "metadata": {},
   "outputs": [],
   "source": [
    "\\"
   ]
  }
 ],
 "metadata": {
  "kernelspec": {
   "display_name": "Python 3 (ipykernel)",
   "language": "python",
   "name": "python3"
  },
  "language_info": {
   "codemirror_mode": {
    "name": "ipython",
    "version": 3
   },
   "file_extension": ".py",
   "mimetype": "text/x-python",
   "name": "python",
   "nbconvert_exporter": "python",
   "pygments_lexer": "ipython3",
   "version": "3.10.9"
  }
 },
 "nbformat": 4,
 "nbformat_minor": 5
}

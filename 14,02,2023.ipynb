{
 "cells": [
  {
   "cell_type": "markdown",
   "id": "397930a4",
   "metadata": {},
   "source": [
    "# basics of python"
   ]
  },
  {
   "cell_type": "code",
   "execution_count": 1,
   "id": "5cccc29d",
   "metadata": {},
   "outputs": [
    {
     "name": "stdout",
     "output_type": "stream",
     "text": [
      "Enter the number5\n",
      "Good Morning\n",
      "Good Morning\n",
      "Good Morning\n",
      "Good Morning\n",
      "Good Morning\n"
     ]
    }
   ],
   "source": [
    "a=int(input(\"Enter the number\"))\n",
    "for i in range(a):\n",
    "    print(\"Good Morning\")"
   ]
  },
  {
   "cell_type": "code",
   "execution_count": 3,
   "id": "3873f1ef",
   "metadata": {},
   "outputs": [
    {
     "name": "stdout",
     "output_type": "stream",
     "text": [
      "Enter the number4\n",
      "Enter the number3\n",
      "Enter the number6\n",
      "smallest  3\n"
     ]
    }
   ],
   "source": [
    "a=int(input(\"Enter the number\"))\n",
    "b=int(input(\"Enter the number\"))\n",
    "c=int(input(\"Enter the number\"))\n",
    "if a>b and\\\n",
    "c>b:\n",
    "    print(\"smallest \",b)"
   ]
  },
  {
   "cell_type": "code",
   "execution_count": 9,
   "id": "89ea6524",
   "metadata": {},
   "outputs": [
    {
     "name": "stdout",
     "output_type": "stream",
     "text": [
      "Enter two numbers0 0\n",
      "Enter proper numbers\n"
     ]
    }
   ],
   "source": [
    "try:\n",
    "    a,b=input(\"Enter two numbers\").split()\n",
    "    r=int(a)/int(b)\n",
    "    print(\"{}/{}={}\".format(a,b,r))\n",
    "except:\n",
    "    print(\"Enter proper numbers\")"
   ]
  },
  {
   "cell_type": "markdown",
   "id": "91b13453",
   "metadata": {},
   "source": [
    " a,b=input(\"Enter two numbers\").split()\n",
    " r=int(a)/int(b)\n",
    " print(\"{}/{}={}\".format(a,b,r))"
   ]
  },
  {
   "cell_type": "code",
   "execution_count": 10,
   "id": "892bb4f1",
   "metadata": {},
   "outputs": [
    {
     "name": "stdout",
     "output_type": "stream",
     "text": [
      "Enter two numbers5 0 \n"
     ]
    },
    {
     "ename": "ZeroDivisionError",
     "evalue": "division by zero",
     "output_type": "error",
     "traceback": [
      "\u001b[1;31m---------------------------------------------------------------------------\u001b[0m",
      "\u001b[1;31mZeroDivisionError\u001b[0m                         Traceback (most recent call last)",
      "Cell \u001b[1;32mIn[10], line 2\u001b[0m\n\u001b[0;32m      1\u001b[0m a,b\u001b[38;5;241m=\u001b[39m\u001b[38;5;28minput\u001b[39m(\u001b[38;5;124m\"\u001b[39m\u001b[38;5;124mEnter two numbers\u001b[39m\u001b[38;5;124m\"\u001b[39m)\u001b[38;5;241m.\u001b[39msplit()\n\u001b[1;32m----> 2\u001b[0m r\u001b[38;5;241m=\u001b[39m\u001b[38;5;28;43mint\u001b[39;49m\u001b[43m(\u001b[49m\u001b[43ma\u001b[49m\u001b[43m)\u001b[49m\u001b[38;5;241;43m/\u001b[39;49m\u001b[38;5;28;43mint\u001b[39;49m\u001b[43m(\u001b[49m\u001b[43mb\u001b[49m\u001b[43m)\u001b[49m\n\u001b[0;32m      3\u001b[0m \u001b[38;5;28mprint\u001b[39m(\u001b[38;5;124m\"\u001b[39m\u001b[38;5;132;01m{}\u001b[39;00m\u001b[38;5;124m/\u001b[39m\u001b[38;5;132;01m{}\u001b[39;00m\u001b[38;5;124m=\u001b[39m\u001b[38;5;132;01m{}\u001b[39;00m\u001b[38;5;124m\"\u001b[39m\u001b[38;5;241m.\u001b[39mformat(a,b,r))\n",
      "\u001b[1;31mZeroDivisionError\u001b[0m: division by zero"
     ]
    }
   ],
   "source": [
    "    a,b=input(\"Enter two numbers\").split()\n",
    "    r=int(a)/int(b)\n",
    "    print(\"{}/{}={}\".format(a,b,r))"
   ]
  },
  {
   "cell_type": "code",
   "execution_count": 11,
   "id": "dcb0cbaf",
   "metadata": {},
   "outputs": [
    {
     "name": "stdout",
     "output_type": "stream",
     "text": [
      "Enter two numberstwo 9\n"
     ]
    },
    {
     "ename": "ValueError",
     "evalue": "invalid literal for int() with base 10: 'two'",
     "output_type": "error",
     "traceback": [
      "\u001b[1;31m---------------------------------------------------------------------------\u001b[0m",
      "\u001b[1;31mValueError\u001b[0m                                Traceback (most recent call last)",
      "Cell \u001b[1;32mIn[11], line 2\u001b[0m\n\u001b[0;32m      1\u001b[0m a,b\u001b[38;5;241m=\u001b[39m\u001b[38;5;28minput\u001b[39m(\u001b[38;5;124m\"\u001b[39m\u001b[38;5;124mEnter two numbers\u001b[39m\u001b[38;5;124m\"\u001b[39m)\u001b[38;5;241m.\u001b[39msplit()\n\u001b[1;32m----> 2\u001b[0m r\u001b[38;5;241m=\u001b[39m\u001b[38;5;28;43mint\u001b[39;49m\u001b[43m(\u001b[49m\u001b[43ma\u001b[49m\u001b[43m)\u001b[49m\u001b[38;5;241m/\u001b[39m\u001b[38;5;28mint\u001b[39m(b)\n\u001b[0;32m      3\u001b[0m \u001b[38;5;28mprint\u001b[39m(\u001b[38;5;124m\"\u001b[39m\u001b[38;5;132;01m{}\u001b[39;00m\u001b[38;5;124m/\u001b[39m\u001b[38;5;132;01m{}\u001b[39;00m\u001b[38;5;124m=\u001b[39m\u001b[38;5;132;01m{}\u001b[39;00m\u001b[38;5;124m\"\u001b[39m\u001b[38;5;241m.\u001b[39mformat(a,b,r))\n",
      "\u001b[1;31mValueError\u001b[0m: invalid literal for int() with base 10: 'two'"
     ]
    }
   ],
   "source": [
    "    a,b=input(\"Enter two numbers\").split()\n",
    "    r=int(a)/int(b)\n",
    "    print(\"{}/{}={}\".format(a,b,r))"
   ]
  },
  {
   "cell_type": "code",
   "execution_count": 14,
   "id": "01a989e1",
   "metadata": {},
   "outputs": [
    {
     "name": "stdout",
     "output_type": "stream",
     "text": [
      "Enter Detils\n",
      "Enter name of the school and ur namekv harish\n",
      "Enter roll no. and section04 cv\n",
      "Enter address line 1 and line 2xxx yyy\n",
      "Enter city and pin codebang 560033\n",
      "parent contact7856858484\n",
      "class: x\n",
      "\t kv\n",
      "student name:  harish \t\tRoll No:  04\n",
      "class: x \t\tSection:  cv\n",
      "Adress:  xxx \n",
      "\t yyy \t\t Pin Code:  560033\n",
      "Guardian's Contact Number:  7856858484\n"
     ]
    }
   ],
   "source": [
    "print(\"Enter Detils\")\n",
    "try:\n",
    "    school,name=input(\"Enter name of the school and ur name\").split()\n",
    "    roll,sec=input(\"Enter roll no. and section\").split()\n",
    "    add1,add2=input(\"Enter address line 1 and line 2\").split()\n",
    "    city,pin=input(\"Enter city and pin code\").split()\n",
    "    contact=int(input(\"parent contact\"))\n",
    "    clas=input(\"class: \")\n",
    "    print(\"\\t\",school)\n",
    "    print(\"student name: \",name,end=\" \")\n",
    "    print(\"\\t\\tRoll No: \",roll)\n",
    "    print(\"class:\",clas,end=\" \")\n",
    "    print(\"\\t\\tSection: \",sec)\n",
    "    print(\"Adress: \",add1,\"\\n\\t\",add2,end=\" \")\n",
    "    print(\"\\t\\t Pin Code: \",pin)\n",
    "    print(\"Guardian's Contact Number: \",contact)\n",
    "except:\n",
    "    print(\"Improper input\")"
   ]
  },
  {
   "cell_type": "code",
   "execution_count": 20,
   "id": "7eff1260",
   "metadata": {},
   "outputs": [
    {
     "name": "stdout",
     "output_type": "stream",
     "text": [
      "100\n",
      "5050\n"
     ]
    }
   ],
   "source": [
    "print(int(100))\n",
    "print(str(50)+\"50\")"
   ]
  },
  {
   "cell_type": "code",
   "execution_count": 25,
   "id": "1d412b74",
   "metadata": {},
   "outputs": [
    {
     "name": "stdout",
     "output_type": "stream",
     "text": [
      "1000\n"
     ]
    }
   ],
   "source": [
    "'1'\n",
    "'0'\n",
    "'0'\n",
    "'0'\n",
    "print(int('1'+'0'+'0'+'0'))\n"
   ]
  },
  {
   "cell_type": "code",
   "execution_count": 3,
   "id": "cc102a9d",
   "metadata": {},
   "outputs": [
    {
     "name": "stdout",
     "output_type": "stream",
     "text": [
      "Enter the number of numbers5\n",
      "2\n",
      "3\n",
      "-5\n",
      "10\n"
     ]
    }
   ],
   "source": [
    "# find the sum of all positive number till user enters negative number\n",
    "n=int(input(\"Enter the number of numbers\"))\n",
    "a=[]\n",
    "sum=0\n",
    "for i in range(n):\n",
    "    ele=int(input())\n",
    "    if(ele<0):\n",
    "        break\n",
    "    a.append(ele)\n",
    "for i in range(n):\n",
    "    sum+=i    \n",
    "print(sum)        "
   ]
  },
  {
   "cell_type": "code",
   "execution_count": 4,
   "id": "6feb6494",
   "metadata": {},
   "outputs": [
    {
     "name": "stdout",
     "output_type": "stream",
     "text": [
      "['False', 'None', 'True', 'and', 'as', 'assert', 'async', 'await', 'break', 'class', 'continue', 'def', 'del', 'elif', 'else', 'except', 'finally', 'for', 'from', 'global', 'if', 'import', 'in', 'is', 'lambda', 'nonlocal', 'not', 'or', 'pass', 'raise', 'return', 'try', 'while', 'with', 'yield']\n"
     ]
    }
   ],
   "source": [
    "import keyword\n",
    "print(keyword.kwlist)"
   ]
  },
  {
   "cell_type": "code",
   "execution_count": 6,
   "id": "d3eac03d",
   "metadata": {},
   "outputs": [
    {
     "ename": "AttributeError",
     "evalue": "module 'random' has no attribute 'list'",
     "output_type": "error",
     "traceback": [
      "\u001b[1;31m---------------------------------------------------------------------------\u001b[0m",
      "\u001b[1;31mAttributeError\u001b[0m                            Traceback (most recent call last)",
      "Cell \u001b[1;32mIn[6], line 2\u001b[0m\n\u001b[0;32m      1\u001b[0m \u001b[38;5;28;01mimport\u001b[39;00m \u001b[38;5;21;01mrandom\u001b[39;00m\n\u001b[1;32m----> 2\u001b[0m \u001b[38;5;28mprint\u001b[39m(\u001b[43mrandom\u001b[49m\u001b[38;5;241;43m.\u001b[39;49m\u001b[43mlist\u001b[49m)\n",
      "\u001b[1;31mAttributeError\u001b[0m: module 'random' has no attribute 'list'"
     ]
    }
   ],
   "source": [
    "import random\n",
    "print(random.list)"
   ]
  },
  {
   "cell_type": "code",
   "execution_count": 7,
   "id": "2cce916d",
   "metadata": {},
   "outputs": [
    {
     "name": "stdout",
     "output_type": "stream",
     "text": [
      "30\n"
     ]
    }
   ],
   "source": [
    "x,y=10,20\n",
    "r=x+y\n",
    "print(r)"
   ]
  },
  {
   "cell_type": "code",
   "execution_count": 8,
   "id": "c3ec7c8a",
   "metadata": {},
   "outputs": [
    {
     "data": {
      "text/plain": [
       "True"
      ]
     },
     "execution_count": 8,
     "metadata": {},
     "output_type": "execute_result"
    }
   ],
   "source": [
    "30==30"
   ]
  },
  {
   "cell_type": "code",
   "execution_count": 11,
   "id": "5b6d3779",
   "metadata": {},
   "outputs": [
    {
     "name": "stdout",
     "output_type": "stream",
     "text": [
      "Area of rectangle:  1800\n"
     ]
    }
   ],
   "source": [
    "width,height=30,60\n",
    "print(\"Area of rectangle: \",width*height)"
   ]
  },
  {
   "cell_type": "code",
   "execution_count": 41,
   "id": "cf59f31c",
   "metadata": {},
   "outputs": [
    {
     "name": "stdout",
     "output_type": "stream",
     "text": [
      "Enter base: 3\n",
      "Enter height: 4\n",
      "Hyp=5.0\n"
     ]
    }
   ],
   "source": [
    "import math\n",
    "b=float(input(\"Enter base: \"))\n",
    "h=float(input(\"Enter height: \"))\n",
    "print(\"Hyp={}\".format(math.sqrt(b**2+h**2)))"
   ]
  },
  {
   "cell_type": "code",
   "execution_count": 12,
   "id": "2e305a13",
   "metadata": {},
   "outputs": [
    {
     "name": "stdout",
     "output_type": "stream",
     "text": [
      "enter number5\n",
      "Type of number is  <class 'int'>  \n",
      " type=  <class 'str'>\n",
      "5\n"
     ]
    }
   ],
   "source": [
    "a=input(\"enter number\")\n",
    "if(a.isdigit()==True):\n",
    "    a=int(a)\n",
    "    print(\"Type of number is \",type(a),\" \")\n",
    "    a=str(a)\n",
    "    print(\" type= \",type(a))\n",
    "    print(a)\n",
    "else:\n",
    "    print(\"not a number type\")"
   ]
  },
  {
   "cell_type": "code",
   "execution_count": 13,
   "id": "0c2089db",
   "metadata": {},
   "outputs": [
    {
     "name": "stdout",
     "output_type": "stream",
     "text": [
      "False\n"
     ]
    }
   ],
   "source": [
    "print(bool(None))"
   ]
  },
  {
   "cell_type": "code",
   "execution_count": 14,
   "id": "7dcac766",
   "metadata": {},
   "outputs": [
    {
     "name": "stdout",
     "output_type": "stream",
     "text": [
      "True\n"
     ]
    }
   ],
   "source": [
    "print(bool('hello'))"
   ]
  },
  {
   "cell_type": "code",
   "execution_count": 15,
   "id": "e77539c6",
   "metadata": {},
   "outputs": [
    {
     "name": "stdout",
     "output_type": "stream",
     "text": [
      "True\n"
     ]
    }
   ],
   "source": [
    "print(bool([10,20]))"
   ]
  },
  {
   "cell_type": "code",
   "execution_count": 16,
   "id": "5c221cf8",
   "metadata": {},
   "outputs": [
    {
     "name": "stdout",
     "output_type": "stream",
     "text": [
      "True\n"
     ]
    }
   ],
   "source": [
    "print(bool(' '))"
   ]
  },
  {
   "cell_type": "code",
   "execution_count": 17,
   "id": "b84b69e9",
   "metadata": {},
   "outputs": [
    {
     "name": "stdout",
     "output_type": "stream",
     "text": [
      "False\n"
     ]
    }
   ],
   "source": [
    "print(bool(''))"
   ]
  },
  {
   "cell_type": "code",
   "execution_count": 18,
   "id": "ca0c28f8",
   "metadata": {},
   "outputs": [
    {
     "name": "stdout",
     "output_type": "stream",
     "text": [
      "False\n"
     ]
    }
   ],
   "source": [
    "print(bool([]))"
   ]
  },
  {
   "cell_type": "code",
   "execution_count": 19,
   "id": "8fd075ff",
   "metadata": {},
   "outputs": [
    {
     "name": "stdout",
     "output_type": "stream",
     "text": [
      "True\n"
     ]
    }
   ],
   "source": [
    "print(bool({a:1}))"
   ]
  },
  {
   "cell_type": "code",
   "execution_count": 20,
   "id": "22c9c8ca",
   "metadata": {},
   "outputs": [
    {
     "name": "stdout",
     "output_type": "stream",
     "text": [
      "False\n"
     ]
    }
   ],
   "source": [
    "print(bool({}))"
   ]
  },
  {
   "cell_type": "code",
   "execution_count": 21,
   "id": "a9d7ed1e",
   "metadata": {},
   "outputs": [
    {
     "name": "stdout",
     "output_type": "stream",
     "text": [
      "False\n"
     ]
    }
   ],
   "source": [
    "print(2=='2')"
   ]
  },
  {
   "cell_type": "code",
   "execution_count": 22,
   "id": "3c2edf43",
   "metadata": {},
   "outputs": [
    {
     "name": "stdout",
     "output_type": "stream",
     "text": [
      "True\n"
     ]
    }
   ],
   "source": [
    "print(2==2)"
   ]
  },
  {
   "cell_type": "code",
   "execution_count": 23,
   "id": "6c4d64fd",
   "metadata": {},
   "outputs": [
    {
     "name": "stdout",
     "output_type": "stream",
     "text": [
      "True\n"
     ]
    }
   ],
   "source": [
    "print(()==())"
   ]
  },
  {
   "cell_type": "code",
   "execution_count": 24,
   "id": "4f99c7fb",
   "metadata": {},
   "outputs": [
    {
     "name": "stdout",
     "output_type": "stream",
     "text": [
      "True\n"
     ]
    }
   ],
   "source": [
    "print('abs' in 'ajfhsufiabsksdhf')"
   ]
  },
  {
   "cell_type": "code",
   "execution_count": 27,
   "id": "3ecbcad7",
   "metadata": {},
   "outputs": [
    {
     "data": {
      "text/plain": [
       "2"
      ]
     },
     "execution_count": 27,
     "metadata": {},
     "output_type": "execute_result"
    }
   ],
   "source": [
    "a='shd'\n",
    "b='hjskdhsajhdalshdjkjsjhksashd'\n",
    "b.count(a)"
   ]
  },
  {
   "cell_type": "code",
   "execution_count": 29,
   "id": "b8e22379",
   "metadata": {},
   "outputs": [
    {
     "name": "stdout",
     "output_type": "stream",
     "text": [
      "Enter the number 21\n",
      "is the number odd??:: True\n"
     ]
    }
   ],
   "source": [
    "n=int(input(\"Enter the number \"))\n",
    "if n%2==0:\n",
    "    print(\"is the number odd??::\",False)\n",
    "else:\n",
    "    print(\"is the number odd??::\",True)"
   ]
  },
  {
   "cell_type": "code",
   "execution_count": 31,
   "id": "fb87fbb9",
   "metadata": {},
   "outputs": [
    {
     "name": "stdout",
     "output_type": "stream",
     "text": [
      "Enter the number 21\n",
      "is the number odd??:: True\n"
     ]
    }
   ],
   "source": [
    "print(\"is the number odd??::\",bool(int(input(\"Enter the number \"))%2))"
   ]
  },
  {
   "cell_type": "code",
   "execution_count": 36,
   "id": "e095d3c2",
   "metadata": {},
   "outputs": [
    {
     "name": "stdout",
     "output_type": "stream",
     "text": [
      "Enter the number 12\n",
      "is the input an even integer between 0 and 100??:: False\n"
     ]
    }
   ],
   "source": [
    "n=int(input(\"Enter the number \"))\n",
    "print(\"is the input an even integer between 0 and 100??::\",bool((n%2)and(0<=n<=100)))"
   ]
  },
  {
   "cell_type": "code",
   "execution_count": 43,
   "id": "0cf7c8c3",
   "metadata": {},
   "outputs": [
    {
     "name": "stdout",
     "output_type": "stream",
     "text": [
      "Base: 2\n",
      "Expo: 4\n",
      "2^4=16\n"
     ]
    }
   ],
   "source": [
    "#write a program for excepting base and expo and print base^expo\n",
    "b=int(input(\"Base: \"))\n",
    "e=int(input(\"Expo: \"))\n",
    "print(f'{b}^{e}={b**e}')"
   ]
  },
  {
   "cell_type": "code",
   "execution_count": null,
   "id": "e6c10ab7",
   "metadata": {},
   "outputs": [],
   "source": []
  }
 ],
 "metadata": {
  "kernelspec": {
   "display_name": "Python 3 (ipykernel)",
   "language": "python",
   "name": "python3"
  },
  "language_info": {
   "codemirror_mode": {
    "name": "ipython",
    "version": 3
   },
   "file_extension": ".py",
   "mimetype": "text/x-python",
   "name": "python",
   "nbconvert_exporter": "python",
   "pygments_lexer": "ipython3",
   "version": "3.10.9"
  }
 },
 "nbformat": 4,
 "nbformat_minor": 5
}

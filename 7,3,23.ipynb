{
 "cells": [
  {
   "cell_type": "code",
   "execution_count": 28,
   "metadata": {},
   "outputs": [
    {
     "name": "stdout",
     "output_type": "stream",
     "text": [
      "The balance of David\"s 123-432  is 0 \n",
      "2000 has been deposited to ur account\n",
      "The balance of David\"s 123-432  is 2000 \n",
      "withdraw successful\n",
      "The balance of David\"s 123-432  is 1500 \n",
      "The balance amount is 1500. So cant withdraw the requested amount\n"
     ]
    },
    {
     "data": {
      "text/plain": [
       "1500"
      ]
     },
     "execution_count": 28,
     "metadata": {},
     "output_type": "execute_result"
    }
   ],
   "source": [
    "class BankAccount:\n",
    "    def __init__(self,name,acc_num,balance=0):\n",
    "        self.name=name\n",
    "        self.acc_num=acc_num\n",
    "        self.balance=balance\n",
    "    def get_name(self):\n",
    "        return self.name\n",
    "    def get_acc_num(self):\n",
    "        return self.acc_num\n",
    "    def get_balance(self):\n",
    "        return self.balance\n",
    "    def deposit(self,amount):\n",
    "        self.balance+=amount\n",
    "        print(f'{amount} has been deposited to ur account')\n",
    "        return self.balance\n",
    "    def withdraw(self,amount):\n",
    "        if self.balance-amount>0:\n",
    "            self.balance-=amount\n",
    "            print(f'withdraw successful')\n",
    "        else:\n",
    "            print(f'The balance amount is {self.balance}. So cant withdraw the requested amount')\n",
    "    def __str__(self):\n",
    "        return f'The balance of {self.name}\"s {self.acc_num}  is {self.balance} '\n",
    "acc1=BankAccount('David',\"123-432\")\n",
    "print(acc1)\n",
    "acc1.deposit(2000)\n",
    "print(acc1)\n",
    "acc1.withdraw(500)\n",
    "print(acc1) \n",
    "acc1.withdraw(5000) \n",
    "acc1.get_balance()  "
   ]
  },
  {
   "attachments": {},
   "cell_type": "markdown",
   "metadata": {},
   "source": [
    "DEFINITION AND CONCEPT OF OBJECT"
   ]
  },
  {
   "attachments": {},
   "cell_type": "markdown",
   "metadata": {},
   "source": [
    "- a is the object\n",
    "- a's attributes are lion tiger and cat\n",
    "- it has sort,append,reverse,remove,pop as the member functions\n",
    "    - object: Which has attributes and methods"
   ]
  },
  {
   "cell_type": "code",
   "execution_count": 8,
   "metadata": {},
   "outputs": [
    {
     "name": "stdout",
     "output_type": "stream",
     "text": [
      "['cat', 'lion', 'tiger']\n"
     ]
    }
   ],
   "source": [
    "a=['lion','tiger','cat']\n",
    "a.sort()\n",
    "print(a)"
   ]
  },
  {
   "cell_type": "code",
   "execution_count": 9,
   "metadata": {},
   "outputs": [],
   "source": [
    "a.append('rabbit')"
   ]
  },
  {
   "cell_type": "code",
   "execution_count": 10,
   "metadata": {},
   "outputs": [
    {
     "data": {
      "text/plain": [
       "['cat', 'lion', 'tiger', 'rabbit']"
      ]
     },
     "execution_count": 10,
     "metadata": {},
     "output_type": "execute_result"
    }
   ],
   "source": [
    "a"
   ]
  },
  {
   "cell_type": "code",
   "execution_count": 12,
   "metadata": {},
   "outputs": [
    {
     "name": "stdout",
     "output_type": "stream",
     "text": [
      "['cat', 'lion', 'tiger', 'rabbit']\n"
     ]
    }
   ],
   "source": [
    "a.reverse()\n",
    "print(a)"
   ]
  },
  {
   "cell_type": "code",
   "execution_count": 13,
   "metadata": {},
   "outputs": [],
   "source": [
    "a.reverse()"
   ]
  },
  {
   "cell_type": "code",
   "execution_count": 14,
   "metadata": {},
   "outputs": [
    {
     "name": "stdout",
     "output_type": "stream",
     "text": [
      "['rabbit', 'tiger', 'lion', 'cat']\n"
     ]
    }
   ],
   "source": [
    "print(a)"
   ]
  },
  {
   "attachments": {},
   "cell_type": "markdown",
   "metadata": {},
   "source": [
    "- Constructor method \n",
    "    - __init__\n",
    "- __str__"
   ]
  },
  {
   "cell_type": "code",
   "execution_count": 25,
   "metadata": {},
   "outputs": [
    {
     "name": "stdout",
     "output_type": "stream",
     "text": [
      "<bound method cat.__str__ of <__main__.cat object at 0x7f1a5ec8c350>>\n"
     ]
    }
   ],
   "source": [
    "class cat:\n",
    "    def  __init__(self,name,color):\n",
    "        self.name=name\n",
    "        self.color=color\n",
    "    def __str__(self):\n",
    "        print(f'{self.name} is {self.color} color')\n",
    "nabi=cat('nabi','black')\n",
    "nero=cat('nero','white')        \n",
    "print(nabi.__str__)"
   ]
  },
  {
   "cell_type": "code",
   "execution_count": 22,
   "metadata": {},
   "outputs": [
    {
     "name": "stdout",
     "output_type": "stream",
     "text": [
      "nero is white color\n"
     ]
    }
   ],
   "source": [
    "print(nero)"
   ]
  },
  {
   "attachments": {},
   "cell_type": "markdown",
   "metadata": {},
   "source": [
    "- Circle "
   ]
  },
  {
   "cell_type": "code",
   "execution_count": 27,
   "metadata": {},
   "outputs": [
    {
     "name": "stdout",
     "output_type": "stream",
     "text": [
      "The area of circle1 is 78.5 and the perimeter is 31.400000000000002\n",
      "The area of circle2 is 314.0 and the perimeter is 62.800000000000004\n"
     ]
    },
    {
     "data": {
      "text/plain": [
       "314.0"
      ]
     },
     "execution_count": 27,
     "metadata": {},
     "output_type": "execute_result"
    }
   ],
   "source": [
    "class Circle:\n",
    "    def __init__(self,name,radius):\n",
    "        self.name=name\n",
    "        self.radius=radius\n",
    "    def area(self):\n",
    "        return 3.14*self.radius**2\n",
    "    def perimeter(self):\n",
    "        return 2*3.14*self.radius    \n",
    "    def __str__(self):\n",
    "        return f'The area of {self.name} is {self.area()} and the perimeter is {self.perimeter()}'\n",
    "    \n",
    "c1=Circle('circle1',5)\n",
    "print(c1)\n",
    "c2=Circle('circle2',10)\n",
    "print(c2)\n",
    "c2.area()"
   ]
  },
  {
   "attachments": {},
   "cell_type": "markdown",
   "metadata": {},
   "source": [
    "- closure\n",
    "- lambda\n",
    "- 2 classes\n",
    "- recursive function\n",
    "- map function\n"
   ]
  },
  {
   "attachments": {},
   "cell_type": "markdown",
   "metadata": {},
   "source": []
  },
  {
   "cell_type": "markdown",
   "metadata": {},
   "source": []
  },
  {
   "cell_type": "code",
   "execution_count": 41,
   "metadata": {},
   "outputs": [
    {
     "name": "stdout",
     "output_type": "stream",
     "text": [
      "[3, 4, 5, 6]\n"
     ]
    }
   ],
   "source": [
    "a=[1,2,3,4,5,6]\n",
    "cube=list(filter(lambda x:x>=3,a))\n",
    "print(cube)"
   ]
  },
  {
   "cell_type": "code",
   "execution_count": 44,
   "metadata": {},
   "outputs": [
    {
     "name": "stdout",
     "output_type": "stream",
     "text": [
      "[2, 4, 6, 8]\n"
     ]
    }
   ],
   "source": [
    "l=[1,2,3,4,5,6,7,8]\n",
    "el=list(filter(lambda x:x%2==0,l))\n",
    "print(el)"
   ]
  },
  {
   "cell_type": "code",
   "execution_count": 45,
   "metadata": {},
   "outputs": [],
   "source": [
    "from functools import reduce\n",
    "l=list(range(0,101))\n",
    "n=reduce(lambda x,y:x+y,l)\n"
   ]
  },
  {
   "cell_type": "code",
   "execution_count": 46,
   "metadata": {},
   "outputs": [
    {
     "name": "stdout",
     "output_type": "stream",
     "text": [
      "5050\n"
     ]
    }
   ],
   "source": [
    "print(n)"
   ]
  },
  {
   "attachments": {},
   "cell_type": "markdown",
   "metadata": {},
   "source": [
    "- Woof Woof"
   ]
  },
  {
   "cell_type": "code",
   "execution_count": 47,
   "metadata": {},
   "outputs": [
    {
     "data": {
      "text/plain": [
       "'hehe is barking \"woof woof\"'"
      ]
     },
     "execution_count": 47,
     "metadata": {},
     "output_type": "execute_result"
    }
   ],
   "source": [
    "class Dog:\n",
    "    def __init__(self,name):\n",
    "        self.name=name\n",
    "    def bark(self):\n",
    "        return f'{self.name} is barking \"woof woof\"'\n",
    "my_dog=Dog('hehe')\n",
    "my_dog.bark()   "
   ]
  },
  {
   "cell_type": "code",
   "execution_count": 48,
   "metadata": {},
   "outputs": [
    {
     "name": "stdout",
     "output_type": "stream",
     "text": [
      "nabi is 2 years old\n",
      "nabi is 2 years old\n"
     ]
    }
   ],
   "source": [
    "class cat:\n",
    "    def __init__(self,name,age):\n",
    "        self.__name=name\n",
    "        self.__age=age\n",
    "    def __str__(self):\n",
    "        return f'{self.__name} is {self.__age} years old'\n",
    "    def set_age(self,age):\n",
    "        if age>0:\n",
    "            self.age=age\n",
    "    def get_age(self):\n",
    "        return self.__age\n",
    "nabi=cat('nabi',2)\n",
    "print(nabi)\n",
    "nabi.set_age(4)\n",
    "nabi.set_age(-4)\n",
    "print(nabi)                "
   ]
  },
  {
   "cell_type": "code",
   "execution_count": 51,
   "metadata": {},
   "outputs": [
    {
     "name": "stdout",
     "output_type": "stream",
     "text": [
      "v1.add(v2)=(40,60)\n",
      "v1-v2=(20,20)\n"
     ]
    }
   ],
   "source": [
    "class Vector2D:\n",
    "    def __init__(self,x,y):\n",
    "        self.x=x\n",
    "        self.y=y\n",
    "    def __str__(self):\n",
    "        return f'({self.x},{self.y})'\n",
    "    def add(self,o):\n",
    "        return Vector2D(self.x + o.x,self.y+o.y)\n",
    "    def __sub__(self,other):\n",
    "        return Vector2D(self.x-other.x,self.y-other.y)\n",
    "v1=Vector2D(30,40) \n",
    "v2=Vector2D(10,20)\n",
    "v3=v1.add(v2)\n",
    "print(f'v1.add(v2)={v3}')  \n",
    "v4=v1-v2\n",
    "print(f'v1-v2={v4}')"
   ]
  },
  {
   "attachments": {},
   "cell_type": "markdown",
   "metadata": {},
   "source": [
    "### Special methods\n",
    "> special methods are the methods which are used to define the behaviour of the object\n",
    " ____________________________________\n",
    "| operator | method | functionality |\n",
    "| -------- | ------ | ------------- |\n",
    "| +        | __add__ | addition |\n",
    "| -        | __sub__ | subtraction |\n",
    "| *        | __mul__ | multiplication |\n",
    "| /        | __truediv__ | true division |\n",
    "| //       | __floordiv__ | floor division |\n",
    "| %        | __mod__ | modulus |\n",
    "| **       | __pow__ | power |\n",
    "| <        | __lt__ | less than |\n",
    "| <=       | __le__ | less than or equal to |\n",
    "| > | __gt__ | greater than |\n",
    "| >= | __ge__ | greater than or equal to |\n",
    "| == | __eq__ | equal to |\n",
    "| != | __ne__ | not equal to |\n",
    "| + | __pos__ | positive |\n",
    "| - | __neg__ | negative |\n",
    "_____________________________________________"
   ]
  },
  {
   "cell_type": "code",
   "execution_count": 52,
   "metadata": {},
   "outputs": [
    {
     "name": "stdout",
     "output_type": "stream",
     "text": [
      "False\n"
     ]
    }
   ],
   "source": [
    "t=(10,20)\n",
    "t1=(10,20)\n",
    "print(t is t1)"
   ]
  },
  {
   "cell_type": "code",
   "execution_count": 53,
   "metadata": {},
   "outputs": [
    {
     "name": "stdout",
     "output_type": "stream",
     "text": [
      "True\n"
     ]
    }
   ],
   "source": [
    "s=\"ABC\"\n",
    "s1=\"ABC\"\n",
    "print(s is s1)"
   ]
  },
  {
   "cell_type": "code",
   "execution_count": 57,
   "metadata": {},
   "outputs": [
    {
     "name": "stdout",
     "output_type": "stream",
     "text": [
      "Anshuman and s2345678\n",
      "Anshuman and s2345678\n"
     ]
    }
   ],
   "source": [
    "class Student:\n",
    "    def __init__(self,name,id):\n",
    "        self.name=name\n",
    "        self.id=id\n",
    "    def set_id(self,id):\n",
    "        if len(id)==8:\n",
    "            self.id=id\n",
    "    def __str__(self):\n",
    "        return f'{self.name} and {self.id}'\n",
    "    def set_eng_quiz(self,equiz):\n",
    "        self.eng_quiz=equiz\n",
    "    def set_math_quiz(self,mquiz):\n",
    "        self.math_quiz=mquiz\n",
    "    def set_science_quiz(self,squiz):\n",
    "        self.science_quiz=squiz\n",
    "    def get_name(self):\n",
    "        return self.name\n",
    "    def get_id(self):\n",
    "        return self.id\n",
    "    def get_eng_quiz(self):\n",
    "        return self.eng_quiz\n",
    "    def get_math_quiz(self):\n",
    "        return self.math_quiz\n",
    "    def get_science_quiz(self):\n",
    "        return self.science_quiz                        \n",
    "Eng=Student('Anshuman',\"s2345678\")    \n",
    "print(Eng)\n",
    "l=[Eng]\n",
    "Eng.set_eng_quiz(10)\n",
    "Eng.set_eng_quiz(20)\n",
    "print(l[0])"
   ]
  },
  {
   "cell_type": "code",
   "execution_count": null,
   "metadata": {},
   "outputs": [],
   "source": []
  }
 ],
 "metadata": {
  "kernelspec": {
   "display_name": "Python 3",
   "language": "python",
   "name": "python3"
  },
  "language_info": {
   "codemirror_mode": {
    "name": "ipython",
    "version": 3
   },
   "file_extension": ".py",
   "mimetype": "text/x-python",
   "name": "python",
   "nbconvert_exporter": "python",
   "pygments_lexer": "ipython3",
   "version": "3.11.0"
  },
  "orig_nbformat": 4
 },
 "nbformat": 4,
 "nbformat_minor": 2
}

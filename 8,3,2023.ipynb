{
 "cells": [
  {
   "attachments": {},
   "cell_type": "markdown",
   "metadata": {},
   "source": [
    "- Gold bash Number\n",
    "    - sum of two prime numbers\n",
    " - an object is something that has states and behaviours, which has mass,occupy space and whioch can be seen or touched.\n"
   ]
  },
  {
   "cell_type": "code",
   "execution_count": 11,
   "metadata": {},
   "outputs": [
    {
     "name": "stdout",
     "output_type": "stream",
     "text": [
      "[1, 2, 3, 5, 7, 11, 13]\n",
      "2,13\n",
      "13,2\n"
     ]
    }
   ],
   "source": [
    "#Write a code in python to express the given number as sum of two prime numbers.\n",
    "# Ensure that you are creating a function to check whether the given number is prime number or not.\n",
    "\n",
    "def is_prime(n):\n",
    "    for i in range(2,n):\n",
    "        if n%i==0:\n",
    "            return False\n",
    "    return True\n",
    "p=int(input(\"Enter the number: \"))\n",
    "l=[]\n",
    "for i in range(1,p+1):\n",
    "    if  is_prime(i)==True:\n",
    "        l.append(i)   \n",
    "print(l)     \n",
    "for i in l:\n",
    "    for j in l:\n",
    "        if i+j==p:\n",
    "            print(f'{i},{j}')   \n"
   ]
  },
  {
   "attachments": {},
   "cell_type": "markdown",
   "metadata": {},
   "source": [
    "- Write a pseudo code of u going to a atm, entering the pin and getting the cash out of eat.\n",
    "- Write a [seudo code for a cow giving milk?\n",
    "    - class Cow\n",
    "        - method Give\n",
    "            - output mik"
   ]
  },
  {
   "cell_type": "code",
   "execution_count": 13,
   "metadata": {},
   "outputs": [
    {
     "data": {
      "text/plain": [
       "'Achi Gave Milk'"
      ]
     },
     "execution_count": 13,
     "metadata": {},
     "output_type": "execute_result"
    }
   ],
   "source": [
    "class Cow:\n",
    "    def __init__(self,name):\n",
    "        self.name=name\n",
    "    def Give(self):\n",
    "        return f'{self.name} Gave Milk' \n",
    "cow=Cow('Achi')\n",
    "cow.Give()   "
   ]
  },
  {
   "cell_type": "code",
   "execution_count": 14,
   "metadata": {},
   "outputs": [],
   "source": [
    "class Cow:\n",
    "    def gives(self):\n",
    "        return Milk()\n",
    "class Milk:\n",
    "    pass"
   ]
  },
  {
   "cell_type": "code",
   "execution_count": 18,
   "metadata": {},
   "outputs": [
    {
     "data": {
      "text/plain": [
       "<__main__.Money at 0x7f5c900997d0>"
      ]
     },
     "execution_count": 18,
     "metadata": {},
     "output_type": "execute_result"
    }
   ],
   "source": [
    "class Atm:\n",
    "    def dispense(self,card,pin,amount):\n",
    "        return Money();\n",
    "class Money:\n",
    "    pass\n",
    "class card:\n",
    "    pass\n",
    "AT=Atm()\n",
    "AT.dispense(card(),2345,5000)"
   ]
  },
  {
   "cell_type": "code",
   "execution_count": 19,
   "metadata": {},
   "outputs": [],
   "source": [
    "# A shopkeeper sells a coffee powder\n",
    "class ShopKeeper:\n",
    "    def sell():\n",
    "        return CoffeePowder();\n",
    "class CoffeePowder:\n",
    "    pass"
   ]
  },
  {
   "cell_type": "code",
   "execution_count": 20,
   "metadata": {},
   "outputs": [],
   "source": [
    "#students read book\n",
    "class Student:\n",
    "    def read():\n",
    "        Book()\n",
    "class Book:\n",
    "    pass"
   ]
  },
  {
   "cell_type": "code",
   "execution_count": null,
   "metadata": {},
   "outputs": [],
   "source": [
    "#Conductor issues ticket\n",
    "class Passenger:\n",
    "    def __init__(self):\n",
    "        con=Conductor()\n",
    "        con.issue(Money(), 'Bangalore')\n",
    "class Conductor:\n",
    "    def isssue(self,money,dest):\n",
    "        return Ticket()\n",
    "class Ticket:\n",
    "    pass\n",
    "class Money:\n",
    "    pass\n",
    "\n",
    "p=Passenger()"
   ]
  },
  {
   "attachments": {},
   "cell_type": "markdown",
   "metadata": {},
   "source": [
    "- Stack\n",
    "    - List\n",
    "        - append()\n",
    "        - remove()\n",
    "    - Class    "
   ]
  },
  {
   "cell_type": "code",
   "execution_count": 26,
   "metadata": {},
   "outputs": [],
   "source": [
    "# Stack using List\n",
    "stack=[]\n",
    "stack.append(5)\n",
    "stack.append(4)\n",
    "stack.append(3)\n",
    "stack.append(2)\n",
    "stack.append(1)\n",
    "def push(stack,ele):\n",
    "    stack.append(ele)\n",
    "def pop(stack):\n",
    "        s=checkEmpty(stack)\n",
    "        return stack.remove(stack[-1]) if s==False else print(\"Stack is Empty\") \n",
    "def checkEmpty(stack):\n",
    "     return True if len(stack)==0 else False\n",
    "def Display(stack):\n",
    "    for i in range(len(stack)-1,0,-1):\n",
    "        print(stack[i])\n",
    "push(stack,45)    "
   ]
  },
  {
   "cell_type": "code",
   "execution_count": 3,
   "metadata": {},
   "outputs": [
    {
     "name": "stdout",
     "output_type": "stream",
     "text": [
      "[5, 4, 3, 2, 1, 45]\n"
     ]
    }
   ],
   "source": [
    "print(stack)"
   ]
  },
  {
   "cell_type": "code",
   "execution_count": 4,
   "metadata": {},
   "outputs": [],
   "source": [
    "pop(stack)"
   ]
  },
  {
   "cell_type": "code",
   "execution_count": 7,
   "metadata": {},
   "outputs": [
    {
     "name": "stdout",
     "output_type": "stream",
     "text": [
      "[5, 4, 3, 2, 1, 45]\n"
     ]
    }
   ],
   "source": [
    "print(stack)"
   ]
  },
  {
   "cell_type": "code",
   "execution_count": 8,
   "metadata": {},
   "outputs": [
    {
     "name": "stdout",
     "output_type": "stream",
     "text": [
      "[5, 4, 3, 2, 1]\n"
     ]
    }
   ],
   "source": [
    "pop(stack)\n",
    "print(stack)"
   ]
  },
  {
   "cell_type": "code",
   "execution_count": 9,
   "metadata": {},
   "outputs": [
    {
     "name": "stdout",
     "output_type": "stream",
     "text": [
      "[5, 4, 3, 2]\n"
     ]
    }
   ],
   "source": [
    "pop(stack)\n",
    "print(stack)"
   ]
  },
  {
   "cell_type": "code",
   "execution_count": 13,
   "metadata": {},
   "outputs": [
    {
     "data": {
      "text/plain": [
       "[5, 4, 3, 2, 1, 45]"
      ]
     },
     "metadata": {},
     "output_type": "display_data"
    }
   ],
   "source": [
    "display(stack)"
   ]
  },
  {
   "cell_type": "code",
   "execution_count": 14,
   "metadata": {},
   "outputs": [
    {
     "data": {
      "text/plain": [
       "[5, 4, 3, 2, 1]"
      ]
     },
     "metadata": {},
     "output_type": "display_data"
    }
   ],
   "source": [
    "pop(stack)\n",
    "display(stack)"
   ]
  },
  {
   "cell_type": "code",
   "execution_count": 15,
   "metadata": {},
   "outputs": [],
   "source": [
    "pop(stack)\n",
    "pop(stack)\n",
    "pop(stack)\n",
    "pop(stack)\n",
    "pop(stack)\n",
    "\n"
   ]
  },
  {
   "cell_type": "code",
   "execution_count": 16,
   "metadata": {},
   "outputs": [
    {
     "name": "stdout",
     "output_type": "stream",
     "text": [
      "[]\n"
     ]
    }
   ],
   "source": [
    "print(stack)"
   ]
  },
  {
   "cell_type": "code",
   "execution_count": 24,
   "metadata": {},
   "outputs": [],
   "source": [
    "pop(stack)"
   ]
  },
  {
   "cell_type": "code",
   "execution_count": 25,
   "metadata": {},
   "outputs": [],
   "source": [
    "pop(stack)"
   ]
  },
  {
   "cell_type": "code",
   "execution_count": 27,
   "metadata": {},
   "outputs": [
    {
     "data": {
      "text/plain": [
       "[5, 4, 3, 2, 1, 45]"
      ]
     },
     "metadata": {},
     "output_type": "display_data"
    }
   ],
   "source": [
    "display(stack)"
   ]
  },
  {
   "cell_type": "code",
   "execution_count": 28,
   "metadata": {},
   "outputs": [],
   "source": [
    "pop(stack)"
   ]
  },
  {
   "cell_type": "code",
   "execution_count": 29,
   "metadata": {},
   "outputs": [],
   "source": [
    "pop(stack)"
   ]
  },
  {
   "cell_type": "code",
   "execution_count": 30,
   "metadata": {},
   "outputs": [],
   "source": [
    "pop(stack)"
   ]
  },
  {
   "cell_type": "code",
   "execution_count": 31,
   "metadata": {},
   "outputs": [],
   "source": [
    "pop(stack)"
   ]
  },
  {
   "cell_type": "code",
   "execution_count": 32,
   "metadata": {},
   "outputs": [],
   "source": [
    "pop(stack)"
   ]
  },
  {
   "cell_type": "code",
   "execution_count": 33,
   "metadata": {},
   "outputs": [
    {
     "data": {
      "text/plain": [
       "[5]"
      ]
     },
     "metadata": {},
     "output_type": "display_data"
    }
   ],
   "source": [
    "display(stack)"
   ]
  },
  {
   "cell_type": "code",
   "execution_count": 34,
   "metadata": {},
   "outputs": [],
   "source": [
    "pop(stack)"
   ]
  },
  {
   "cell_type": "code",
   "execution_count": 35,
   "metadata": {},
   "outputs": [
    {
     "name": "stdout",
     "output_type": "stream",
     "text": [
      "Stack is Empty\n"
     ]
    }
   ],
   "source": [
    "pop(stack)"
   ]
  },
  {
   "cell_type": "code",
   "execution_count": 65,
   "metadata": {},
   "outputs": [
    {
     "name": "stdout",
     "output_type": "stream",
     "text": [
      "[30, 20, 10]\n"
     ]
    }
   ],
   "source": [
    "# Stack Implementation Using Class\n",
    "\n",
    "class Stack:\n",
    "    def __init__(self):\n",
    "        self.stack=[]\n",
    "    def checkEmpty(self,stack):\n",
    "        return True if len(self.stack) is False else True\n",
    "    def push(self,ele):\n",
    "        self.stack.append(ele)\n",
    "    def pop(self):\n",
    "        return \"Cannot pop\" if checkEmpty(self.stack) else self.stack.pop()\n",
    "    def display(self):\n",
    "        l=[]\n",
    "        for i in range(len(self.stack),0,-1):\n",
    "            l.append(self.stack[i-1])\n",
    "        print(l)    \n",
    "s=Stack()\n",
    "s.push(10)\n",
    "s.push(20)\n",
    "s.push(30)\n",
    "s.display()            "
   ]
  },
  {
   "cell_type": "code",
   "execution_count": 66,
   "metadata": {},
   "outputs": [
    {
     "data": {
      "text/plain": [
       "30"
      ]
     },
     "execution_count": 66,
     "metadata": {},
     "output_type": "execute_result"
    }
   ],
   "source": [
    "s.pop()"
   ]
  },
  {
   "cell_type": "code",
   "execution_count": 67,
   "metadata": {},
   "outputs": [
    {
     "data": {
      "text/plain": [
       "20"
      ]
     },
     "execution_count": 67,
     "metadata": {},
     "output_type": "execute_result"
    }
   ],
   "source": [
    "s.pop()"
   ]
  },
  {
   "cell_type": "code",
   "execution_count": 68,
   "metadata": {},
   "outputs": [
    {
     "name": "stdout",
     "output_type": "stream",
     "text": [
      "[10]\n"
     ]
    }
   ],
   "source": [
    "s.display()"
   ]
  },
  {
   "attachments": {},
   "cell_type": "markdown",
   "metadata": {},
   "source": [
    "- Car Parking Problem"
   ]
  },
  {
   "cell_type": "code",
   "execution_count": 98,
   "metadata": {},
   "outputs": [
    {
     "name": "stdout",
     "output_type": "stream",
     "text": [
      "[1, 5, 4, 3, 2]\n",
      "0\n",
      "[1] is parked\n",
      "[] is in waiting\n",
      "0\n",
      "[1] is parked\n",
      "[] is in waiting\n"
     ]
    }
   ],
   "source": [
    "class Stack:\n",
    "    def __init__(self):\n",
    "        self.stack=[]\n",
    "    def checkEmpty(self,stack):\n",
    "        return True if len(self.stack) is False else True\n",
    "    def push(self,ele):\n",
    "        self.stack.append(ele)\n",
    "    def pop(self):\n",
    "        return \"Cannot pop\" if checkEmpty(self.stack) else self.stack.pop()\n",
    "    def display(self):\n",
    "        l=[]\n",
    "        for i in range(len(self.stack),0,-1):\n",
    "            l.append(self.stack[i-1])\n",
    "        print(l)\n",
    "    def peek(self,s):\n",
    "        return \"Empty\" if checkEmpty(self.stack) else self.stack[-1+s]   \n",
    "    def park(self):\n",
    "        Stack.l1=[]\n",
    "        Stack.l2=[]\n",
    "        c=len(self.stack)\n",
    "        Stack.c1=0\n",
    "        print(Stack.c1)\n",
    "        s=self.peek(Stack.c1)\n",
    "        if Stack.c1==0:\n",
    "            Stack.l1.append(s)\n",
    "            Stack.c1+=1\n",
    "        elif Stack.c1!=0:    \n",
    "            if  s<(Stack.l2[len(Stack.l2)-1]):\n",
    "                Stack.l1.append(s)\n",
    "                Stack.c1+=1\n",
    "            else:\n",
    "                Stack.l2.append(s)\n",
    "            if Stack.c1>=len(self.stack):\n",
    "                for i in range(len(Stack.l2)):\n",
    "                    p=Stack.l2[i].self.pop()\n",
    "                    Stack.l1.append(p)\n",
    "        print(f'{Stack.l1} is parked')\n",
    "        print(f'{Stack.l2} is in waiting')        \n",
    "s=Stack()\n",
    "s.push(2)\n",
    "s.push(3)\n",
    "s.push(4)\n",
    "s.push(5)\n",
    "s.push(1)\n",
    "s.display()\n",
    "s.park()\n",
    "s.park()\n",
    "\n",
    "\n",
    "\n",
    "         "
   ]
  },
  {
   "attachments": {},
   "cell_type": "markdown",
   "metadata": {},
   "source": [
    "- Given the numbers 1,2,3 and 4 , form unique 3 digits numbers where the digits in a number are not same.\n",
    "    - example= (1,2,3),(1,2,4)"
   ]
  },
  {
   "cell_type": "code",
   "execution_count": 104,
   "metadata": {},
   "outputs": [
    {
     "name": "stdout",
     "output_type": "stream",
     "text": [
      "(1,2,3)\n",
      "(1,2,4)\n",
      "(1,3,2)\n",
      "(1,3,4)\n",
      "(1,4,2)\n",
      "(1,4,3)\n",
      "(2,1,3)\n",
      "(2,1,4)\n",
      "(2,3,1)\n",
      "(2,3,4)\n",
      "(2,4,1)\n",
      "(2,4,3)\n",
      "(3,1,2)\n",
      "(3,1,4)\n",
      "(3,2,1)\n",
      "(3,2,4)\n",
      "(3,4,1)\n",
      "(3,4,2)\n",
      "(4,1,2)\n",
      "(4,1,3)\n",
      "(4,2,1)\n",
      "(4,2,3)\n",
      "(4,3,1)\n",
      "(4,3,2)\n",
      "total 24\n"
     ]
    }
   ],
   "source": [
    "l=[1,2,3,4]\n",
    "l1=[]\n",
    "c=0\n",
    "for i in l:\n",
    "    for j in l:\n",
    "        for k in l:\n",
    "            if i!=j and j!=k and i!=k:\n",
    "                print(f'({i},{j},{k})')\n",
    "                c+=1\n",
    "print(f'total {c}')                \n",
    "              \n"
   ]
  },
  {
   "cell_type": "code",
   "execution_count": null,
   "metadata": {},
   "outputs": [],
   "source": []
  }
 ],
 "metadata": {
  "kernelspec": {
   "display_name": "Python 3",
   "language": "python",
   "name": "python3"
  },
  "language_info": {
   "codemirror_mode": {
    "name": "ipython",
    "version": 3
   },
   "file_extension": ".py",
   "mimetype": "text/x-python",
   "name": "python",
   "nbconvert_exporter": "python",
   "pygments_lexer": "ipython3",
   "version": "3.11.0"
  },
  "orig_nbformat": 4
 },
 "nbformat": 4,
 "nbformat_minor": 2
}

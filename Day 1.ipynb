{
 "cells": [
  {
   "cell_type": "code",
   "execution_count": 1,
   "id": "751bd6df",
   "metadata": {},
   "outputs": [
    {
     "name": "stdout",
     "output_type": "stream",
     "text": [
      "Welcome to SIC\n"
     ]
    }
   ],
   "source": [
    "print(\"Welcome to SIC\")"
   ]
  },
  {
   "cell_type": "code",
   "execution_count": 2,
   "id": "1ef02988",
   "metadata": {},
   "outputs": [
    {
     "name": "stdout",
     "output_type": "stream",
     "text": [
      "Enter your name: ayusmania\n",
      "Your Name is  ayusmania\n"
     ]
    }
   ],
   "source": [
    "a=str(input(\"Enter your name: \"))\n",
    "print(\"Your Name is \",a)"
   ]
  },
  {
   "cell_type": "code",
   "execution_count": 3,
   "id": "1e286ab5",
   "metadata": {},
   "outputs": [],
   "source": [
    "## Haloo"
   ]
  },
  {
   "cell_type": "code",
   "execution_count": 4,
   "id": "e7a26d4f",
   "metadata": {},
   "outputs": [
    {
     "data": {
      "text/plain": [
       "'Hello'"
      ]
     },
     "execution_count": 4,
     "metadata": {},
     "output_type": "execute_result"
    }
   ],
   "source": [
    "'''Hello'''"
   ]
  },
  {
   "cell_type": "code",
   "execution_count": 5,
   "id": "16443619",
   "metadata": {},
   "outputs": [
    {
     "data": {
      "text/plain": [
       "'Hello'"
      ]
     },
     "execution_count": 5,
     "metadata": {},
     "output_type": "execute_result"
    }
   ],
   "source": [
    "\"\"\"Hello\"\"\""
   ]
  },
  {
   "cell_type": "code",
   "execution_count": 6,
   "id": "046cda17",
   "metadata": {},
   "outputs": [
    {
     "name": "stdout",
     "output_type": "stream",
     "text": [
      "Enter the value 69\n",
      "Greater than 50\n"
     ]
    }
   ],
   "source": [
    "i=int(input(\"Enter the value \"))\n",
    "if i>50:\n",
    "    print(\"Greater than 50\")\n",
    "else:\n",
    "    print(\"Less than 50\")"
   ]
  },
  {
   "cell_type": "code",
   "execution_count": 7,
   "id": "32e3bec9",
   "metadata": {},
   "outputs": [
    {
     "name": "stdout",
     "output_type": "stream",
     "text": [
      "Greater\n",
      "Yes it is\n"
     ]
    }
   ],
   "source": [
    "if 5>2:\n",
    "    print(\"Greater\")\n",
    "    if(3>2):\n",
    "        print(\"Yes it is\")"
   ]
  },
  {
   "cell_type": "code",
   "execution_count": 8,
   "id": "f1d06191",
   "metadata": {},
   "outputs": [
    {
     "name": "stdout",
     "output_type": "stream",
     "text": [
      "Hello\n"
     ]
    }
   ],
   "source": [
    "\"\"\"this is a multi line comment\n",
    "hahaha\"\"\"\n",
    "print(\"Hello\")"
   ]
  },
  {
   "cell_type": "code",
   "execution_count": 9,
   "id": "16c6fadd",
   "metadata": {},
   "outputs": [
    {
     "data": {
      "text/plain": [
       "'this is a multi line comment\\nhahaha'"
      ]
     },
     "execution_count": 9,
     "metadata": {},
     "output_type": "execute_result"
    }
   ],
   "source": [
    "\"\"\"this is a multi line comment\n",
    "hahaha\"\"\""
   ]
  },
  {
   "cell_type": "code",
   "execution_count": 12,
   "id": "659167bb",
   "metadata": {},
   "outputs": [
    {
     "name": "stdout",
     "output_type": "stream",
     "text": [
      "3\n",
      "4\n"
     ]
    }
   ],
   "source": [
    "a=[1,2,3,4]\n",
    "for i in a:\n",
    "    if i>2:\n",
    "        print(i)\n"
   ]
  },
  {
   "cell_type": "code",
   "execution_count": 13,
   "id": "571861cb",
   "metadata": {},
   "outputs": [
    {
     "name": "stdout",
     "output_type": "stream",
     "text": [
      "[1, 2, 3, 4, 5]\n"
     ]
    }
   ],
   "source": [
    "a.append(5)\n",
    "print(a)"
   ]
  },
  {
   "cell_type": "code",
   "execution_count": 14,
   "id": "65bd74b2",
   "metadata": {},
   "outputs": [
    {
     "name": "stdout",
     "output_type": "stream",
     "text": [
      "[1, 2, 3, 4]\n"
     ]
    }
   ],
   "source": [
    "a.pop()\n",
    "print(a)"
   ]
  },
  {
   "cell_type": "code",
   "execution_count": 15,
   "id": "099e8d1f",
   "metadata": {},
   "outputs": [
    {
     "name": "stdout",
     "output_type": "stream",
     "text": [
      "[1, 3, 4]\n"
     ]
    }
   ],
   "source": [
    "a.pop(1)\n",
    "print(a)"
   ]
  },
  {
   "cell_type": "code",
   "execution_count": null,
   "id": "115f6d54",
   "metadata": {},
   "outputs": [],
   "source": []
  }
 ],
 "metadata": {
  "kernelspec": {
   "display_name": "Python 3 (ipykernel)",
   "language": "python",
   "name": "python3"
  },
  "language_info": {
   "codemirror_mode": {
    "name": "ipython",
    "version": 3
   },
   "file_extension": ".py",
   "mimetype": "text/x-python",
   "name": "python",
   "nbconvert_exporter": "python",
   "pygments_lexer": "ipython3",
   "version": "3.9.13"
  }
 },
 "nbformat": 4,
 "nbformat_minor": 5
}

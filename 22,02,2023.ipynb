{
 "cells": [
  {
   "cell_type": "code",
   "execution_count": 1,
   "metadata": {},
   "outputs": [
    {
     "name": "stdout",
     "output_type": "stream",
     "text": [
      "HELLO\n",
      "Welcome to toay's class\n"
     ]
    }
   ],
   "source": [
    "print(\"HELLO\\nWelcome to toay's class\")"
   ]
  },
  {
   "attachments": {},
   "cell_type": "markdown",
   "metadata": {},
   "source": [
    "\n",
    "- json\n",
    "    - json.loads()\n",
    "    - json.dump\n",
    "    -  with()\n",
    "     - open()\n",
    "- Dictionary\n",
    "    - pop(Key)\n",
    "- Tuple\n",
    "    - Seat Booking    \n"
   ]
  },
  {
   "cell_type": "code",
   "execution_count": 7,
   "metadata": {},
   "outputs": [
    {
     "name": "stdout",
     "output_type": "stream",
     "text": [
      "{'Name': 'Harish', 'Age': 20, 'City': 'Bangalore'}\n"
     ]
    }
   ],
   "source": [
    "import json\n",
    "data='{\"Name\":\"Harish\",\"Age\":20,\"City\":\"Bangalore\"}'\n",
    "jdata=json.loads(data)\n",
    "print(jdata)"
   ]
  },
  {
   "cell_type": "code",
   "execution_count": 11,
   "metadata": {},
   "outputs": [
    {
     "name": "stdout",
     "output_type": "stream",
     "text": [
      "<class 'dict'>\n",
      "Harish\n",
      "Bangalore\n",
      "20\n"
     ]
    }
   ],
   "source": [
    "print(type(jdata))\n",
    "print(jdata['Name'])\n",
    "print(jdata[\"City\"])\n",
    "print(jdata[\"Age\"])"
   ]
  },
  {
   "cell_type": "code",
   "execution_count": 18,
   "metadata": {},
   "outputs": [],
   "source": [
    "with open('book.json','w') as f:\n",
    "    json.dump(jdata,f,indent='\\t')"
   ]
  },
  {
   "cell_type": "code",
   "execution_count": 15,
   "metadata": {},
   "outputs": [
    {
     "name": "stdout",
     "output_type": "stream",
     "text": [
      "<class 'dict'>\n"
     ]
    }
   ],
   "source": [
    "print(type(jdata))"
   ]
  },
  {
   "cell_type": "code",
   "execution_count": 19,
   "metadata": {},
   "outputs": [
    {
     "name": "stdout",
     "output_type": "stream",
     "text": [
      "Harish\n"
     ]
    }
   ],
   "source": [
    "print(jdata[\"Name\"])"
   ]
  },
  {
   "cell_type": "code",
   "execution_count": 22,
   "metadata": {},
   "outputs": [
    {
     "name": "stdout",
     "output_type": "stream",
     "text": [
      "{'Name': 'Harish', 'Age': 20, 'City': 'Bangalore'}\n"
     ]
    }
   ],
   "source": [
    "with open(\"book.json\",'r') as r:\n",
    "    jdata=json.load(r)\n",
    "    print(jdata)"
   ]
  },
  {
   "cell_type": "code",
   "execution_count": 23,
   "metadata": {},
   "outputs": [
    {
     "name": "stdout",
     "output_type": "stream",
     "text": [
      "{'Korea': 'seoul', 'China': 'Beijin', 'USA': 'Washington DC'}\n"
     ]
    }
   ],
   "source": [
    "cp='{\"Korea\":\"seoul\",\"China\":\"Beijin\",\"USA\":\"Washington DC\"}'\n",
    "jcp=json.loads(cp)\n",
    "print(jcp)"
   ]
  },
  {
   "cell_type": "code",
   "execution_count": 24,
   "metadata": {},
   "outputs": [
    {
     "name": "stdout",
     "output_type": "stream",
     "text": [
      "key= Korea\n",
      "Value = seoul\n",
      "key= China\n",
      "Value = Beijin\n",
      "key= USA\n",
      "Value = Washington DC\n"
     ]
    }
   ],
   "source": [
    "for i in jcp:\n",
    "    print(\"key=\",i)\n",
    "    print(\"Value =\",jcp[i])"
   ]
  },
  {
   "cell_type": "code",
   "execution_count": 26,
   "metadata": {},
   "outputs": [],
   "source": [
    "with open(\"capital.json\",'w') as f:\n",
    "    json.dump(jcp,f,indent='\\t')"
   ]
  },
  {
   "cell_type": "code",
   "execution_count": 27,
   "metadata": {},
   "outputs": [],
   "source": [
    "fruit={\"apple\":5000,\"banana\":4000,\"Grape\":5300,\"melon\":6500}"
   ]
  },
  {
   "cell_type": "code",
   "execution_count": 37,
   "metadata": {},
   "outputs": [
    {
     "name": "stdout",
     "output_type": "stream",
     "text": [
      "The price of an appleis 5000 KRW\n",
      "The price of a bananais 4000 KRW\n",
      "The price of a Grapeis 5300 KRW\n",
      "The price of a melonis 6500 KRW\n"
     ]
    }
   ],
   "source": [
    "for i in fruit:\n",
    "    print(f'The price of {\"an\" if i[0] in \"aeiou\" else \"a\"} {i}is {fruit[i]} KRW')"
   ]
  },
  {
   "cell_type": "code",
   "execution_count": 46,
   "metadata": {},
   "outputs": [],
   "source": [
    "a={'a':1,'b':2,'c':3,'d':4}\n",
    "a.pop('a')\n",
    "a['a']=5"
   ]
  },
  {
   "cell_type": "code",
   "execution_count": 48,
   "metadata": {},
   "outputs": [
    {
     "name": "stdout",
     "output_type": "stream",
     "text": [
      "2\n",
      "3\n",
      "4\n",
      "5\n"
     ]
    }
   ],
   "source": [
    "for i in a.values():\n",
    "    print(i)"
   ]
  },
  {
   "attachments": {},
   "cell_type": "markdown",
   "metadata": {},
   "source": [
    "##POP(KEY)"
   ]
  },
  {
   "cell_type": "code",
   "execution_count": 52,
   "metadata": {},
   "outputs": [
    {
     "name": "stdout",
     "output_type": "stream",
     "text": [
      "i like Python and java\n",
      "i like Python and Java\n",
      "  123,  1234\n"
     ]
    }
   ],
   "source": [
    "print('i like {} and {}'.format(\"Python\",\"java\"))\n",
    "print('i like {1} and {0}'.format(\"Java\",\"Python\"))\n",
    "print('{0:5},{1:6}'.format(123,1234))"
   ]
  },
  {
   "cell_type": "code",
   "execution_count": 64,
   "metadata": {},
   "outputs": [
    {
     "name": "stdout",
     "output_type": "stream",
     "text": [
      "dict_keys(['apple', 'banaana', 'melon', 'orange'])\n",
      "apple is   in dictionary\n",
      "lemon is not in dictionary \n"
     ]
    }
   ],
   "source": [
    "f={\n",
    "    \"apple\":6000\n",
    "    ,\"banaana\":5000,\n",
    "    \"melon\":3000,\n",
    "    \"orange\": 4000\n",
    "}\n",
    "print(f.keys())\n",
    "print(f\"apple is  {'' if 'apple' in f.keys() else 'not'} in dictionary\")\n",
    "print(f\"lemon is {'' if 'lemon' in f.keys() else 'not'} in dictionary \")"
   ]
  },
  {
   "cell_type": "code",
   "execution_count": 69,
   "metadata": {},
   "outputs": [
    {
     "name": "stdout",
     "output_type": "stream",
     "text": [
      " town a population rate is 0.176 and for b is 0.0033\n"
     ]
    }
   ],
   "source": [
    "popa=(100,150,230,120,100,100,140,95,81,21,4)\n",
    "popb=(300,420,530,420,400,300,40,5,1,1,1)\n",
    "olda=sum(popa[7:])\n",
    "oldb=sum(popb[7:])\n",
    "suma,sumb=sum(popa),sum(popb)\n",
    "ra,rb=olda/suma , oldb/sumb\n",
    "print(f\" town a population rate is {ra:5.3f} and for b is {rb:5.4f}\")"
   ]
  },
  {
   "cell_type": "code",
   "execution_count": 71,
   "metadata": {},
   "outputs": [
    {
     "name": "stdout",
     "output_type": "stream",
     "text": [
      "(2, 3, 4, 5, 2, 3, 4, 5)\n"
     ]
    }
   ],
   "source": [
    "t=(2,3,4,5)\n",
    "print(t*2)\n",
    "t2=t*2"
   ]
  },
  {
   "cell_type": "code",
   "execution_count": 72,
   "metadata": {},
   "outputs": [
    {
     "name": "stdout",
     "output_type": "stream",
     "text": [
      "2\n"
     ]
    }
   ],
   "source": [
    "print(t2.count(2))"
   ]
  },
  {
   "cell_type": "code",
   "execution_count": 73,
   "metadata": {},
   "outputs": [
    {
     "data": {
      "text/plain": [
       "3"
      ]
     },
     "execution_count": 73,
     "metadata": {},
     "output_type": "execute_result"
    }
   ],
   "source": [
    "str=\"Hello there\"\n",
    "str.count('e')"
   ]
  },
  {
   "cell_type": "code",
   "execution_count": 74,
   "metadata": {},
   "outputs": [
    {
     "data": {
      "text/plain": [
       "5"
      ]
     },
     "execution_count": 74,
     "metadata": {},
     "output_type": "execute_result"
    }
   ],
   "source": [
    "r=range(0,5,1)\n",
    "len(r)"
   ]
  },
  {
   "cell_type": "code",
   "execution_count": 82,
   "metadata": {},
   "outputs": [
    {
     "name": "stdout",
     "output_type": "stream",
     "text": [
      "294\n",
      "201\n"
     ]
    }
   ],
   "source": [
    "print(ord('a')+ord('b')+ord('c'))\n",
    "print(ord('d')+ord('e'))"
   ]
  },
  {
   "cell_type": "code",
   "execution_count": 78,
   "metadata": {},
   "outputs": [
    {
     "data": {
      "text/plain": [
       "300"
      ]
     },
     "execution_count": 78,
     "metadata": {},
     "output_type": "execute_result"
    }
   ],
   "source": [
    "ord('d')+ord('c')+ord('e')"
   ]
  },
  {
   "cell_type": "code",
   "execution_count": 79,
   "metadata": {},
   "outputs": [
    {
     "data": {
      "text/plain": [
       "69"
      ]
     },
     "execution_count": 79,
     "metadata": {},
     "output_type": "execute_result"
    }
   ],
   "source": [
    "ord('E')"
   ]
  },
  {
   "cell_type": "code",
   "execution_count": 83,
   "metadata": {},
   "outputs": [
    {
     "name": "stdout",
     "output_type": "stream",
     "text": [
      "True\n",
      "False\n",
      "True\n",
      "('a', 'b', 'c', 'd', 'e')\n",
      "[('a', 'b', 'c', 'd', 'e')]\n",
      "('a', 'b', 'c')\n"
     ]
    },
    {
     "data": {
      "text/plain": [
       "1"
      ]
     },
     "execution_count": 83,
     "metadata": {},
     "output_type": "execute_result"
    }
   ],
   "source": [
    "t1='a','b','c'\n",
    "t2=('a','b','c')\n",
    "t3=('d','e')\n",
    "print(t1==t2)\n",
    "print(t1>t3)\n",
    "print(t1<t3)\n",
    "print(t2+t3)\n",
    "print([t2+t3])\n",
    "print(t1)\n",
    "l=[t2+t3]\n",
    "len(l)"
   ]
  },
  {
   "cell_type": "code",
   "execution_count": 86,
   "metadata": {},
   "outputs": [
    {
     "name": "stdout",
     "output_type": "stream",
     "text": [
      "in 10 days,3 days had reduced sales compared to the previous day.\n"
     ]
    }
   ],
   "source": [
    "sales=(100,121,120,130,140,120,122,123,190,125)\n",
    "c=0\n",
    "for i in range(len(sales)-1):\n",
    "        if sales[i+1]<sales[i]:\n",
    "            c+=1\n",
    "print(f\"in 10 days,{c} days had reduced sales compared to the previous day.\")"
   ]
  },
  {
   "cell_type": "code",
   "execution_count": 87,
   "metadata": {},
   "outputs": [
    {
     "name": "stdout",
     "output_type": "stream",
     "text": [
      "[1, 2, 2, 3, 3, 3, 4, 5, 7, 9, 9]\n"
     ]
    }
   ],
   "source": [
    "t=(1,2,5,4,3,2,9,3,7,3,9)\n",
    "l=list(t)\n",
    "l.sort()\n",
    "print(l)"
   ]
  },
  {
   "cell_type": "code",
   "execution_count": 96,
   "metadata": {},
   "outputs": [
    {
     "name": "stdout",
     "output_type": "stream",
     "text": [
      "Most Frequently repeated:  9\n",
      "16\n",
      "16\n",
      "[3, 9, 9, 3, 3, 9]\n"
     ]
    }
   ],
   "source": [
    "t=(1,2,5,4,3,2,1,4,7,8,9,9,3,7,3,9)\n",
    "c=[t.count(i) for i in t]\n",
    "m=[i for i in t if t.count(i)==max(c)]\n",
    "print(\"Most Frequently repeated: \",max(m))\n",
    "print(len(c))\n",
    "print(len(t))\n",
    "print(m)"
   ]
  },
  {
   "cell_type": "code",
   "execution_count": 92,
   "metadata": {},
   "outputs": [
    {
     "name": "stdout",
     "output_type": "stream",
     "text": [
      "[(1,), 'abc', (1,), ('a',), ('a', 'b'), ((),)]\n"
     ]
    }
   ],
   "source": [
    "li=[(),(1,),[],'abc',(),(),(1,),('a',),('a','b'),((),),'']\n",
    "n_empp=[i for i in li if len(i)]\n",
    "print(n_empp)        "
   ]
  },
  {
   "cell_type": "code",
   "execution_count": 100,
   "metadata": {},
   "outputs": [
    {
     "name": "stdout",
     "output_type": "stream",
     "text": [
      "1 0 1 1 0 1 \n",
      "1 1 1 1 1 1 \n",
      "1 1 1 0 1 1 \n",
      "available seat:  18\n"
     ]
    }
   ],
   "source": [
    "import random as r\n",
    "seat=[[r.randint(0,1) for j in range(6)] for i in range(3)]\n",
    "a=0\n",
    "for i in seat:\n",
    "    for s in i:\n",
    "        print(s,end=\" \")\n",
    "        a+=1\n",
    "    print()   \n",
    "print(\"available seat: \",a)             "
   ]
  },
  {
   "cell_type": "code",
   "execution_count": null,
   "metadata": {},
   "outputs": [],
   "source": []
  }
 ],
 "metadata": {
  "kernelspec": {
   "display_name": "Python 3",
   "language": "python",
   "name": "python3"
  },
  "language_info": {
   "codemirror_mode": {
    "name": "ipython",
    "version": 3
   },
   "file_extension": ".py",
   "mimetype": "text/x-python",
   "name": "python",
   "nbconvert_exporter": "python",
   "pygments_lexer": "ipython3",
   "version": "3.10.4"
  },
  "orig_nbformat": 4,
  "vscode": {
   "interpreter": {
    "hash": "3ad933181bd8a04b432d3370b9dc3b0662ad032c4dfaa4e4f1596c548f763858"
   }
  }
 },
 "nbformat": 4,
 "nbformat_minor": 2
}

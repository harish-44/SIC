{
 "cells": [
  {
   "attachments": {},
   "cell_type": "markdown",
   "metadata": {},
   "source": [
    "- Greedy Approach\n",
    "    - Selecting the optimmal denominations from the given list of notes\n",
    "    - Selecting the maximum number of activities from a given list of activities\n",
    "- Divide and Conquer Approach\n",
    "    - Findng the minimum cost in the given tree/path\n",
    "    - Quick Sort"
   ]
  },
  {
   "cell_type": "code",
   "execution_count": 8,
   "metadata": {},
   "outputs": [
    {
     "name": "stdout",
     "output_type": "stream",
     "text": [
      "[0, 1, 4, 5]\n",
      "4\n"
     ]
    }
   ],
   "source": [
    "def Auditorium_Allocation(start,finish):\n",
    "    result=[]\n",
    "    i=0\n",
    "    result.append(i)\n",
    "    for j in range(1,len(start)):\n",
    "        if finish[i] <= start[j]:\n",
    "            result.append(j)\n",
    "            i=j\n",
    "    return result\n",
    "start=[1,3,2,0,5,8,5]\n",
    "finish=[2,4,5,6,6,9,9]\n",
    "workshops=Auditorium_Allocation(start,finish)\n",
    "print(workshops)\n",
    "total=len(workshops)\n",
    "print(total)"
   ]
  },
  {
   "attachments": {},
   "cell_type": "markdown",
   "metadata": {},
   "source": [
    "Shortest Path\n"
   ]
  },
  {
   "cell_type": "code",
   "execution_count": 17,
   "metadata": {},
   "outputs": [
    {
     "name": "stdout",
     "output_type": "stream",
     "text": [
      "Minimum cost of path  11\n"
     ]
    }
   ],
   "source": [
    "def Shortest_Path(row,col,paths):\n",
    "    if row == len(paths):\n",
    "        return 0\n",
    "    else:\n",
    "        minimum=min(Shortest_Path(row+1,col,paths),Shortest_Path(row+1,col+1,paths))\n",
    "        return paths[row][col] + minimum\n",
    "paths=[\n",
    "    [2],\n",
    "    [3,4],\n",
    "    [6,5,7],\n",
    "    [4,1,8,3]\n",
    "]\n",
    "minimumcost=Shortest_Path(0,0,paths)\n",
    "print(\"Minimum cost of path \",minimumcost)"
   ]
  },
  {
   "attachments": {},
   "cell_type": "markdown",
   "metadata": {},
   "source": [
    "- Given list of n natural numbers, in jumbled order,get the value of k from the user and find the kth minimum and kth maximum from the ist ofnumbers.\n"
   ]
  },
  {
   "cell_type": "code",
   "execution_count": 26,
   "metadata": {},
   "outputs": [
    {
     "name": "stdout",
     "output_type": "stream",
     "text": [
      "kth smallest  67\n",
      "kth largest  43\n"
     ]
    }
   ],
   "source": [
    "l=[67,23,43,56,67,534,54]\n",
    "n=list(set(l))\n",
    "q=int(input(\"Enter the k vaklue\"))\n",
    "n.sort()\n",
    "print(\"kth smallest \",n[q-1])\n",
    "print(\"kth largest \",n[-q])"
   ]
  },
  {
   "attachments": {},
   "cell_type": "markdown",
   "metadata": {},
   "source": [
    "Pascal Triangle"
   ]
  },
  {
   "cell_type": "code",
   "execution_count": 1,
   "metadata": {},
   "outputs": [
    {
     "name": "stdout",
     "output_type": "stream",
     "text": [
      "         1 \n",
      "        1 1 \n",
      "       1 2 1 \n",
      "      1 3 3 1 \n",
      "     1 4 6 4 1 \n"
     ]
    }
   ],
   "source": [
    "n=10\n",
    "for i in range(5):\n",
    "    for j in range(n-1):\n",
    "        print(\" \",end=\"\")\n",
    "    n=n-1\n",
    "    l=str(11**i)\n",
    "    for k in range(len(l)):\n",
    "        print(l[k],end=\" \")\n",
    "    print()"
   ]
  },
  {
   "cell_type": "code",
   "execution_count": 48,
   "metadata": {},
   "outputs": [
    {
     "name": "stdout",
     "output_type": "stream",
     "text": [
      "      1\n",
      "     1 1\n",
      "    1 2 1\n",
      "   1 3 3 1\n",
      "  1 4 6 4 1\n"
     ]
    }
   ],
   "source": [
    "n=5\n",
    "for i in range(n):\n",
    "    print(\" \"*(n-i),end=\" \")\n",
    "    print(\" \".join(str(11**i)))"
   ]
  },
  {
   "attachments": {},
   "cell_type": "markdown",
   "metadata": {},
   "source": [
    "| age | Affected Persons | COVID-19 | Pneumonia | Tuborclosis | Flu | H1n1|\n",
    "|-----|------------------|----------|-----------|-------------|-----|-----|\n",
    "| >5 | 1640 | 298 | 297 | 386 | 189 | 470|\n",
    "| >10 | 1455 | 366 | 431 | 0 | 480 | 178 |\n",
    "| >15 | 1409 | 492 | 111 | 374 | 186 | 246 |\n",
    "| 20-30 | 997 | 187 | 0 | 205 | 465 | 140 |\n",
    "| upto 50 | 1437 | 376 | 438 | 384 | 0 | 239 |\n",
    "| >50 | 1425 | 363 | 312 | 416 | 185 | 149|"
   ]
  },
  {
   "cell_type": "markdown",
   "metadata": {},
   "source": []
  },
  {
   "cell_type": "code",
   "execution_count": null,
   "metadata": {},
   "outputs": [],
   "source": []
  }
 ],
 "metadata": {
  "kernelspec": {
   "display_name": "Python 3",
   "language": "python",
   "name": "python3"
  },
  "language_info": {
   "codemirror_mode": {
    "name": "ipython",
    "version": 3
   },
   "file_extension": ".py",
   "mimetype": "text/x-python",
   "name": "python",
   "nbconvert_exporter": "python",
   "pygments_lexer": "ipython3",
   "version": "3.10.4"
  },
  "orig_nbformat": 4
 },
 "nbformat": 4,
 "nbformat_minor": 2
}

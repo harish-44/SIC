def isSafe(Matix,r,c):
    for i in range(r):
        if Matrix[i][c]=='Q':
            return False
    i,j=r,c
    while i>=0 and j>=0:
        
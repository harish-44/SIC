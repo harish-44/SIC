{
 "cells": [
  {
   "attachments": {},
   "cell_type": "markdown",
   "metadata": {},
   "source": [
    "- MAP function\n",
    "- lambda funtion\n",
    "- Closure\n",
    "- Turtle install:\n",
    "    - conda create -n Turtle\n",
    "    - conda activate Turtle\n",
    "    - pip install ipyturtle3\n",
    "\n"
   ]
  },
  {
   "cell_type": "code",
   "execution_count": 2,
   "metadata": {},
   "outputs": [
    {
     "name": "stdout",
     "output_type": "stream",
     "text": [
      "callfunc(greet) function call\n",
      "Hello\n",
      "Hyouka is great\n"
     ]
    }
   ],
   "source": [
    "def callfunc(fun):\n",
    "    fun()\n",
    "def greet():\n",
    "    print('Hello')\n",
    "    print(\"Hyouka is great\")\n",
    "print('callfunc(greet) function call')\n",
    "callfunc(greet)        "
   ]
  },
  {
   "cell_type": "code",
   "execution_count": 3,
   "metadata": {},
   "outputs": [
    {
     "name": "stdout",
     "output_type": "stream",
     "text": [
      "300       -100\n"
     ]
    }
   ],
   "source": [
    "def plus(a,b):\n",
    "    return a+b\n",
    "def minus(a,b):\n",
    "    return a-b\n",
    "l_list=[plus,minus]\n",
    "a=l_list[0](100,200)\n",
    "b=l_list[1](100,200)\n",
    "print(a,\"     \",b)"
   ]
  },
  {
   "cell_type": "code",
   "execution_count": 10,
   "metadata": {},
   "outputs": [
    {
     "name": "stdout",
     "output_type": "stream",
     "text": [
      "level 2: 333\n",
      "level 1: 777\n"
     ]
    }
   ],
   "source": [
    "def f():\n",
    "    a=777\n",
    "    def g():\n",
    "        a=100\n",
    "        def h():\n",
    "            nonlocal a\n",
    "            a=333\n",
    "        h()\n",
    "        print(\"level 2:\",a)\n",
    "    g()\n",
    "    print(\"level 1:\",a)\n",
    "f()            \n",
    "            "
   ]
  },
  {
   "cell_type": "code",
   "execution_count": 16,
   "metadata": {},
   "outputs": [
    {
     "name": "stdout",
     "output_type": "stream",
     "text": [
      "2 4 6\n"
     ]
    }
   ],
   "source": [
    "def clos():\n",
    "    a=2\n",
    "    def mult(x):\n",
    "        return a*x\n",
    "    return mult\n",
    "c=clos();\n",
    "print(c(1),c(2),c(3))\n"
   ]
  },
  {
   "cell_type": "code",
   "execution_count": 23,
   "metadata": {},
   "outputs": [
    {
     "name": "stdout",
     "output_type": "stream",
     "text": [
      "8 11 14 17 20\n"
     ]
    }
   ],
   "source": [
    "def calc():\n",
    "    a=3\n",
    "    b=5\n",
    "    def mul_add(x):\n",
    "        return a*x+b\n",
    "    return mul_add\n",
    "c=calc();\n",
    "print(c(1),c(2),c(3),c(4),c(5))"
   ]
  },
  {
   "cell_type": "code",
   "execution_count": 21,
   "metadata": {},
   "outputs": [
    {
     "name": "stdout",
     "output_type": "stream",
     "text": [
      "5 7 9\n"
     ]
    }
   ],
   "source": [
    "def clos():\n",
    "    a=2\n",
    "    b=3\n",
    "    return lambda x: a*x+b\n",
    "c=clos()\n",
    "print(c(1),c(2),c(3))"
   ]
  },
  {
   "cell_type": "code",
   "execution_count": 25,
   "metadata": {},
   "outputs": [
    {
     "name": "stdout",
     "output_type": "stream",
     "text": [
      "Hi\n"
     ]
    }
   ],
   "source": [
    "def greetings(haha):\n",
    "    haha()\n",
    "def say_hi():\n",
    "    print(\"Hi\")    \n",
    "greetings(say_hi)        "
   ]
  },
  {
   "cell_type": "code",
   "execution_count": 1,
   "metadata": {},
   "outputs": [
    {
     "data": {
      "application/vnd.jupyter.widget-view+json": {
       "model_id": "ae8db23503da459e955150ce892bca68",
       "version_major": 2,
       "version_minor": 0
      },
      "text/plain": [
       "Canvas(height=250, width=500)"
      ]
     },
     "metadata": {},
     "output_type": "display_data"
    }
   ],
   "source": [
    "import ipyturtle3 as turtle\n",
    "from ipyturtle3 import hold_canvas\n",
    "myCanvas=turtle.Canvas(width=500,height=250)\n",
    "display(myCanvas)\n",
    "myTS=turtle.TurtleScreen(myCanvas)\n",
    "bob=turtle.Turtle(myTS)\n",
    "for i in range(200):\n",
    "    bob.forward(i)\n",
    "    bob.left(91)\n"
   ]
  },
  {
   "cell_type": "code",
   "execution_count": 1,
   "metadata": {},
   "outputs": [
    {
     "ename": "ModuleNotFoundError",
     "evalue": "No module named 'mobilechelonian'",
     "output_type": "error",
     "traceback": [
      "\u001b[0;31m---------------------------------------------------------------------------\u001b[0m",
      "\u001b[0;31mModuleNotFoundError\u001b[0m                       Traceback (most recent call last)",
      "Cell \u001b[0;32mIn[1], line 1\u001b[0m\n\u001b[0;32m----> 1\u001b[0m \u001b[39mfrom\u001b[39;00m \u001b[39mmobilechelonian\u001b[39;00m \u001b[39mimport\u001b[39;00m Turtle\n\u001b[1;32m      2\u001b[0m t\u001b[39m=\u001b[39m Turtle()\n\u001b[1;32m      3\u001b[0m t\u001b[39m.\u001b[39mforward(\u001b[39m100\u001b[39m)\n",
      "\u001b[0;31mModuleNotFoundError\u001b[0m: No module named 'mobilechelonian'"
     ]
    }
   ],
   "source": [
    "from mobilechelonian import Turtle\n",
    "t= Turtle()\n",
    "t.forward(100)"
   ]
  },
  {
   "cell_type": "code",
   "execution_count": null,
   "metadata": {},
   "outputs": [],
   "source": []
  }
 ],
 "metadata": {
  "kernelspec": {
   "display_name": "Python 3",
   "language": "python",
   "name": "python3"
  },
  "language_info": {
   "codemirror_mode": {
    "name": "ipython",
    "version": 3
   },
   "file_extension": ".py",
   "mimetype": "text/x-python",
   "name": "python",
   "nbconvert_exporter": "python",
   "pygments_lexer": "ipython3",
   "version": "3.11.0"
  },
  "orig_nbformat": 4
 },
 "nbformat": 4,
 "nbformat_minor": 2
}

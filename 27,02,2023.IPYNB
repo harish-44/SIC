{
 "cells": [
  {
   "attachments": {},
   "cell_type": "markdown",
   "metadata": {},
   "source": [
    "- lowercase \n",
    "- uppercase\n",
    "- endswith"
   ]
  },
  {
   "cell_type": "code",
   "execution_count": 1,
   "metadata": {},
   "outputs": [
    {
     "data": {
      "text/plain": [
       "'achibiya'"
      ]
     },
     "execution_count": 1,
     "metadata": {},
     "output_type": "execute_result"
    }
   ],
   "source": [
    "A=\"ACHIBIYA\"\n",
    "A.lower()"
   ]
  },
  {
   "cell_type": "code",
   "execution_count": 3,
   "metadata": {},
   "outputs": [
    {
     "name": "stdout",
     "output_type": "stream",
     "text": [
      "ACHIBIYA\n"
     ]
    }
   ],
   "source": [
    "print(A)"
   ]
  },
  {
   "cell_type": "code",
   "execution_count": 4,
   "metadata": {},
   "outputs": [
    {
     "name": "stdout",
     "output_type": "stream",
     "text": [
      "153\n",
      "370\n",
      "371\n",
      "407\n"
     ]
    }
   ],
   "source": [
    "for i in range(100,1000):\n",
    "    if i == sum(int(i)**3 for i in list(str(i))):\n",
    "        print(i)"
   ]
  },
  {
   "cell_type": "code",
   "execution_count": 18,
   "metadata": {},
   "outputs": [
    {
     "data": {
      "text/plain": [
       "True"
      ]
     },
     "execution_count": 18,
     "metadata": {},
     "output_type": "execute_result"
    }
   ],
   "source": [
    "a=\"hello there, how are you\"\n",
    "a.endswith('o',1,15)"
   ]
  },
  {
   "cell_type": "code",
   "execution_count": 9,
   "metadata": {},
   "outputs": [
    {
     "data": {
      "text/plain": [
       "'o'"
      ]
     },
     "execution_count": 9,
     "metadata": {},
     "output_type": "execute_result"
    }
   ],
   "source": [
    "a[4]"
   ]
  },
  {
   "cell_type": "code",
   "execution_count": 15,
   "metadata": {},
   "outputs": [
    {
     "data": {
      "text/plain": [
       "True"
      ]
     },
     "execution_count": 15,
     "metadata": {},
     "output_type": "execute_result"
    }
   ],
   "source": [
    "s=\"hello\"\n",
    "s.endswith('o',0,5)"
   ]
  },
  {
   "cell_type": "code",
   "execution_count": 20,
   "metadata": {},
   "outputs": [
    {
     "name": "stdout",
     "output_type": "stream",
     "text": [
      "123:::456:::789:::1231423\n",
      "123456789,1231423\n"
     ]
    }
   ],
   "source": [
    "t='123,456,789,1231423'\n",
    "a=t.replace(',',':::')\n",
    "print(a)\n",
    "print(t.replace(\",\",\"\",2))"
   ]
  },
  {
   "cell_type": "code",
   "execution_count": 24,
   "metadata": {},
   "outputs": [
    {
     "name": "stdout",
     "output_type": "stream",
     "text": [
      "False\n",
      "0\n"
     ]
    }
   ],
   "source": [
    "x=1\n",
    "y=0\n",
    "print(not x)\n",
    "print(x and y)"
   ]
  },
  {
   "cell_type": "code",
   "execution_count": 25,
   "metadata": {},
   "outputs": [
    {
     "data": {
      "text/plain": [
       "0"
      ]
     },
     "execution_count": 25,
     "metadata": {},
     "output_type": "execute_result"
    }
   ],
   "source": [
    "1 and 2 and 0"
   ]
  },
  {
   "cell_type": "code",
   "execution_count": 26,
   "metadata": {},
   "outputs": [
    {
     "data": {
      "text/plain": [
       "70"
      ]
     },
     "execution_count": 26,
     "metadata": {},
     "output_type": "execute_result"
    }
   ],
   "source": [
    "0 or 0 or 70"
   ]
  },
  {
   "cell_type": "code",
   "execution_count": 27,
   "metadata": {},
   "outputs": [
    {
     "data": {
      "text/plain": [
       "47"
      ]
     },
     "execution_count": 27,
     "metadata": {},
     "output_type": "execute_result"
    }
   ],
   "source": [
    "0 or 47 or 32"
   ]
  },
  {
   "cell_type": "code",
   "execution_count": 28,
   "metadata": {},
   "outputs": [
    {
     "data": {
      "text/plain": [
       "40"
      ]
     },
     "execution_count": 28,
     "metadata": {},
     "output_type": "execute_result"
    }
   ],
   "source": [
    "0 or 40 or 55"
   ]
  },
  {
   "cell_type": "code",
   "execution_count": 34,
   "metadata": {},
   "outputs": [
    {
     "name": "stdout",
     "output_type": "stream",
     "text": [
      "select menu 1)check stock 2)release 3) warehousing 4)exit\n",
      "4\n",
      "select menu 1)check stock 2)release 3) warehousing 4)exit\n",
      "select menu 1)check stock 2)release 3) warehousing 4)exit\n",
      "3\n",
      "select menu 1)check stock 2)release 3) warehousing 4)exit\n"
     ]
    }
   ],
   "source": [
    "items={\"coffee cup\":8,\"pen\":4,\"paper\":5,\"notebook\":5,\"pencil\":8}\n",
    "while True:\n",
    "    print(f'select menu 1)check stock 2)release 3) warehousing 4)exit')\n",
    "    inp=input()\n",
    "    if inp.lower().replace(\" \",\"\")=='checkstock':\n",
    "        n=input(\"Enter the item \")\n",
    "        print(items[n])\n",
    "    elif   inp.lower().strip()== 'release':\n",
    "        n=input(\"Enter the item \")\n",
    "        if n in items:\n",
    "            items[n.lower()]-=1\n",
    "    elif inp.lower().strip()== 'warehousing':\n",
    "        n=input(\"Enter the item \")\n",
    "        if n in items:\n",
    "            items[n.lower()]+=1\n",
    "    else:\n",
    "        break                "
   ]
  },
  {
   "cell_type": "code",
   "execution_count": null,
   "metadata": {},
   "outputs": [],
   "source": [
    "dic={'Chinese restaurant': (110-234-2132), 'Italian restaurant': (110-234-2133), 'Japanese restaurant': (110-234-2134), 'Korean restaurant': (110-234-2135), 'Mexican restaurant': (110-234-2136), 'Thai restaurant': (110-234-2137), 'Vietnamese restaurant': (110-234-2138)}\n",
    "print(\"previous nmber\")\n",
    "for key,value in dic.items():\n",
    "    print(key,\":\",value)\n",
    "for key,value in dic.items():\n",
    "    adr,re=input(key)    "
   ]
  }
 ],
 "metadata": {
  "kernelspec": {
   "display_name": "Python 3",
   "language": "python",
   "name": "python3"
  },
  "language_info": {
   "codemirror_mode": {
    "name": "ipython",
    "version": 3
   },
   "file_extension": ".py",
   "mimetype": "text/x-python",
   "name": "python",
   "nbconvert_exporter": "python",
   "pygments_lexer": "ipython3",
   "version": "3.10.4"
  },
  "orig_nbformat": 4,
  "vscode": {
   "interpreter": {
    "hash": "3ad933181bd8a04b432d3370b9dc3b0662ad032c4dfaa4e4f1596c548f763858"
   }
  }
 },
 "nbformat": 4,
 "nbformat_minor": 2
}

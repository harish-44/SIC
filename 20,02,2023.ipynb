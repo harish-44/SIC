{
 "cells": [
  {
   "cell_type": "code",
   "execution_count": 1,
   "id": "990353b5",
   "metadata": {},
   "outputs": [
    {
     "name": "stdout",
     "output_type": "stream",
     "text": [
      "Welcome\n",
      "Welcome\n",
      "Welcome\n",
      "Welcome\n",
      "Welcome\n"
     ]
    }
   ],
   "source": [
    "i=0\n",
    "while i<5:\n",
    "    print(\"Welcome\")\n",
    "    i+=1"
   ]
  },
  {
   "cell_type": "code",
   "execution_count": 1,
   "id": "906d37bf",
   "metadata": {},
   "outputs": [
    {
     "name": "stdout",
     "output_type": "stream",
     "text": [
      "Enter the number6\n",
      "21\n"
     ]
    }
   ],
   "source": [
    "i=0\n",
    "n=int(input(\"Enter the number\"))\n",
    "su=0\n",
    "while i<=n:\n",
    "        su+=i\n",
    "        i+=1\n",
    "print(su)        "
   ]
  },
  {
   "cell_type": "code",
   "execution_count": 2,
   "id": "9329336b",
   "metadata": {},
   "outputs": [
    {
     "name": "stdout",
     "output_type": "stream",
     "text": [
      "Enter the number: 6\n",
      "21\n"
     ]
    }
   ],
   "source": [
    "sum=0\n",
    "n=int(input(\"Enter the number: \"))\n",
    "for i in range(n+1):\n",
    "    sum+=i\n",
    "print(f'{sum}')    "
   ]
  },
  {
   "cell_type": "code",
   "execution_count": 4,
   "id": "22f4e068",
   "metadata": {},
   "outputs": [
    {
     "name": "stdout",
     "output_type": "stream",
     "text": [
      "Enter(scissor,paper,rock)paper\n",
      "selected paper\n"
     ]
    }
   ],
   "source": [
    "s=None\n",
    "while s not in ['scissor','paper','rock']:\n",
    "    s=input(\"Enter(scissor,paper,rock)\")\n",
    "print(f'selected {s}')    "
   ]
  },
  {
   "cell_type": "code",
   "execution_count": 6,
   "id": "565851b9",
   "metadata": {},
   "outputs": [
    {
     "name": "stdout",
     "output_type": "stream",
     "text": [
      "hi\n",
      "hello\n",
      "hehe\n"
     ]
    }
   ],
   "source": [
    "name=['hi','hello','hehe']\n",
    "i=0\n",
    "while i<len(name):\n",
    "    print(name[i])\n",
    "    i+=1"
   ]
  },
  {
   "cell_type": "code",
   "execution_count": 18,
   "id": "b5cec0ba",
   "metadata": {},
   "outputs": [
    {
     "name": "stdout",
     "output_type": "stream",
     "text": [
      "[4, 3, 2, 1, 5]\n",
      "0\n",
      "5\n"
     ]
    }
   ],
   "source": [
    "import random\n",
    "\n",
    "seq=[1,2,3,4,5]\n",
    "random.shuffle(seq)\n",
    "print(seq)\n",
    "print(random.randint(0,8))\n",
    "print(random.randrange(0,8))"
   ]
  },
  {
   "cell_type": "code",
   "execution_count": 20,
   "id": "166a8ef3",
   "metadata": {},
   "outputs": [
    {
     "name": "stdout",
     "output_type": "stream",
     "text": [
      "2 * 1= 2\n",
      "2 * 2= 4\n",
      "2 * 3= 6\n",
      "2 * 4= 8\n",
      "2 * 5=10\n",
      "2 * 6=12\n",
      "2 * 7=14\n",
      "2 * 8=16\n",
      "2 * 9=18\n",
      "2 *10=20\n"
     ]
    }
   ],
   "source": [
    "for i in range(1,11):\n",
    "    print(f'2 *{i:2}={2*i:2}')"
   ]
  },
  {
   "cell_type": "code",
   "execution_count": 22,
   "id": "b1dd8a3d",
   "metadata": {},
   "outputs": [
    {
     "name": "stdout",
     "output_type": "stream",
     "text": [
      "2 * 1 = 2\n",
      "2 * 2 = 4\n",
      "2 * 3 = 6\n",
      "2 * 4 = 8\n",
      "2 * 5 =10\n",
      "2 * 6 =12\n",
      "2 * 7 =14\n",
      "2 * 8 =16\n",
      "2 * 9 =18\n"
     ]
    }
   ],
   "source": [
    "i=1\n",
    "while i<10:\n",
    "    print(f'2 *{i:2} ={2*i:2}')\n",
    "    i+=1"
   ]
  },
  {
   "cell_type": "code",
   "execution_count": 1,
   "id": "dc6ccabe",
   "metadata": {},
   "outputs": [
    {
     "name": "stdout",
     "output_type": "stream",
     "text": [
      "Enter number btw 1 to 10050\n",
      "Higher\n",
      "Enter number btw 1 to 10030\n",
      "Higher\n",
      "Enter number btw 1 to 10020\n",
      "Lower\n",
      "Enter number btw 1 to 10025\n",
      "Higher\n",
      "Enter number btw 1 to 10023\n",
      "Congratulations. Total try 5\n"
     ]
    }
   ],
   "source": [
    "import random as r\n",
    "n=r.randint(1,100)\n",
    "c=0\n",
    "while True:\n",
    "    c+=1\n",
    "    inp=int(input(\"Enter number btw 1 to 100\"))\n",
    "    if(inp==n):\n",
    "        print(f'Congratulations. Total try {c}')\n",
    "        break\n",
    "    elif (inp<n):\n",
    "        print(\"Lower\")\n",
    "    else:\n",
    "        print(\"Higher\")\n",
    "        "
   ]
  },
  {
   "cell_type": "code",
   "execution_count": 8,
   "id": "63ae14de",
   "metadata": {},
   "outputs": [
    {
     "name": "stdout",
     "output_type": "stream",
     "text": [
      "['hi', 20, 'M', 'hello', 10, 'F', 'hola', 30, 'M']\n",
      "60\n",
      "Average=  20.0\n"
     ]
    }
   ],
   "source": [
    "p1=['hi',20,'M']\n",
    "p2=['hello',10,'F']\n",
    "p3=['hola',30,'M']\n",
    "p=p1+p2+p3\n",
    "print(p)\n",
    "sum=0\n",
    "n=int(len(p)/3)\n",
    "for age in p[1::3]:\n",
    "    sum+=age\n",
    "print(sum)  \n",
    "avg=0\n",
    "print(\"Average= \",sum/3)"
   ]
  },
  {
   "cell_type": "code",
   "execution_count": 12,
   "id": "2e5b01f3",
   "metadata": {},
   "outputs": [
    {
     "name": "stdout",
     "output_type": "stream",
     "text": [
      "[11, 22, 33, 44, 55, 66]\n",
      "6\n",
      "11\n"
     ]
    }
   ],
   "source": [
    "l=[11,22,33,44,55,66]\n",
    "print(l)\n",
    "print(len(l))\n",
    "print(l[0])"
   ]
  },
  {
   "cell_type": "code",
   "execution_count": 28,
   "id": "ddcc886c",
   "metadata": {},
   "outputs": [
    {
     "name": "stdout",
     "output_type": "stream",
     "text": [
      "\n",
      " 1 *  1 = 1  1 *  2 = 2  1 *  3 = 3  1 *  4 = 4  1 *  5 = 5  1 *  6 = 6  1 *  7 = 7  1 *  8 = 8  1 *  9 = 9 \n",
      " 2 *  1 = 2  2 *  2 = 4  2 *  3 = 6  2 *  4 = 8  2 *  5 =10  2 *  6 =12  2 *  7 =14  2 *  8 =16  2 *  9 =18 \n",
      " 3 *  1 = 3  3 *  2 = 6  3 *  3 = 9  3 *  4 =12  3 *  5 =15  3 *  6 =18  3 *  7 =21  3 *  8 =24  3 *  9 =27 \n",
      " 4 *  1 = 4  4 *  2 = 8  4 *  3 =12  4 *  4 =16  4 *  5 =20  4 *  6 =24  4 *  7 =28  4 *  8 =32  4 *  9 =36 \n",
      " 5 *  1 = 5  5 *  2 =10  5 *  3 =15  5 *  4 =20  5 *  5 =25  5 *  6 =30  5 *  7 =35  5 *  8 =40  5 *  9 =45 \n",
      " 6 *  1 = 6  6 *  2 =12  6 *  3 =18  6 *  4 =24  6 *  5 =30  6 *  6 =36  6 *  7 =42  6 *  8 =48  6 *  9 =54 \n",
      " 7 *  1 = 7  7 *  2 =14  7 *  3 =21  7 *  4 =28  7 *  5 =35  7 *  6 =42  7 *  7 =49  7 *  8 =56  7 *  9 =63 \n",
      " 8 *  1 = 8  8 *  2 =16  8 *  3 =24  8 *  4 =32  8 *  5 =40  8 *  6 =48  8 *  7 =56  8 *  8 =64  8 *  9 =72 \n",
      " 9 *  1 = 9  9 *  2 =18  9 *  3 =27  9 *  4 =36  9 *  5 =45  9 *  6 =54  9 *  7 =63  9 *  8 =72  9 *  9 =81 "
     ]
    }
   ],
   "source": [
    "l.append(77)\n",
    "for i in range(1,10):\n",
    "    print()\n",
    "    for j in range(1,10):\n",
    "        print(f'{i:2} * {j:2} ={i*j:2}',end=\" \")\n",
    "         "
   ]
  },
  {
   "cell_type": "code",
   "execution_count": 29,
   "id": "16d70c21",
   "metadata": {},
   "outputs": [
    {
     "name": "stdout",
     "output_type": "stream",
     "text": [
      "Hello\n"
     ]
    }
   ],
   "source": [
    "print(\"Hello\")"
   ]
  },
  {
   "cell_type": "code",
   "execution_count": 30,
   "id": "5eb42798",
   "metadata": {},
   "outputs": [
    {
     "name": "stdout",
     "output_type": "stream",
     "text": [
      "[11, 22, 33, 44, 55, 66, 77, 77, 77, 77, 77, 77, 77, 77, 77, 77, 77, 77, 77, 77, 'h', 'a', 'r', 'i', 's', 's', 's', 'A', 'y', 'u', 's', 's', 's', 's', 's', 10, 22, 34]\n"
     ]
    }
   ],
   "source": [
    "l2=[10,22,34]\n",
    "l.extend(\"harisss\")\n",
    "l.extend(\"Ayusssss\")\n",
    "l.extend(l2)\n",
    "print(l)"
   ]
  },
  {
   "cell_type": "code",
   "execution_count": 47,
   "id": "af1f3939",
   "metadata": {},
   "outputs": [
    {
     "name": "stdout",
     "output_type": "stream",
     "text": [
      "[11, 22, 33, 44, 55, 'ko', 'o', 'k', 1, 2, 3, 42, 5]\n",
      "[11, 22, 33, 44, 55, 'ko', 'o', 'k', 1, 2, 3, 42, 5, 23, 24]\n",
      "[33, 44, 55, 'ko', 'o', 'k', 1, 2, 3, 42, 5, 23, 24, [23, 24]]\n",
      "[33, 44, 55, 'ko', 'o', 'k', 1, 2, 3, 42, 5, 23, 24]\n"
     ]
    }
   ],
   "source": [
    "t=[11,22,33,44,55]\n",
    "t.append(\"ko\")\n",
    "t.extend(\"ok\")\n",
    "t1=[1,2,3,42,5]\n",
    "t.extend(t1)\n",
    "print(t)\n",
    "t.extend([23,24])\n",
    "print(t)\n",
    "t.pop(0)\n",
    "t.append([23,24])\n",
    "del t[0]\n",
    "print(t)\n",
    "t.remove([23,24])\n",
    "print(t)"
   ]
  },
  {
   "cell_type": "code",
   "execution_count": 33,
   "id": "ba296254",
   "metadata": {},
   "outputs": [
    {
     "name": "stdout",
     "output_type": "stream",
     "text": [
      "Help on class list in module builtins:\n",
      "\n",
      "class list(object)\n",
      " |  list(iterable=(), /)\n",
      " |  \n",
      " |  Built-in mutable sequence.\n",
      " |  \n",
      " |  If no argument is given, the constructor creates a new empty list.\n",
      " |  The argument must be an iterable if specified.\n",
      " |  \n",
      " |  Methods defined here:\n",
      " |  \n",
      " |  __add__(self, value, /)\n",
      " |      Return self+value.\n",
      " |  \n",
      " |  __contains__(self, key, /)\n",
      " |      Return key in self.\n",
      " |  \n",
      " |  __delitem__(self, key, /)\n",
      " |      Delete self[key].\n",
      " |  \n",
      " |  __eq__(self, value, /)\n",
      " |      Return self==value.\n",
      " |  \n",
      " |  __ge__(self, value, /)\n",
      " |      Return self>=value.\n",
      " |  \n",
      " |  __getattribute__(self, name, /)\n",
      " |      Return getattr(self, name).\n",
      " |  \n",
      " |  __getitem__(...)\n",
      " |      x.__getitem__(y) <==> x[y]\n",
      " |  \n",
      " |  __gt__(self, value, /)\n",
      " |      Return self>value.\n",
      " |  \n",
      " |  __iadd__(self, value, /)\n",
      " |      Implement self+=value.\n",
      " |  \n",
      " |  __imul__(self, value, /)\n",
      " |      Implement self*=value.\n",
      " |  \n",
      " |  __init__(self, /, *args, **kwargs)\n",
      " |      Initialize self.  See help(type(self)) for accurate signature.\n",
      " |  \n",
      " |  __iter__(self, /)\n",
      " |      Implement iter(self).\n",
      " |  \n",
      " |  __le__(self, value, /)\n",
      " |      Return self<=value.\n",
      " |  \n",
      " |  __len__(self, /)\n",
      " |      Return len(self).\n",
      " |  \n",
      " |  __lt__(self, value, /)\n",
      " |      Return self<value.\n",
      " |  \n",
      " |  __mul__(self, value, /)\n",
      " |      Return self*value.\n",
      " |  \n",
      " |  __ne__(self, value, /)\n",
      " |      Return self!=value.\n",
      " |  \n",
      " |  __repr__(self, /)\n",
      " |      Return repr(self).\n",
      " |  \n",
      " |  __reversed__(self, /)\n",
      " |      Return a reverse iterator over the list.\n",
      " |  \n",
      " |  __rmul__(self, value, /)\n",
      " |      Return value*self.\n",
      " |  \n",
      " |  __setitem__(self, key, value, /)\n",
      " |      Set self[key] to value.\n",
      " |  \n",
      " |  __sizeof__(self, /)\n",
      " |      Return the size of the list in memory, in bytes.\n",
      " |  \n",
      " |  append(self, object, /)\n",
      " |      Append object to the end of the list.\n",
      " |  \n",
      " |  clear(self, /)\n",
      " |      Remove all items from list.\n",
      " |  \n",
      " |  copy(self, /)\n",
      " |      Return a shallow copy of the list.\n",
      " |  \n",
      " |  count(self, value, /)\n",
      " |      Return number of occurrences of value.\n",
      " |  \n",
      " |  extend(self, iterable, /)\n",
      " |      Extend list by appending elements from the iterable.\n",
      " |  \n",
      " |  index(self, value, start=0, stop=9223372036854775807, /)\n",
      " |      Return first index of value.\n",
      " |      \n",
      " |      Raises ValueError if the value is not present.\n",
      " |  \n",
      " |  insert(self, index, object, /)\n",
      " |      Insert object before index.\n",
      " |  \n",
      " |  pop(self, index=-1, /)\n",
      " |      Remove and return item at index (default last).\n",
      " |      \n",
      " |      Raises IndexError if list is empty or index is out of range.\n",
      " |  \n",
      " |  remove(self, value, /)\n",
      " |      Remove first occurrence of value.\n",
      " |      \n",
      " |      Raises ValueError if the value is not present.\n",
      " |  \n",
      " |  reverse(self, /)\n",
      " |      Reverse *IN PLACE*.\n",
      " |  \n",
      " |  sort(self, /, *, key=None, reverse=False)\n",
      " |      Sort the list in ascending order and return None.\n",
      " |      \n",
      " |      The sort is in-place (i.e. the list itself is modified) and stable (i.e. the\n",
      " |      order of two equal elements is maintained).\n",
      " |      \n",
      " |      If a key function is given, apply it once to each list item and sort them,\n",
      " |      ascending or descending, according to their function values.\n",
      " |      \n",
      " |      The reverse flag can be set to sort in descending order.\n",
      " |  \n",
      " |  ----------------------------------------------------------------------\n",
      " |  Class methods defined here:\n",
      " |  \n",
      " |  __class_getitem__(...) from builtins.type\n",
      " |      See PEP 585\n",
      " |  \n",
      " |  ----------------------------------------------------------------------\n",
      " |  Static methods defined here:\n",
      " |  \n",
      " |  __new__(*args, **kwargs) from builtins.type\n",
      " |      Create and return a new object.  See help(type) for accurate signature.\n",
      " |  \n",
      " |  ----------------------------------------------------------------------\n",
      " |  Data and other attributes defined here:\n",
      " |  \n",
      " |  __hash__ = None\n",
      "\n"
     ]
    }
   ],
   "source": [
    "help(list)"
   ]
  },
  {
   "cell_type": "code",
   "execution_count": null,
   "id": "aacca7d7",
   "metadata": {},
   "outputs": [],
   "source": []
  }
 ],
 "metadata": {
  "kernelspec": {
   "display_name": "Python 3 (ipykernel)",
   "language": "python",
   "name": "python3"
  },
  "language_info": {
   "codemirror_mode": {
    "name": "ipython",
    "version": 3
   },
   "file_extension": ".py",
   "mimetype": "text/x-python",
   "name": "python",
   "nbconvert_exporter": "python",
   "pygments_lexer": "ipython3",
   "version": "3.10.9"
  }
 },
 "nbformat": 4,
 "nbformat_minor": 5
}

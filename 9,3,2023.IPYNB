{
 "cells": [
  {
   "attachments": {},
   "cell_type": "markdown",
   "metadata": {},
   "source": [
    "- QUEUES"
   ]
  },
  {
   "cell_type": "code",
   "execution_count": 3,
   "metadata": {},
   "outputs": [],
   "source": [
    "class Queue:\n",
    "    def __init__(self):\n",
    "        self.items=[]\n",
    "    def __str__(self):\n",
    "        return f'{list(self.items[0:len(self.items)])}'\n",
    "    def isEmpty(self):\n",
    "        return True if len(self.items)==0 else False\n",
    "    def enqueue(self,ele):\n",
    "        self.items.append(ele)\n",
    "    def dequeue(self):\n",
    "        return self.items.pop(0) if not self.isEmpty() else \"Empty Queue\"\n",
    "q=Queue()\n",
    "q.enqueue(1)\n",
    "q.enqueue(2)\n",
    "q.enqueue(3)\n"
   ]
  },
  {
   "cell_type": "code",
   "execution_count": 4,
   "metadata": {},
   "outputs": [
    {
     "name": "stdout",
     "output_type": "stream",
     "text": [
      "[1, 2, 3]\n"
     ]
    }
   ],
   "source": [
    "print(q)"
   ]
  },
  {
   "cell_type": "code",
   "execution_count": 5,
   "metadata": {},
   "outputs": [
    {
     "data": {
      "text/plain": [
       "1"
      ]
     },
     "execution_count": 5,
     "metadata": {},
     "output_type": "execute_result"
    }
   ],
   "source": [
    "q.dequeue()"
   ]
  },
  {
   "cell_type": "code",
   "execution_count": 6,
   "metadata": {},
   "outputs": [
    {
     "name": "stdout",
     "output_type": "stream",
     "text": [
      "[2, 3]\n"
     ]
    }
   ],
   "source": [
    "print(q)"
   ]
  },
  {
   "attachments": {},
   "cell_type": "markdown",
   "metadata": {},
   "source": [
    "- Josephus_Sequence"
   ]
  },
  {
   "cell_type": "code",
   "execution_count": 21,
   "metadata": {},
   "outputs": [
    {
     "name": "stdout",
     "output_type": "stream",
     "text": [
      "Initiall seq=[] and josq=[1, 2, 3, 4, 5]\n",
      "\n",
      "else(1%3)-----seq=[] and josq=[2, 3, 4, 5, 1]\n",
      "\n",
      "else(2%3)-----seq=[] and josq=[3, 4, 5, 1, 2]\n",
      "\n",
      "if(3%3)----seq=[3] and josq=[4, 5, 1, 2]\n",
      "\n",
      "else(4%3)-----seq=[3] and josq=[5, 1, 2, 4]\n",
      "\n",
      "else(5%3)-----seq=[3] and josq=[1, 2, 4, 5]\n",
      "\n",
      "if(6%3)----seq=[3, 1] and josq=[2, 4, 5]\n",
      "\n",
      "else(7%3)-----seq=[3, 1] and josq=[4, 5, 2]\n",
      "\n",
      "else(8%3)-----seq=[3, 1] and josq=[5, 2, 4]\n",
      "\n",
      "if(9%3)----seq=[3, 1, 5] and josq=[2, 4]\n",
      "\n",
      "else(10%3)-----seq=[3, 1, 5] and josq=[4, 2]\n",
      "\n",
      "else(11%3)-----seq=[3, 1, 5] and josq=[2, 4]\n",
      "\n",
      "if(12%3)----seq=[3, 1, 5, 2] and josq=[4]\n"
     ]
    },
    {
     "data": {
      "text/plain": [
       "'seq=[3, 1, 5, 2, 4] and josq=[]'"
      ]
     },
     "execution_count": 21,
     "metadata": {},
     "output_type": "execute_result"
    }
   ],
   "source": [
    "class Queue:\n",
    "    def __init__(self):\n",
    "        self.items=[]\n",
    "    def __str__(self):\n",
    "        return f'{list(self.items[0:len(self.items)])}'\n",
    "    def size(self):\n",
    "        return len(self.items)\n",
    "    def isEmpty(self):\n",
    "        return True if len(self.items)==0 else False\n",
    "    def enqueue(self,ele):\n",
    "        self.items.append(ele)\n",
    "    def dequeue(self):\n",
    "        return self.items.pop(0) if not self.isEmpty() else \"Empty Queue\"\n",
    "def Josephus_Sequence(n,position):\n",
    "    seq=[]\n",
    "    josq=Queue()\n",
    "    for i in range(1,n+1):\n",
    "        josq.enqueue(i)\n",
    "    temp=1\n",
    "    print(f'Initiall seq={seq} and josq={josq}')\n",
    "    while(josq.size()>1):\n",
    "        person = josq.dequeue()\n",
    "        if temp%position==0:\n",
    "            seq.append(person)\n",
    "            print()\n",
    "            print(f'if({temp}%{position})----seq={seq} and josq={josq}')\n",
    "        else:\n",
    "            josq.enqueue(person)\n",
    "            print()\n",
    "            print(f'else({temp}%{position})-----seq={seq} and josq={josq}')\n",
    "        temp+=1\n",
    "    seq.append(josq.dequeue())\n",
    "    return f'seq={seq} and josq={josq}'\n",
    "Josephus_Sequence(5,3)"
   ]
  },
  {
   "cell_type": "code",
   "execution_count": null,
   "metadata": {},
   "outputs": [],
   "source": []
  }
 ],
 "metadata": {
  "kernelspec": {
   "display_name": "Python 3",
   "language": "python",
   "name": "python3"
  },
  "language_info": {
   "codemirror_mode": {
    "name": "ipython",
    "version": 3
   },
   "file_extension": ".py",
   "mimetype": "text/x-python",
   "name": "python",
   "nbconvert_exporter": "python",
   "pygments_lexer": "ipython3",
   "version": "3.11.0"
  },
  "orig_nbformat": 4
 },
 "nbformat": 4,
 "nbformat_minor": 2
}

{
 "cells": [
  {
   "attachments": {},
   "cell_type": "markdown",
   "metadata": {},
   "source": [
    "- QUEUES"
   ]
  },
  {
   "cell_type": "code",
   "execution_count": 3,
   "metadata": {},
   "outputs": [],
   "source": [
    "class Queue:\n",
    "    def __init__(self):\n",
    "        self.items=[]\n",
    "    def __str__(self):\n",
    "        return f'{list(self.items[0:len(self.items)])}'\n",
    "    def isEmpty(self):\n",
    "        return True if len(self.items)==0 else False\n",
    "    def enqueue(self,ele):\n",
    "        self.items.append(ele)\n",
    "    def dequeue(self):\n",
    "        return self.items.pop(0) if not self.isEmpty() else \"Empty Queue\"\n",
    "q=Queue()\n",
    "q.enqueue(1)\n",
    "q.enqueue(2)\n",
    "q.enqueue(3)\n"
   ]
  },
  {
   "cell_type": "code",
   "execution_count": 4,
   "metadata": {},
   "outputs": [
    {
     "name": "stdout",
     "output_type": "stream",
     "text": [
      "[1, 2, 3]\n"
     ]
    }
   ],
   "source": [
    "print(q)"
   ]
  },
  {
   "cell_type": "code",
   "execution_count": 5,
   "metadata": {},
   "outputs": [
    {
     "data": {
      "text/plain": [
       "1"
      ]
     },
     "execution_count": 5,
     "metadata": {},
     "output_type": "execute_result"
    }
   ],
   "source": [
    "q.dequeue()"
   ]
  },
  {
   "cell_type": "code",
   "execution_count": 6,
   "metadata": {},
   "outputs": [
    {
     "name": "stdout",
     "output_type": "stream",
     "text": [
      "[2, 3]\n"
     ]
    }
   ],
   "source": [
    "print(q)"
   ]
  },
  {
   "attachments": {},
   "cell_type": "markdown",
   "metadata": {},
   "source": [
    "- Josephus_Sequence"
   ]
  },
  {
   "cell_type": "code",
   "execution_count": 21,
   "metadata": {},
   "outputs": [
    {
     "name": "stdout",
     "output_type": "stream",
     "text": [
      "Initiall seq=[] and josq=[1, 2, 3, 4, 5]\n",
      "\n",
      "else(1%3)-----seq=[] and josq=[2, 3, 4, 5, 1]\n",
      "\n",
      "else(2%3)-----seq=[] and josq=[3, 4, 5, 1, 2]\n",
      "\n",
      "if(3%3)----seq=[3] and josq=[4, 5, 1, 2]\n",
      "\n",
      "else(4%3)-----seq=[3] and josq=[5, 1, 2, 4]\n",
      "\n",
      "else(5%3)-----seq=[3] and josq=[1, 2, 4, 5]\n",
      "\n",
      "if(6%3)----seq=[3, 1] and josq=[2, 4, 5]\n",
      "\n",
      "else(7%3)-----seq=[3, 1] and josq=[4, 5, 2]\n",
      "\n",
      "else(8%3)-----seq=[3, 1] and josq=[5, 2, 4]\n",
      "\n",
      "if(9%3)----seq=[3, 1, 5] and josq=[2, 4]\n",
      "\n",
      "else(10%3)-----seq=[3, 1, 5] and josq=[4, 2]\n",
      "\n",
      "else(11%3)-----seq=[3, 1, 5] and josq=[2, 4]\n",
      "\n",
      "if(12%3)----seq=[3, 1, 5, 2] and josq=[4]\n"
     ]
    },
    {
     "data": {
      "text/plain": [
       "'seq=[3, 1, 5, 2, 4] and josq=[]'"
      ]
     },
     "execution_count": 21,
     "metadata": {},
     "output_type": "execute_result"
    }
   ],
   "source": [
    "class Queue:\n",
    "    def __init__(self):\n",
    "        self.items=[]\n",
    "    def __str__(self):\n",
    "        return f'{list(self.items[0:len(self.items)])}'\n",
    "    def size(self):\n",
    "        return len(self.items)\n",
    "    def isEmpty(self):\n",
    "        return True if len(self.items)==0 else False\n",
    "    def enqueue(self,ele):\n",
    "        self.items.append(ele)\n",
    "    def dequeue(self):\n",
    "        return self.items.pop(0) if not self.isEmpty() else \"Empty Queue\"\n",
    "def Josephus_Sequence(n,position):\n",
    "    seq=[]\n",
    "    josq=Queue()\n",
    "    for i in range(1,n+1):\n",
    "        josq.enqueue(i)\n",
    "    temp=1\n",
    "    print(f'Initiall seq={seq} and josq={josq}')\n",
    "    while(josq.size()>1):\n",
    "        person = josq.dequeue()\n",
    "        if temp%position==0:\n",
    "            seq.append(person)\n",
    "            print()\n",
    "            print(f'if({temp}%{position})----seq={seq} and josq={josq}')\n",
    "        else:\n",
    "            josq.enqueue(person)\n",
    "            print()\n",
    "            print(f'else({temp}%{position})-----seq={seq} and josq={josq}')\n",
    "        temp+=1\n",
    "    seq.append(josq.dequeue())\n",
    "    return f'seq={seq} and josq={josq}'\n",
    "Josephus_Sequence(5,3)"
   ]
  },
  {
   "attachments": {},
   "cell_type": "markdown",
   "metadata": {},
   "source": [
    "- Linear Search"
   ]
  },
  {
   "cell_type": "code",
   "execution_count": 9,
   "metadata": {},
   "outputs": [
    {
     "name": "stdout",
     "output_type": "stream",
     "text": [
      "[1, 23, 43, 23, 24, 35, 465, 65, 35, 55]\n",
      "('Found at index', 1)\n"
     ]
    }
   ],
   "source": [
    "l=[1,23,43,23,24,35,465,65,35,55]\n",
    "print(l)\n",
    "f=0\n",
    "key=int(input(\"Enter the key to search: \"))\n",
    "\"\"\"for i in l:\n",
    "    if i==key:\n",
    "        print(f'Fount {key} at index {l.index(i)}')\n",
    "        f=1\n",
    "        break\n",
    "if f==0:\n",
    "    print(\"Not found\")\"\"\"\n",
    "print(f'{\"Found at index\",l.index(key) if key in l else \"Not found\"}')"
   ]
  },
  {
   "cell_type": "code",
   "execution_count": 11,
   "metadata": {},
   "outputs": [
    {
     "name": "stdout",
     "output_type": "stream",
     "text": [
      "226\n"
     ]
    }
   ],
   "source": [
    "import random as r\n",
    "l=r.randint(200,300)\n",
    "print(l)"
   ]
  },
  {
   "attachments": {},
   "cell_type": "markdown",
   "metadata": {},
   "source": [
    "INHERITANCE"
   ]
  },
  {
   "cell_type": "code",
   "execution_count": 15,
   "metadata": {},
   "outputs": [
    {
     "name": "stdout",
     "output_type": "stream",
     "text": [
      "Start the Bike\n",
      "Start the Car\n"
     ]
    }
   ],
   "source": [
    "class vehicle:\n",
    "    def Ignition(Self):\n",
    "        print(\"Start the Vehicle\")\n",
    "class Bike(vehicle):\n",
    "    def Ignition(slef):#overriding\n",
    "        print(\"Start the Bike\")\n",
    "class Car(vehicle):\n",
    "    def Ignition(slef):#overriding\n",
    "        print(\"Start the Car\")\n",
    "bk=Bike()\n",
    "bk.Ignition()\n",
    "car=Car()\n",
    "car.Ignition()"
   ]
  },
  {
   "cell_type": "code",
   "execution_count": 17,
   "metadata": {},
   "outputs": [
    {
     "name": "stdout",
     "output_type": "stream",
     "text": [
      "Granade\n"
     ]
    }
   ],
   "source": [
    "import random as r\n",
    "global l\n",
    "l=[\"Granade\",\"RocketLauncher\",\"knife\"]\n",
    "class Player:\n",
    "    def AcquirePower(self):\n",
    "        random=r.randint(0,2)\n",
    "        return l[random]\n",
    "class Weapon(Player):\n",
    "    pass\n",
    "p=Weapon()\n",
    "print(p.AcquirePower())    "
   ]
  },
  {
   "cell_type": "code",
   "execution_count": 36,
   "metadata": {},
   "outputs": [
    {
     "name": "stdout",
     "output_type": "stream",
     "text": [
      "Knife has been acquired\n"
     ]
    }
   ],
   "source": [
    "import random as r\n",
    "class Player:\n",
    "    def acquirePower(self):\n",
    "        e=r.randint(0,2)\n",
    "        if e==0:\n",
    "            Granade()\n",
    "        elif e==1:\n",
    "             RocketLauncher()\n",
    "        else:\n",
    "             Knife()\n",
    "class Weapon(Player):\n",
    "    pass\n",
    "class Granade(Player):\n",
    "    def __init__(self):\n",
    "       print('Granade is in ur hands HAHAHA')\n",
    "class RocketLauncher(Player):\n",
    "    def __init__(self):\n",
    "        print(\"RocketLauncher has been acquired\")\n",
    "class Knife(Player):\n",
    "    def __init__(self):\n",
    "         print(\"Knife has been acquired\")\n",
    "p=Weapon()\n",
    "p.acquirePower()    \n",
    "    "
   ]
  },
  {
   "cell_type": "code",
   "execution_count": 39,
   "metadata": {},
   "outputs": [
    {
     "name": "stdout",
     "output_type": "stream",
     "text": [
      "Your Phone Capability is 3 floors\n",
      "Total 10 Floors\n",
      "[-1, -1, -1, 4, 5, 6, 7, 8, 9, 10] -1 is safe floor\n"
     ]
    }
   ],
   "source": [
    "import random as r\n",
    "e=r.randint(0,10)\n",
    "print(f'Your Phone Capability is {e} floors')\n",
    "l=list(i for i in range(1,11))\n",
    "print(\"Total 10 Floors\")\n",
    "for i in range(len(l)):\n",
    "    if i<e:\n",
    "        l[i]=-1\n",
    "    else:\n",
    "        pass\n",
    "print(l,\"-1 is safe floor\")"
   ]
  },
  {
   "cell_type": "code",
   "execution_count": 40,
   "metadata": {},
   "outputs": [
    {
     "name": "stdout",
     "output_type": "stream",
     "text": [
      "[69, 53, 58, 61, 95, 14, 50, 83, 89, 100]\n",
      "100\n"
     ]
    }
   ],
   "source": [
    "#take a list and fill in with 10 random numbers and find the biggest number in the list and find biggest ele in list\n",
    "import random as r\n",
    "l=[]\n",
    "for i in range(10):\n",
    "    e=r.randint(0,100)\n",
    "    l.append(e)\n",
    "print(l)\n",
    "print(max(l))"
   ]
  },
  {
   "attachments": {},
   "cell_type": "markdown",
   "metadata": {},
   "source": [
    "- Binary Search\n",
    "    - SORTED in ascending order always"
   ]
  },
  {
   "cell_type": "code",
   "execution_count": 46,
   "metadata": {},
   "outputs": [
    {
     "name": "stdout",
     "output_type": "stream",
     "text": [
      "Not found\n"
     ]
    }
   ],
   "source": [
    "def binary_search(lst,key):\n",
    "    low,high=0,len(lst)-1\n",
    "    while(low<=high):\n",
    "        mid=(low+high)//2\n",
    "        if key==lst[mid]:\n",
    "            print(f'Found at index {mid}')\n",
    "            return\n",
    "        elif key<lst[mid]:\n",
    "            high=mid-1\n",
    "        else:\n",
    "            low=mid+1\n",
    "    print(\"Not found\")\n",
    "l=[1,2,3,4,5,6,7,8,9,10]\n",
    "binary_search(l,33)"
   ]
  },
  {
   "cell_type": "code",
   "execution_count": null,
   "metadata": {},
   "outputs": [],
   "source": []
  }
 ],
 "metadata": {
  "kernelspec": {
   "display_name": "Python 3",
   "language": "python",
   "name": "python3"
  },
  "language_info": {
   "codemirror_mode": {
    "name": "ipython",
    "version": 3
   },
   "file_extension": ".py",
   "mimetype": "text/x-python",
   "name": "python",
   "nbconvert_exporter": "python",
   "pygments_lexer": "ipython3",
   "version": "3.11.0"
  },
  "orig_nbformat": 4
 },
 "nbformat": 4,
 "nbformat_minor": 2
}

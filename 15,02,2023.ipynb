{
 "cells": [
  {
   "cell_type": "markdown",
   "id": "d05e84e7",
   "metadata": {},
   "source": [
    "# Today's class\n"
   ]
  },
  {
   "cell_type": "code",
   "execution_count": 10,
   "id": "14c7763f",
   "metadata": {},
   "outputs": [
    {
     "name": "stdout",
     "output_type": "stream",
     "text": [
      "Enter a 3- digit number315\n",
      "True\n"
     ]
    }
   ],
   "source": [
    "try:\n",
    "    a=int(input(\"Enter a 3- digit number\"))\n",
    "    n=a//100\n",
    "    if(n==3):\n",
    "        print(True)\n",
    "    else:\n",
    "        print(False)\n",
    "except:\n",
    "    print(\"Enter proper number idiota\")"
   ]
  },
  {
   "cell_type": "code",
   "execution_count": 2,
   "id": "2bc2e397",
   "metadata": {},
   "outputs": [
    {
     "name": "stdout",
     "output_type": "stream",
     "text": [
      "Enter the number125\n",
      "True\n"
     ]
    }
   ],
   "source": [
    "n=int(input(\"Enter the number\"))\n",
    "if n%5 ==0:\n",
    "    print(True)\n",
    "else:\n",
    "    print(False)"
   ]
  },
  {
   "cell_type": "code",
   "execution_count": 12,
   "id": "24f52daf",
   "metadata": {},
   "outputs": [
    {
     "name": "stdout",
     "output_type": "stream",
     "text": [
      "12\n",
      "1\n"
     ]
    }
   ],
   "source": [
    "print(125//10)\n",
    "print(125//100)"
   ]
  },
  {
   "cell_type": "code",
   "execution_count": 15,
   "id": "97a18506",
   "metadata": {},
   "outputs": [
    {
     "name": "stdout",
     "output_type": "stream",
     "text": [
      "Enter age: 12\n",
      "Youth Discount\n"
     ]
    }
   ],
   "source": [
    "age=int(input(\"Enter age: \"))\n",
    "if age<20:\n",
    "    print(\"Youth Discount\")"
   ]
  },
  {
   "cell_type": "code",
   "execution_count": 18,
   "id": "5fc84c48",
   "metadata": {},
   "outputs": [
    {
     "ename": "IndentationError",
     "evalue": "unexpected indent (2333361645.py, line 4)",
     "output_type": "error",
     "traceback": [
      "\u001b[1;36m  Cell \u001b[1;32mIn[18], line 4\u001b[1;36m\u001b[0m\n\u001b[1;33m    print(\"Your Welcome\")\u001b[0m\n\u001b[1;37m    ^\u001b[0m\n\u001b[1;31mIndentationError\u001b[0m\u001b[1;31m:\u001b[0m unexpected indent\n"
     ]
    }
   ],
   "source": [
    "age=int(input(\"Enter age: \"))\n",
    "if age<20:\n",
    "    print(\"age: \",age)\n",
    "    print(\"Your Welcome\")\n",
    "    print(\"Yputh Discount\")"
   ]
  },
  {
   "cell_type": "code",
   "execution_count": 19,
   "id": "900a2791",
   "metadata": {},
   "outputs": [
    {
     "name": "stdout",
     "output_type": "stream",
     "text": [
      "Enter a number: 12\n",
      "Multiple of 3.xx\n"
     ]
    }
   ],
   "source": [
    "n=int(input(\"Enter a number: \"))\n",
    "if n%3==0:\n",
    "    print(\"Multiple of 3.xx\")"
   ]
  },
  {
   "cell_type": "code",
   "execution_count": 26,
   "id": "c531860d",
   "metadata": {},
   "outputs": [
    {
     "name": "stdout",
     "output_type": "stream",
     "text": [
      "Enter ur game score: 12222\n",
      "12222.0 that means u r a master\n"
     ]
    }
   ],
   "source": [
    "score=float(input(\"Enter ur game score: \"))\n",
    "if score>1000:\n",
    "    print(f'{score} that means u r a master')"
   ]
  },
  {
   "cell_type": "code",
   "execution_count": 23,
   "id": "a8a01a45",
   "metadata": {},
   "outputs": [
    {
     "name": "stdout",
     "output_type": "stream",
     "text": [
      "Enter a number: 78\n",
      "78\n",
      "78 is a natural number\n"
     ]
    }
   ],
   "source": [
    "n=int(input(\"Enter a number: \"))\n",
    "if -100<=n<=100:\n",
    "    if n>0:\n",
    "        print(n)\n",
    "        print(f'{n} is a natural number')\n",
    "        "
   ]
  },
  {
   "cell_type": "code",
   "execution_count": 37,
   "id": "a48763e8",
   "metadata": {},
   "outputs": [
    {
     "name": "stdout",
     "output_type": "stream",
     "text": [
      "Enter the sentence: hello how is life\n",
      "after spliting the word:\n",
      "['hello', 'how', 'is', 'life']\n"
     ]
    }
   ],
   "source": [
    "word=input(\"Enter the sentence: \")\n",
    "a=word.split()\n",
    "print(f'after spliting the word:\\n{a}')"
   ]
  },
  {
   "cell_type": "code",
   "execution_count": 32,
   "id": "4567cef2",
   "metadata": {},
   "outputs": [
    {
     "name": "stdout",
     "output_type": "stream",
     "text": [
      "Enter the numbers separated by space:12 12 14 13\n",
      "['12', '12', '14', '13']\n"
     ]
    }
   ],
   "source": [
    "str=input(\"Enter the numbers separated by space:\")\n",
    "a=str.split()\n",
    "print(a)"
   ]
  },
  {
   "cell_type": "code",
   "execution_count": 33,
   "id": "7e2d7899",
   "metadata": {},
   "outputs": [
    {
     "name": "stdout",
     "output_type": "stream",
     "text": [
      "Enter the numbers separated by space:12,12,13\n",
      "['12', '12', '13']\n"
     ]
    }
   ],
   "source": [
    "str=input(\"Enter the numbers separated by space:\")\n",
    "a=str.split(',')\n",
    "print(a)"
   ]
  },
  {
   "cell_type": "code",
   "execution_count": 50,
   "id": "c2051029",
   "metadata": {},
   "outputs": [
    {
     "name": "stdout",
     "output_type": "stream",
     "text": [
      "Enter three numbers: 12 12 12\n",
      "['12', '12', '12']\n",
      "12.0\n"
     ]
    }
   ],
   "source": [
    "a=input(\"Enter three numbers: \").split()\n",
    "sum=0\n",
    "print(a)\n",
    "for i in range(len(a)):\n",
    "    sum=sum+int(a[i])\n",
    "avg=sum/len(a) \n",
    "print(avg)"
   ]
  },
  {
   "cell_type": "code",
   "execution_count": 51,
   "id": "725162bb",
   "metadata": {},
   "outputs": [
    {
     "name": "stdout",
     "output_type": "stream",
     "text": [
      "Enter age: 69\n",
      "Adult\n"
     ]
    }
   ],
   "source": [
    "age=int(input(\"Enter age: \"))\n",
    "if age<=10:\n",
    "    print(\"Kid\")\n",
    "elif age<=20:\n",
    "    print(\"Youth\")\n",
    "else:\n",
    "    print(\"Adult\")"
   ]
  },
  {
   "cell_type": "code",
   "execution_count": 77,
   "id": "434f494b",
   "metadata": {},
   "outputs": [
    {
     "name": "stdout",
     "output_type": "stream",
     "text": [
      "Which side u wanna attack?(left,right,middle)left\n",
      "Offense failed\n"
     ]
    }
   ],
   "source": [
    "import random\n",
    "c=random.randint(1,3)\n",
    "if c==1:\n",
    "    choice=\"right\"\n",
    "elif c==2:\n",
    "    choice=\"middle\"\n",
    "elif c==3:\n",
    "    choice=\"left\"\n",
    "user=input(\"Which side u wanna attack?(left,right,middle)\")\n",
    "if choice==user:\n",
    "    print(\"Offense failed\")\n",
    "else:\n",
    "    print(\"Offense successful\")\n",
    "    print(f'computer choice is {choice:2} :(')\n",
    "    "
   ]
  },
  {
   "cell_type": "code",
   "execution_count": 79,
   "id": "7a3b421d",
   "metadata": {},
   "outputs": [
    {
     "name": "stdout",
     "output_type": "stream",
     "text": [
      "Enter ur marks: 88\n",
      "B\n"
     ]
    }
   ],
   "source": [
    "marks=input(\"Enter ur marks: \")\n",
    "marks=int(marks)\n",
    "if 90<=marks<=100:\n",
    "    print(\"A\")\n",
    "elif 80<=marks<90:\n",
    "    print(\"B\")\n",
    "elif 70<=marks<60:\n",
    "    print(\"C\")\n",
    "else:\n",
    "    print(\"F\")"
   ]
  },
  {
   "cell_type": "code",
   "execution_count": 92,
   "id": "05dc2178",
   "metadata": {},
   "outputs": [
    {
     "name": "stdout",
     "output_type": "stream",
     "text": [
      "##########################################################\n",
      "This is David's fruit shop\n",
      "1. Grape(price: 6000 won)\n",
      "2. Apple(price: 5000 won)\n",
      "3. melon(price: 8000 won)\n",
      "4. Orange(price: 2000 won)\n",
      "##########################################################\n",
      "Enter the choice: 1\n",
      "Enter the number of items: 2\n",
      "Total=  12000\n",
      "Enter money: 20000\n",
      "20000 received. Your change is  8000 won\n"
     ]
    }
   ],
   "source": [
    "grape=6000\n",
    "change=0\n",
    "apple=5000\n",
    "melon=8000\n",
    "orange=2000\n",
    "total=0\n",
    "print(\"##########################################################\")\n",
    "print(\"This is David's fruit shop\")\n",
    "print(\"1. Grape(price: 6000 won)\")\n",
    "print(\"2. Apple(price: 5000 won)\")\n",
    "print(\"3. melon(price: 8000 won)\")\n",
    "print(\"4. Orange(price: 2000 won)\")\n",
    "print(\"##########################################################\")\n",
    "n=int(input(\"Enter the choice: \"))\n",
    "if (n==1) or (n==2) or(n==3) or(n==4):\n",
    "        choice=int(input(\"Enter the number of items: \"))\n",
    "        if n==1:\n",
    "            total=grape*choice\n",
    "            print(\"Total= \",total)\n",
    "        elif n==2:\n",
    "                total=apple*choice\n",
    "                print(\"total= \",total)\n",
    "        elif n==3:\n",
    "            total=melon*choice\n",
    "            print(\"total= \",total)\n",
    "        else:\n",
    "            total=orange*choice\n",
    "            print(\"total= \",total)\n",
    "        money=int(input(\"Enter money: \"))\n",
    "        change=money-total\n",
    "        print(money,\"received. Your change is \",change,\"won\")\n",
    "else:\n",
    "    print(\"Invalid choice\")\n",
    "        "
   ]
  },
  {
   "cell_type": "code",
   "execution_count": 94,
   "id": "a4525cea",
   "metadata": {},
   "outputs": [
    {
     "name": "stdout",
     "output_type": "stream",
     "text": [
      "Enter charector: E\n",
      "vowel\n"
     ]
    }
   ],
   "source": [
    "c=input(\"Enter charector: \")\n",
    "if c.lower() in ['a','e','i','o','u']:\n",
    "    print(\"vowel\")\n",
    "else:\n",
    "    print(\"Consonant\")"
   ]
  },
  {
   "cell_type": "code",
   "execution_count": null,
   "id": "0ccf7b11",
   "metadata": {},
   "outputs": [],
   "source": []
  },
  {
   "cell_type": "code",
   "execution_count": null,
   "id": "a1d4493d",
   "metadata": {},
   "outputs": [],
   "source": []
  }
 ],
 "metadata": {
  "kernelspec": {
   "display_name": "Python 3",
   "language": "python",
   "name": "python3"
  },
  "language_info": {
   "codemirror_mode": {
    "name": "ipython",
    "version": 3
   },
   "file_extension": ".py",
   "mimetype": "text/x-python",
   "name": "python",
   "nbconvert_exporter": "python",
   "pygments_lexer": "ipython3",
   "version": "3.10.4"
  },
  "vscode": {
   "interpreter": {
    "hash": "3ad933181bd8a04b432d3370b9dc3b0662ad032c4dfaa4e4f1596c548f763858"
   }
  }
 },
 "nbformat": 4,
 "nbformat_minor": 5
}

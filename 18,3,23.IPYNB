{
 "cells": [
  {
   "attachments": {},
   "cell_type": "markdown",
   "metadata": {},
   "source": [
    "Population"
   ]
  },
  {
   "cell_type": "code",
   "execution_count": null,
   "metadata": {},
   "outputs": [],
   "source": [
    "Indian_Population_2011 = {\n",
    "    'UP': 199812341,\n",
    "    'Maharashtra': 112372972,\n",
    "    'Bihar': 104099452,\n",
    "    'West Bengal': 91276115,\n",
    "    'Andhra Pradesh': 84580777,\n",
    "    'Madhya Pradesh': 72626809,\n",
    "    'Tamil Nadu':72147030,\n",
    "    'Rajasthan':68548437,\n",
    "    'Karnataka':61095297,\n",
    "    'Gujarat': 60439692,\n",
    "    'Orissa':41974218,\n",
    "    'Kerala':33406061,\n",
    "    'Karnataka':61095297,\n",
    "    'Delhi':16787941,\n",
    "    'Tamil Nadu':72147030,\n",
    "    'Assam':31205576,\n",
    "    'oddisha':41974218,\n",
    "    'Punjab':27743338,\n",
    "    'Kerala':33406061,\n",
    "    'Nagaland':1978502,\n",
    "    'Rajashtan':68548437,\n",
    "}\n",
    "\n",
    "State_Area = {\n",
    "    'UP': 240928,\n",
    "    'Maharashtra': 307713,\n",
    "    'Bihar': 94163,\n",
    "    'West Bengal': 88752,\n",
    "    'Andhra Pradesh': 275045,\n",
    "    'Madhya Pradesh': 308245,\n",
    "    'Tamil Nadu':130058,\n",
    "    'Rajasthan':342239,\n",
    "    'Karnataka':191791,\n",
    "    'Gujarat': 196024,\n",
    "    'Orissa':155707,\n",
    "    'Kerala':38852,\n",
    "    'Karnataka':191791,\n",
    "    'Delhi':1483,\n",
    "    'Tamil Nadu':130058,\n",
    "    'Assam':78438,\n",
    "    'Punjab':50362,\n",
    "    'Kerala':38852,\n",
    "    'Nagaland':16579,\n",
    "}\n",
    "\n"
   ]
  },
  {
   "cell_type": "code",
   "execution_count": 3,
   "metadata": {},
   "outputs": [
    {
     "name": "stdout",
     "output_type": "stream",
     "text": [
      "                                       State  Area in square km\n",
      "0                                  Rajasthan             342239\n",
      "1                             Madhya Pradesh             308245\n",
      "2                                Maharashtra             307713\n",
      "3                              Uttar Pradesh             240928\n",
      "4                                    Gujarat             196024\n",
      "5                                  Karnataka             191792\n",
      "6                             Andhra Pradesh             162975\n",
      "7                                     Odisha             155707\n",
      "8                               Chhattisgarh             135191\n",
      "9                                 Tamil Nadu             130058\n",
      "10                                 Telangana             112077\n",
      "11                                     Bihar              94163\n",
      "12                               West Bengal              88752\n",
      "13                         Arunachal Pradesh              83743\n",
      "14                                 Jharkhand              79716\n",
      "15                                     Assam              78438\n",
      "16                                    Ladakh              59146\n",
      "17                          Himachal Pradesh              55673\n",
      "18                               Uttarakhand              53483\n",
      "19                                    Punjab              50362\n",
      "20                                   Haryana              44212\n",
      "21                         Jammu and Kashmir              42241\n",
      "22                                    Kerala              38863\n",
      "23                                 Meghalaya              22429\n",
      "24                                   Manipur              22327\n",
      "25                                   Mizoram              21081\n",
      "26                                  Nagaland              16579\n",
      "27                                   Tripura              10486\n",
      "28               Andaman and Nicobar Islands               8249\n",
      "29                                    Sikkim               7096\n",
      "30                                       Goa               3702\n",
      "31                                     Delhi               1484\n",
      "32  Dadra and Nagar Haveli and Daman and Diu                603\n",
      "33                                Puducherry                479\n",
      "34                                Chandigarh                114\n",
      "35                               Lakshadweep                 32\n"
     ]
    }
   ],
   "source": [
    "import pandas as pd\n",
    "data = pd.read_excel(\"StateWise_Area.xlsx\")\n",
    "print(data)"
   ]
  },
  {
   "cell_type": "code",
   "execution_count": 6,
   "metadata": {},
   "outputs": [
    {
     "name": "stdout",
     "output_type": "stream",
     "text": [
      " Area in square km\n",
      "            342239\n",
      "            308245\n",
      "            307713\n",
      "            240928\n",
      "            196024\n",
      "            191792\n",
      "            162975\n",
      "            155707\n",
      "            135191\n",
      "            130058\n",
      "            112077\n",
      "             94163\n",
      "             88752\n",
      "             83743\n",
      "             79716\n",
      "             78438\n",
      "             59146\n",
      "             55673\n",
      "             53483\n",
      "             50362\n",
      "             44212\n",
      "             42241\n",
      "             38863\n",
      "             22429\n",
      "             22327\n",
      "             21081\n",
      "             16579\n",
      "             10486\n",
      "              8249\n",
      "              7096\n",
      "              3702\n",
      "              1484\n",
      "               603\n",
      "               479\n",
      "               114\n",
      "                32\n"
     ]
    }
   ],
   "source": [
    "data=pd.read_excel(\"StateWise_Area.xlsx\",usecols='B')\n",
    "print(data.to_string(index=False))"
   ]
  },
  {
   "cell_type": "code",
   "execution_count": 11,
   "metadata": {},
   "outputs": [
    {
     "name": "stdout",
     "output_type": "stream",
     "text": [
      "                                       State\n",
      "0                                  Rajasthan\n",
      "1                             Madhya Pradesh\n",
      "2                                Maharashtra\n",
      "3                              Uttar Pradesh\n",
      "4                                    Gujarat\n",
      "5                                  Karnataka\n",
      "6                             Andhra Pradesh\n",
      "7                                     Odisha\n",
      "8                               Chhattisgarh\n",
      "9                                 Tamil Nadu\n",
      "10                                 Telangana\n",
      "11                                     Bihar\n",
      "12                               West Bengal\n",
      "13                         Arunachal Pradesh\n",
      "14                                 Jharkhand\n",
      "15                                     Assam\n",
      "16                                    Ladakh\n",
      "17                          Himachal Pradesh\n",
      "18                               Uttarakhand\n",
      "19                                    Punjab\n",
      "20                                   Haryana\n",
      "21                         Jammu and Kashmir\n",
      "22                                    Kerala\n",
      "23                                 Meghalaya\n",
      "24                                   Manipur\n",
      "25                                   Mizoram\n",
      "26                                  Nagaland\n",
      "27                                   Tripura\n",
      "28               Andaman and Nicobar Islands\n",
      "29                                    Sikkim\n",
      "30                                       Goa\n",
      "31                                     Delhi\n",
      "32  Dadra and Nagar Haveli and Daman and Diu\n",
      "33                                Puducherry\n",
      "34                                Chandigarh\n",
      "35                               Lakshadweep\n"
     ]
    },
    {
     "name": "stderr",
     "output_type": "stream",
     "text": [
      "/tmp/ipykernel_1932/2197784568.py:1: FutureWarning: Defining usecols with out of bounds indices is deprecated and will raise a ParserError in a future version.\n",
      "  data=pd.read_excel(\"StateWise_Area.xlsx\",usecols=[0,2])\n"
     ]
    }
   ],
   "source": [
    "data=pd.read_excel(\"StateWise_Area.xlsx\",usecols=[0,2])\n",
    "print(data.to_string(index=False))"
   ]
  },
  {
   "cell_type": "code",
   "execution_count": 15,
   "metadata": {},
   "outputs": [
    {
     "name": "stdout",
     "output_type": "stream",
     "text": [
      "0         Rajasthan\n",
      "1    Madhya Pradesh\n",
      "2       Maharashtra\n",
      "3     Uttar Pradesh\n",
      "4           Gujarat\n",
      "Name: State, dtype: object\n"
     ]
    }
   ],
   "source": [
    "dataset=data['State'] #selecting a column\n",
    "print(dataset.head()) #print first 5 rows"
   ]
  },
  {
   "cell_type": "code",
   "execution_count": null,
   "metadata": {},
   "outputs": [],
   "source": []
  }
 ],
 "metadata": {
  "kernelspec": {
   "display_name": "Python 3",
   "language": "python",
   "name": "python3"
  },
  "language_info": {
   "codemirror_mode": {
    "name": "ipython",
    "version": 3
   },
   "file_extension": ".py",
   "mimetype": "text/x-python",
   "name": "python",
   "nbconvert_exporter": "python",
   "pygments_lexer": "ipython3",
   "version": "3.10.4"
  },
  "orig_nbformat": 4
 },
 "nbformat": 4,
 "nbformat_minor": 2
}

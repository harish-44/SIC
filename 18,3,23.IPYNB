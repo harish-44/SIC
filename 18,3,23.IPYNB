{
 "cells": [
  {
   "attachments": {},
   "cell_type": "markdown",
   "metadata": {},
   "source": [
    "Population"
   ]
  },
  {
   "cell_type": "code",
   "execution_count": null,
   "metadata": {},
   "outputs": [],
   "source": [
    "Indian_Population_2011 = {\n",
    "    'UP': 199812341,\n",
    "    'Maharashtra': 112372972,\n",
    "    'Bihar': 104099452,\n",
    "    'West Bengal': 91276115,\n",
    "    'Andhra Pradesh': 84580777,\n",
    "    'Madhya Pradesh': 72626809,\n",
    "    'Tamil Nadu':72147030,\n",
    "    'Rajasthan':68548437,\n",
    "    'Karnataka':61095297,\n",
    "    'Gujarat': 60439692,\n",
    "    'Orissa':41974218,\n",
    "    'Kerala':33406061,\n",
    "    'Karnataka':61095297,\n",
    "    'Delhi':16787941,\n",
    "    'Tamil Nadu':72147030,\n",
    "    'Assam':31205576,\n",
    "    'oddisha':41974218,\n",
    "    'Punjab':27743338,\n",
    "    'Kerala':33406061,\n",
    "    'Nagaland':1978502,\n",
    "    'Rajashtan':68548437,\n",
    "}\n",
    "\n",
    "State_Area = {\n",
    "    'UP': 240928,\n",
    "    'Maharashtra': 307713,\n",
    "    'Bihar': 94163,\n",
    "    'West Bengal': 88752,\n",
    "    'Andhra Pradesh': 275045,\n",
    "    'Madhya Pradesh': 308245,\n",
    "    'Tamil Nadu':130058,\n",
    "    'Rajasthan':342239,\n",
    "    'Karnataka':191791,\n",
    "    'Gujarat': 196024,\n",
    "    'Orissa':155707,\n",
    "    'Kerala':38852,\n",
    "    'Karnataka':191791,\n",
    "    'Delhi':1483,\n",
    "    'Tamil Nadu':130058,\n",
    "    'Assam':78438,\n",
    "    'Punjab':50362,\n",
    "    'Kerala':38852,\n",
    "    'Nagaland':16579,\n",
    "}\n",
    "\n"
   ]
  },
  {
   "cell_type": "code",
   "execution_count": 3,
   "metadata": {},
   "outputs": [
    {
     "name": "stdout",
     "output_type": "stream",
     "text": [
      "                                       State  Area in square km\n",
      "0                                  Rajasthan             342239\n",
      "1                             Madhya Pradesh             308245\n",
      "2                                Maharashtra             307713\n",
      "3                              Uttar Pradesh             240928\n",
      "4                                    Gujarat             196024\n",
      "5                                  Karnataka             191792\n",
      "6                             Andhra Pradesh             162975\n",
      "7                                     Odisha             155707\n",
      "8                               Chhattisgarh             135191\n",
      "9                                 Tamil Nadu             130058\n",
      "10                                 Telangana             112077\n",
      "11                                     Bihar              94163\n",
      "12                               West Bengal              88752\n",
      "13                         Arunachal Pradesh              83743\n",
      "14                                 Jharkhand              79716\n",
      "15                                     Assam              78438\n",
      "16                                    Ladakh              59146\n",
      "17                          Himachal Pradesh              55673\n",
      "18                               Uttarakhand              53483\n",
      "19                                    Punjab              50362\n",
      "20                                   Haryana              44212\n",
      "21                         Jammu and Kashmir              42241\n",
      "22                                    Kerala              38863\n",
      "23                                 Meghalaya              22429\n",
      "24                                   Manipur              22327\n",
      "25                                   Mizoram              21081\n",
      "26                                  Nagaland              16579\n",
      "27                                   Tripura              10486\n",
      "28               Andaman and Nicobar Islands               8249\n",
      "29                                    Sikkim               7096\n",
      "30                                       Goa               3702\n",
      "31                                     Delhi               1484\n",
      "32  Dadra and Nagar Haveli and Daman and Diu                603\n",
      "33                                Puducherry                479\n",
      "34                                Chandigarh                114\n",
      "35                               Lakshadweep                 32\n"
     ]
    }
   ],
   "source": [
    "import pandas as pd\n",
    "data = pd.read_excel(\"StateWise_Area.xlsx\")\n",
    "print(data)"
   ]
  },
  {
   "cell_type": "code",
   "execution_count": 6,
   "metadata": {},
   "outputs": [
    {
     "name": "stdout",
     "output_type": "stream",
     "text": [
      " Area in square km\n",
      "            342239\n",
      "            308245\n",
      "            307713\n",
      "            240928\n",
      "            196024\n",
      "            191792\n",
      "            162975\n",
      "            155707\n",
      "            135191\n",
      "            130058\n",
      "            112077\n",
      "             94163\n",
      "             88752\n",
      "             83743\n",
      "             79716\n",
      "             78438\n",
      "             59146\n",
      "             55673\n",
      "             53483\n",
      "             50362\n",
      "             44212\n",
      "             42241\n",
      "             38863\n",
      "             22429\n",
      "             22327\n",
      "             21081\n",
      "             16579\n",
      "             10486\n",
      "              8249\n",
      "              7096\n",
      "              3702\n",
      "              1484\n",
      "               603\n",
      "               479\n",
      "               114\n",
      "                32\n"
     ]
    }
   ],
   "source": [
    "data=pd.read_excel(\"StateWise_Area.xlsx\",usecols='B')\n",
    "print(data.to_string(index=False))"
   ]
  },
  {
   "cell_type": "code",
   "execution_count": 11,
   "metadata": {},
   "outputs": [
    {
     "name": "stdout",
     "output_type": "stream",
     "text": [
      "                                       State\n",
      "0                                  Rajasthan\n",
      "1                             Madhya Pradesh\n",
      "2                                Maharashtra\n",
      "3                              Uttar Pradesh\n",
      "4                                    Gujarat\n",
      "5                                  Karnataka\n",
      "6                             Andhra Pradesh\n",
      "7                                     Odisha\n",
      "8                               Chhattisgarh\n",
      "9                                 Tamil Nadu\n",
      "10                                 Telangana\n",
      "11                                     Bihar\n",
      "12                               West Bengal\n",
      "13                         Arunachal Pradesh\n",
      "14                                 Jharkhand\n",
      "15                                     Assam\n",
      "16                                    Ladakh\n",
      "17                          Himachal Pradesh\n",
      "18                               Uttarakhand\n",
      "19                                    Punjab\n",
      "20                                   Haryana\n",
      "21                         Jammu and Kashmir\n",
      "22                                    Kerala\n",
      "23                                 Meghalaya\n",
      "24                                   Manipur\n",
      "25                                   Mizoram\n",
      "26                                  Nagaland\n",
      "27                                   Tripura\n",
      "28               Andaman and Nicobar Islands\n",
      "29                                    Sikkim\n",
      "30                                       Goa\n",
      "31                                     Delhi\n",
      "32  Dadra and Nagar Haveli and Daman and Diu\n",
      "33                                Puducherry\n",
      "34                                Chandigarh\n",
      "35                               Lakshadweep\n"
     ]
    },
    {
     "name": "stderr",
     "output_type": "stream",
     "text": [
      "/tmp/ipykernel_1932/2197784568.py:1: FutureWarning: Defining usecols with out of bounds indices is deprecated and will raise a ParserError in a future version.\n",
      "  data=pd.read_excel(\"StateWise_Area.xlsx\",usecols=[0,2])\n"
     ]
    }
   ],
   "source": [
    "data=pd.read_excel(\"StateWise_Area.xlsx\",usecols=[0,2])\n",
    "print(data.to_string(index=False))"
   ]
  },
  {
   "cell_type": "code",
   "execution_count": 15,
   "metadata": {},
   "outputs": [
    {
     "name": "stdout",
     "output_type": "stream",
     "text": [
      "0         Rajasthan\n",
      "1    Madhya Pradesh\n",
      "2       Maharashtra\n",
      "3     Uttar Pradesh\n",
      "4           Gujarat\n",
      "Name: State, dtype: object\n"
     ]
    }
   ],
   "source": [
    "dataset=data['State'] #selecting a column\n",
    "print(dataset.head()) #print first 5 rows"
   ]
  },
  {
   "cell_type": "code",
   "execution_count": 16,
   "metadata": {},
   "outputs": [
    {
     "name": "stdout",
     "output_type": "stream",
     "text": [
      "         State\n",
      "2  Maharashtra\n"
     ]
    }
   ],
   "source": [
    "filtered_data = data[data['State'] == 'Maharashtra']\n",
    "print(filtered_data)"
   ]
  },
  {
   "cell_type": "code",
   "execution_count": 22,
   "metadata": {},
   "outputs": [
    {
     "name": "stdout",
     "output_type": "stream",
     "text": [
      "            State   Area\n",
      "        Rajasthan 342239\n",
      "   Madhya Pradesh 308245\n",
      "      Maharashtra 307713\n",
      "    Uttar Pradesh 240928\n",
      "          Gujarat 196024\n",
      "        Karnataka 191792\n",
      "   Andhra Pradesh 162975\n",
      "           Odisha 155707\n",
      "     Chhattisgarh 135191\n",
      "       Tamil Nadu 130058\n",
      "        Telangana 112077\n",
      "            Bihar  94163\n",
      "      West Bengal  88752\n",
      "Arunachal Pradesh  83743\n",
      "        Jharkhand  79716\n",
      "            Assam  78438\n",
      "           Ladakh  59146\n",
      " Himachal Pradesh  55673\n",
      "      Uttarakhand  53483\n",
      "           Punjab  50362\n",
      "          Haryana  44212\n",
      "Jammu and Kashmir  42241\n",
      "           Kerala  38863\n",
      "        Meghalaya  22429\n",
      "          Manipur  22327\n",
      "          Mizoram  21081\n",
      "         Nagaland  16579\n",
      "          Tripura  10486\n"
     ]
    }
   ],
   "source": [
    "data=pd.read_excel(\"StateWise_Area.xlsx\")\n",
    "fd= data[data['Area'] > 10000]\n",
    "print(fd.to_string(index=False))"
   ]
  },
  {
   "cell_type": "code",
   "execution_count": 23,
   "metadata": {},
   "outputs": [
    {
     "name": "stdout",
     "output_type": "stream",
     "text": [
      "State    Telangana\n",
      "Area        112077\n",
      "Name: 10, dtype: object\n"
     ]
    }
   ],
   "source": [
    "print(data.loc[10])"
   ]
  },
  {
   "cell_type": "code",
   "execution_count": 26,
   "metadata": {},
   "outputs": [
    {
     "name": "stdout",
     "output_type": "stream",
     "text": [
      "                                       0      1\n",
      "                                   State   Area\n",
      "                               Rajasthan 342239\n",
      "                          Madhya Pradesh 308245\n",
      "                             Maharashtra 307713\n",
      "                           Uttar Pradesh 240928\n",
      "                                 Gujarat 196024\n",
      "                               Karnataka 191792\n",
      "                          Andhra Pradesh 162975\n",
      "                                  Odisha 155707\n",
      "                            Chhattisgarh 135191\n",
      "                              Tamil Nadu 130058\n",
      "                               Telangana 112077\n",
      "                                   Bihar  94163\n",
      "                             West Bengal  88752\n",
      "                       Arunachal Pradesh  83743\n",
      "                               Jharkhand  79716\n",
      "                                   Assam  78438\n",
      "                                  Ladakh  59146\n",
      "                        Himachal Pradesh  55673\n",
      "                             Uttarakhand  53483\n",
      "                                  Punjab  50362\n",
      "                                 Haryana  44212\n",
      "                       Jammu and Kashmir  42241\n",
      "                                  Kerala  38863\n",
      "                               Meghalaya  22429\n",
      "                                 Manipur  22327\n",
      "                                 Mizoram  21081\n",
      "                                Nagaland  16579\n",
      "                                 Tripura  10486\n",
      "             Andaman and Nicobar Islands   8249\n",
      "                                  Sikkim   7096\n",
      "                                     Goa   3702\n",
      "                                   Delhi   1484\n",
      "Dadra and Nagar Haveli and Daman and Diu    603\n",
      "                              Puducherry    479\n",
      "                              Chandigarh    114\n",
      "                             Lakshadweep     32\n"
     ]
    }
   ],
   "source": [
    "data=pd.read_excel(\"StateWise_Area.xlsx\",header=None)\n",
    "print(data.to_string(index=False))"
   ]
  },
  {
   "cell_type": "code",
   "execution_count": 27,
   "metadata": {},
   "outputs": [
    {
     "name": "stdout",
     "output_type": "stream",
     "text": [
      "                                     Sikkim  7096\n",
      "0                                       Goa  3702\n",
      "1                                     Delhi  1484\n",
      "2  Dadra and Nagar Haveli and Daman and Diu   603\n",
      "3                                Puducherry   479\n",
      "4                                Chandigarh   114\n",
      "5                               Lakshadweep    32\n"
     ]
    }
   ],
   "source": [
    "data=pd.read_excel(\"StateWise_Area.xlsx\",header=30) #\n",
    "print(data)"
   ]
  },
  {
   "cell_type": "code",
   "execution_count": 28,
   "metadata": {},
   "outputs": [
    {
     "data": {
      "text/html": [
       "<div>\n",
       "<style scoped>\n",
       "    .dataframe tbody tr th:only-of-type {\n",
       "        vertical-align: middle;\n",
       "    }\n",
       "\n",
       "    .dataframe tbody tr th {\n",
       "        vertical-align: top;\n",
       "    }\n",
       "\n",
       "    .dataframe thead th {\n",
       "        text-align: right;\n",
       "    }\n",
       "</style>\n",
       "<table border=\"1\" class=\"dataframe\">\n",
       "  <thead>\n",
       "    <tr style=\"text-align: right;\">\n",
       "      <th></th>\n",
       "      <th>Sikkim</th>\n",
       "      <th>7096</th>\n",
       "    </tr>\n",
       "  </thead>\n",
       "  <tbody>\n",
       "    <tr>\n",
       "      <th>0</th>\n",
       "      <td>Goa</td>\n",
       "      <td>3702</td>\n",
       "    </tr>\n",
       "    <tr>\n",
       "      <th>1</th>\n",
       "      <td>Delhi</td>\n",
       "      <td>1484</td>\n",
       "    </tr>\n",
       "    <tr>\n",
       "      <th>2</th>\n",
       "      <td>Dadra and Nagar Haveli and Daman and Diu</td>\n",
       "      <td>603</td>\n",
       "    </tr>\n",
       "    <tr>\n",
       "      <th>3</th>\n",
       "      <td>Puducherry</td>\n",
       "      <td>479</td>\n",
       "    </tr>\n",
       "    <tr>\n",
       "      <th>4</th>\n",
       "      <td>Chandigarh</td>\n",
       "      <td>114</td>\n",
       "    </tr>\n",
       "    <tr>\n",
       "      <th>5</th>\n",
       "      <td>Lakshadweep</td>\n",
       "      <td>32</td>\n",
       "    </tr>\n",
       "  </tbody>\n",
       "</table>\n",
       "</div>"
      ],
      "text/plain": [
       "                                     Sikkim  7096\n",
       "0                                       Goa  3702\n",
       "1                                     Delhi  1484\n",
       "2  Dadra and Nagar Haveli and Daman and Diu   603\n",
       "3                                Puducherry   479\n",
       "4                                Chandigarh   114\n",
       "5                               Lakshadweep    32"
      ]
     },
     "execution_count": 28,
     "metadata": {},
     "output_type": "execute_result"
    }
   ],
   "source": [
    "data"
   ]
  },
  {
   "cell_type": "code",
   "execution_count": 29,
   "metadata": {},
   "outputs": [
    {
     "data": {
      "text/html": [
       "<div>\n",
       "<style scoped>\n",
       "    .dataframe tbody tr th:only-of-type {\n",
       "        vertical-align: middle;\n",
       "    }\n",
       "\n",
       "    .dataframe tbody tr th {\n",
       "        vertical-align: top;\n",
       "    }\n",
       "\n",
       "    .dataframe thead th {\n",
       "        text-align: right;\n",
       "    }\n",
       "</style>\n",
       "<table border=\"1\" class=\"dataframe\">\n",
       "  <thead>\n",
       "    <tr style=\"text-align: right;\">\n",
       "      <th></th>\n",
       "      <th>State</th>\n",
       "      <th>Area</th>\n",
       "    </tr>\n",
       "  </thead>\n",
       "  <tbody>\n",
       "    <tr>\n",
       "      <th>0</th>\n",
       "      <td>Rajasthan</td>\n",
       "      <td>342239</td>\n",
       "    </tr>\n",
       "    <tr>\n",
       "      <th>1</th>\n",
       "      <td>Madhya Pradesh</td>\n",
       "      <td>308245</td>\n",
       "    </tr>\n",
       "    <tr>\n",
       "      <th>2</th>\n",
       "      <td>Maharashtra</td>\n",
       "      <td>307713</td>\n",
       "    </tr>\n",
       "    <tr>\n",
       "      <th>3</th>\n",
       "      <td>Uttar Pradesh</td>\n",
       "      <td>240928</td>\n",
       "    </tr>\n",
       "    <tr>\n",
       "      <th>4</th>\n",
       "      <td>Gujarat</td>\n",
       "      <td>196024</td>\n",
       "    </tr>\n",
       "    <tr>\n",
       "      <th>5</th>\n",
       "      <td>Karnataka</td>\n",
       "      <td>191792</td>\n",
       "    </tr>\n",
       "    <tr>\n",
       "      <th>6</th>\n",
       "      <td>Andhra Pradesh</td>\n",
       "      <td>162975</td>\n",
       "    </tr>\n",
       "    <tr>\n",
       "      <th>7</th>\n",
       "      <td>Odisha</td>\n",
       "      <td>155707</td>\n",
       "    </tr>\n",
       "    <tr>\n",
       "      <th>8</th>\n",
       "      <td>Chhattisgarh</td>\n",
       "      <td>135191</td>\n",
       "    </tr>\n",
       "    <tr>\n",
       "      <th>9</th>\n",
       "      <td>Tamil Nadu</td>\n",
       "      <td>130058</td>\n",
       "    </tr>\n",
       "    <tr>\n",
       "      <th>10</th>\n",
       "      <td>Telangana</td>\n",
       "      <td>112077</td>\n",
       "    </tr>\n",
       "    <tr>\n",
       "      <th>11</th>\n",
       "      <td>Bihar</td>\n",
       "      <td>94163</td>\n",
       "    </tr>\n",
       "    <tr>\n",
       "      <th>12</th>\n",
       "      <td>West Bengal</td>\n",
       "      <td>88752</td>\n",
       "    </tr>\n",
       "    <tr>\n",
       "      <th>13</th>\n",
       "      <td>Arunachal Pradesh</td>\n",
       "      <td>83743</td>\n",
       "    </tr>\n",
       "    <tr>\n",
       "      <th>14</th>\n",
       "      <td>Jharkhand</td>\n",
       "      <td>79716</td>\n",
       "    </tr>\n",
       "    <tr>\n",
       "      <th>15</th>\n",
       "      <td>Assam</td>\n",
       "      <td>78438</td>\n",
       "    </tr>\n",
       "    <tr>\n",
       "      <th>16</th>\n",
       "      <td>Ladakh</td>\n",
       "      <td>59146</td>\n",
       "    </tr>\n",
       "    <tr>\n",
       "      <th>17</th>\n",
       "      <td>Himachal Pradesh</td>\n",
       "      <td>55673</td>\n",
       "    </tr>\n",
       "    <tr>\n",
       "      <th>18</th>\n",
       "      <td>Uttarakhand</td>\n",
       "      <td>53483</td>\n",
       "    </tr>\n",
       "    <tr>\n",
       "      <th>19</th>\n",
       "      <td>Punjab</td>\n",
       "      <td>50362</td>\n",
       "    </tr>\n",
       "    <tr>\n",
       "      <th>20</th>\n",
       "      <td>Haryana</td>\n",
       "      <td>44212</td>\n",
       "    </tr>\n",
       "    <tr>\n",
       "      <th>21</th>\n",
       "      <td>Jammu and Kashmir</td>\n",
       "      <td>42241</td>\n",
       "    </tr>\n",
       "    <tr>\n",
       "      <th>22</th>\n",
       "      <td>Kerala</td>\n",
       "      <td>38863</td>\n",
       "    </tr>\n",
       "    <tr>\n",
       "      <th>23</th>\n",
       "      <td>Meghalaya</td>\n",
       "      <td>22429</td>\n",
       "    </tr>\n",
       "    <tr>\n",
       "      <th>24</th>\n",
       "      <td>Manipur</td>\n",
       "      <td>22327</td>\n",
       "    </tr>\n",
       "    <tr>\n",
       "      <th>25</th>\n",
       "      <td>Mizoram</td>\n",
       "      <td>21081</td>\n",
       "    </tr>\n",
       "    <tr>\n",
       "      <th>26</th>\n",
       "      <td>Nagaland</td>\n",
       "      <td>16579</td>\n",
       "    </tr>\n",
       "    <tr>\n",
       "      <th>27</th>\n",
       "      <td>Tripura</td>\n",
       "      <td>10486</td>\n",
       "    </tr>\n",
       "  </tbody>\n",
       "</table>\n",
       "</div>"
      ],
      "text/plain": [
       "                State    Area\n",
       "0           Rajasthan  342239\n",
       "1      Madhya Pradesh  308245\n",
       "2         Maharashtra  307713\n",
       "3       Uttar Pradesh  240928\n",
       "4             Gujarat  196024\n",
       "5           Karnataka  191792\n",
       "6      Andhra Pradesh  162975\n",
       "7              Odisha  155707\n",
       "8        Chhattisgarh  135191\n",
       "9          Tamil Nadu  130058\n",
       "10          Telangana  112077\n",
       "11              Bihar   94163\n",
       "12        West Bengal   88752\n",
       "13  Arunachal Pradesh   83743\n",
       "14          Jharkhand   79716\n",
       "15              Assam   78438\n",
       "16             Ladakh   59146\n",
       "17   Himachal Pradesh   55673\n",
       "18        Uttarakhand   53483\n",
       "19             Punjab   50362\n",
       "20            Haryana   44212\n",
       "21  Jammu and Kashmir   42241\n",
       "22             Kerala   38863\n",
       "23          Meghalaya   22429\n",
       "24            Manipur   22327\n",
       "25            Mizoram   21081\n",
       "26           Nagaland   16579\n",
       "27            Tripura   10486"
      ]
     },
     "execution_count": 29,
     "metadata": {},
     "output_type": "execute_result"
    }
   ],
   "source": [
    "fd"
   ]
  },
  {
   "cell_type": "code",
   "execution_count": 30,
   "metadata": {},
   "outputs": [
    {
     "data": {
      "text/html": [
       "<div>\n",
       "<style scoped>\n",
       "    .dataframe tbody tr th:only-of-type {\n",
       "        vertical-align: middle;\n",
       "    }\n",
       "\n",
       "    .dataframe tbody tr th {\n",
       "        vertical-align: top;\n",
       "    }\n",
       "\n",
       "    .dataframe thead th {\n",
       "        text-align: right;\n",
       "    }\n",
       "</style>\n",
       "<table border=\"1\" class=\"dataframe\">\n",
       "  <thead>\n",
       "    <tr style=\"text-align: right;\">\n",
       "      <th></th>\n",
       "      <th>State</th>\n",
       "    </tr>\n",
       "  </thead>\n",
       "  <tbody>\n",
       "    <tr>\n",
       "      <th>2</th>\n",
       "      <td>Maharashtra</td>\n",
       "    </tr>\n",
       "  </tbody>\n",
       "</table>\n",
       "</div>"
      ],
      "text/plain": [
       "         State\n",
       "2  Maharashtra"
      ]
     },
     "execution_count": 30,
     "metadata": {},
     "output_type": "execute_result"
    }
   ],
   "source": [
    "filtered_data"
   ]
  },
  {
   "cell_type": "code",
   "execution_count": 31,
   "metadata": {},
   "outputs": [
    {
     "data": {
      "text/plain": [
       "(                                     Sikkim  7096\n",
       " 0                                       Goa  3702\n",
       " 1                                     Delhi  1484\n",
       " 2  Dadra and Nagar Haveli and Daman and Diu   603\n",
       " 3                                Puducherry   479\n",
       " 4                                Chandigarh   114\n",
       " 5                               Lakshadweep    32,\n",
       "                 State    Area\n",
       " 0           Rajasthan  342239\n",
       " 1      Madhya Pradesh  308245\n",
       " 2         Maharashtra  307713\n",
       " 3       Uttar Pradesh  240928\n",
       " 4             Gujarat  196024\n",
       " 5           Karnataka  191792\n",
       " 6      Andhra Pradesh  162975\n",
       " 7              Odisha  155707\n",
       " 8        Chhattisgarh  135191\n",
       " 9          Tamil Nadu  130058\n",
       " 10          Telangana  112077\n",
       " 11              Bihar   94163\n",
       " 12        West Bengal   88752\n",
       " 13  Arunachal Pradesh   83743\n",
       " 14          Jharkhand   79716\n",
       " 15              Assam   78438\n",
       " 16             Ladakh   59146\n",
       " 17   Himachal Pradesh   55673\n",
       " 18        Uttarakhand   53483\n",
       " 19             Punjab   50362\n",
       " 20            Haryana   44212\n",
       " 21  Jammu and Kashmir   42241\n",
       " 22             Kerala   38863\n",
       " 23          Meghalaya   22429\n",
       " 24            Manipur   22327\n",
       " 25            Mizoram   21081\n",
       " 26           Nagaland   16579\n",
       " 27            Tripura   10486,\n",
       "          State\n",
       " 2  Maharashtra)"
      ]
     },
     "execution_count": 31,
     "metadata": {},
     "output_type": "execute_result"
    }
   ],
   "source": [
    "data,fd,filtered_data"
   ]
  },
  {
   "cell_type": "code",
   "execution_count": 6,
   "metadata": {},
   "outputs": [
    {
     "ename": "ValueError",
     "evalue": "Worksheet named 'Data1' not found",
     "output_type": "error",
     "traceback": [
      "\u001b[0;31m---------------------------------------------------------------------------\u001b[0m",
      "\u001b[0;31mValueError\u001b[0m                                Traceback (most recent call last)",
      "Cell \u001b[0;32mIn[6], line 2\u001b[0m\n\u001b[1;32m      1\u001b[0m \u001b[39mimport\u001b[39;00m \u001b[39mpandas\u001b[39;00m \u001b[39mas\u001b[39;00m \u001b[39mpd\u001b[39;00m\n\u001b[0;32m----> 2\u001b[0m Data1 \u001b[39m=\u001b[39m pd\u001b[39m.\u001b[39;49mread_excel(\u001b[39m\"\u001b[39;49m\u001b[39mStateWise_Area.xlsx\u001b[39;49m\u001b[39m\"\u001b[39;49m,sheet_name\u001b[39m=\u001b[39;49m\u001b[39m'\u001b[39;49m\u001b[39mData1\u001b[39;49m\u001b[39m'\u001b[39;49m)\n\u001b[1;32m      3\u001b[0m data2 \u001b[39m=\u001b[39m pd\u001b[39m.\u001b[39mread_excel(\u001b[39m\"\u001b[39m\u001b[39mStateWise_Area.xlsx\u001b[39m\u001b[39m\"\u001b[39m,sheet_name\u001b[39m=\u001b[39m\u001b[39m'\u001b[39m\u001b[39mdata2\u001b[39m\u001b[39m'\u001b[39m)\n\u001b[1;32m      4\u001b[0m \u001b[39mprint\u001b[39m(\u001b[39m\"\u001b[39m\u001b[39mSheet 1 data\u001b[39m\u001b[39m\\n\u001b[39;00m\u001b[39m\\n\u001b[39;00m\u001b[39m\"\u001b[39m)\n",
      "File \u001b[0;32m~/.local/lib/python3.10/site-packages/pandas/util/_decorators.py:211\u001b[0m, in \u001b[0;36mdeprecate_kwarg.<locals>._deprecate_kwarg.<locals>.wrapper\u001b[0;34m(*args, **kwargs)\u001b[0m\n\u001b[1;32m    209\u001b[0m     \u001b[39melse\u001b[39;00m:\n\u001b[1;32m    210\u001b[0m         kwargs[new_arg_name] \u001b[39m=\u001b[39m new_arg_value\n\u001b[0;32m--> 211\u001b[0m \u001b[39mreturn\u001b[39;00m func(\u001b[39m*\u001b[39;49margs, \u001b[39m*\u001b[39;49m\u001b[39m*\u001b[39;49mkwargs)\n",
      "File \u001b[0;32m~/.local/lib/python3.10/site-packages/pandas/util/_decorators.py:331\u001b[0m, in \u001b[0;36mdeprecate_nonkeyword_arguments.<locals>.decorate.<locals>.wrapper\u001b[0;34m(*args, **kwargs)\u001b[0m\n\u001b[1;32m    325\u001b[0m \u001b[39mif\u001b[39;00m \u001b[39mlen\u001b[39m(args) \u001b[39m>\u001b[39m num_allow_args:\n\u001b[1;32m    326\u001b[0m     warnings\u001b[39m.\u001b[39mwarn(\n\u001b[1;32m    327\u001b[0m         msg\u001b[39m.\u001b[39mformat(arguments\u001b[39m=\u001b[39m_format_argument_list(allow_args)),\n\u001b[1;32m    328\u001b[0m         \u001b[39mFutureWarning\u001b[39;00m,\n\u001b[1;32m    329\u001b[0m         stacklevel\u001b[39m=\u001b[39mfind_stack_level(),\n\u001b[1;32m    330\u001b[0m     )\n\u001b[0;32m--> 331\u001b[0m \u001b[39mreturn\u001b[39;00m func(\u001b[39m*\u001b[39;49margs, \u001b[39m*\u001b[39;49m\u001b[39m*\u001b[39;49mkwargs)\n",
      "File \u001b[0;32m~/.local/lib/python3.10/site-packages/pandas/io/excel/_base.py:490\u001b[0m, in \u001b[0;36mread_excel\u001b[0;34m(io, sheet_name, header, names, index_col, usecols, squeeze, dtype, engine, converters, true_values, false_values, skiprows, nrows, na_values, keep_default_na, na_filter, verbose, parse_dates, date_parser, thousands, decimal, comment, skipfooter, convert_float, mangle_dupe_cols, storage_options)\u001b[0m\n\u001b[1;32m    484\u001b[0m     \u001b[39mraise\u001b[39;00m \u001b[39mValueError\u001b[39;00m(\n\u001b[1;32m    485\u001b[0m         \u001b[39m\"\u001b[39m\u001b[39mEngine should not be specified when passing \u001b[39m\u001b[39m\"\u001b[39m\n\u001b[1;32m    486\u001b[0m         \u001b[39m\"\u001b[39m\u001b[39man ExcelFile - ExcelFile already has the engine set\u001b[39m\u001b[39m\"\u001b[39m\n\u001b[1;32m    487\u001b[0m     )\n\u001b[1;32m    489\u001b[0m \u001b[39mtry\u001b[39;00m:\n\u001b[0;32m--> 490\u001b[0m     data \u001b[39m=\u001b[39m io\u001b[39m.\u001b[39;49mparse(\n\u001b[1;32m    491\u001b[0m         sheet_name\u001b[39m=\u001b[39;49msheet_name,\n\u001b[1;32m    492\u001b[0m         header\u001b[39m=\u001b[39;49mheader,\n\u001b[1;32m    493\u001b[0m         names\u001b[39m=\u001b[39;49mnames,\n\u001b[1;32m    494\u001b[0m         index_col\u001b[39m=\u001b[39;49mindex_col,\n\u001b[1;32m    495\u001b[0m         usecols\u001b[39m=\u001b[39;49musecols,\n\u001b[1;32m    496\u001b[0m         squeeze\u001b[39m=\u001b[39;49msqueeze,\n\u001b[1;32m    497\u001b[0m         dtype\u001b[39m=\u001b[39;49mdtype,\n\u001b[1;32m    498\u001b[0m         converters\u001b[39m=\u001b[39;49mconverters,\n\u001b[1;32m    499\u001b[0m         true_values\u001b[39m=\u001b[39;49mtrue_values,\n\u001b[1;32m    500\u001b[0m         false_values\u001b[39m=\u001b[39;49mfalse_values,\n\u001b[1;32m    501\u001b[0m         skiprows\u001b[39m=\u001b[39;49mskiprows,\n\u001b[1;32m    502\u001b[0m         nrows\u001b[39m=\u001b[39;49mnrows,\n\u001b[1;32m    503\u001b[0m         na_values\u001b[39m=\u001b[39;49mna_values,\n\u001b[1;32m    504\u001b[0m         keep_default_na\u001b[39m=\u001b[39;49mkeep_default_na,\n\u001b[1;32m    505\u001b[0m         na_filter\u001b[39m=\u001b[39;49mna_filter,\n\u001b[1;32m    506\u001b[0m         verbose\u001b[39m=\u001b[39;49mverbose,\n\u001b[1;32m    507\u001b[0m         parse_dates\u001b[39m=\u001b[39;49mparse_dates,\n\u001b[1;32m    508\u001b[0m         date_parser\u001b[39m=\u001b[39;49mdate_parser,\n\u001b[1;32m    509\u001b[0m         thousands\u001b[39m=\u001b[39;49mthousands,\n\u001b[1;32m    510\u001b[0m         decimal\u001b[39m=\u001b[39;49mdecimal,\n\u001b[1;32m    511\u001b[0m         comment\u001b[39m=\u001b[39;49mcomment,\n\u001b[1;32m    512\u001b[0m         skipfooter\u001b[39m=\u001b[39;49mskipfooter,\n\u001b[1;32m    513\u001b[0m         convert_float\u001b[39m=\u001b[39;49mconvert_float,\n\u001b[1;32m    514\u001b[0m         mangle_dupe_cols\u001b[39m=\u001b[39;49mmangle_dupe_cols,\n\u001b[1;32m    515\u001b[0m     )\n\u001b[1;32m    516\u001b[0m \u001b[39mfinally\u001b[39;00m:\n\u001b[1;32m    517\u001b[0m     \u001b[39m# make sure to close opened file handles\u001b[39;00m\n\u001b[1;32m    518\u001b[0m     \u001b[39mif\u001b[39;00m should_close:\n",
      "File \u001b[0;32m~/.local/lib/python3.10/site-packages/pandas/io/excel/_base.py:1734\u001b[0m, in \u001b[0;36mExcelFile.parse\u001b[0;34m(self, sheet_name, header, names, index_col, usecols, squeeze, converters, true_values, false_values, skiprows, nrows, na_values, parse_dates, date_parser, thousands, comment, skipfooter, convert_float, mangle_dupe_cols, **kwds)\u001b[0m\n\u001b[1;32m   1700\u001b[0m \u001b[39mdef\u001b[39;00m \u001b[39mparse\u001b[39m(\n\u001b[1;32m   1701\u001b[0m     \u001b[39mself\u001b[39m,\n\u001b[1;32m   1702\u001b[0m     sheet_name: \u001b[39mstr\u001b[39m \u001b[39m|\u001b[39m \u001b[39mint\u001b[39m \u001b[39m|\u001b[39m \u001b[39mlist\u001b[39m[\u001b[39mint\u001b[39m] \u001b[39m|\u001b[39m \u001b[39mlist\u001b[39m[\u001b[39mstr\u001b[39m] \u001b[39m|\u001b[39m \u001b[39mNone\u001b[39;00m \u001b[39m=\u001b[39m \u001b[39m0\u001b[39m,\n\u001b[0;32m   (...)\u001b[0m\n\u001b[1;32m   1721\u001b[0m     \u001b[39m*\u001b[39m\u001b[39m*\u001b[39mkwds,\n\u001b[1;32m   1722\u001b[0m ) \u001b[39m-\u001b[39m\u001b[39m>\u001b[39m DataFrame \u001b[39m|\u001b[39m \u001b[39mdict\u001b[39m[\u001b[39mstr\u001b[39m, DataFrame] \u001b[39m|\u001b[39m \u001b[39mdict\u001b[39m[\u001b[39mint\u001b[39m, DataFrame]:\n\u001b[1;32m   1723\u001b[0m \u001b[39m    \u001b[39m\u001b[39m\"\"\"\u001b[39;00m\n\u001b[1;32m   1724\u001b[0m \u001b[39m    Parse specified sheet(s) into a DataFrame.\u001b[39;00m\n\u001b[1;32m   1725\u001b[0m \n\u001b[0;32m   (...)\u001b[0m\n\u001b[1;32m   1732\u001b[0m \u001b[39m        DataFrame from the passed in Excel file.\u001b[39;00m\n\u001b[1;32m   1733\u001b[0m \u001b[39m    \"\"\"\u001b[39;00m\n\u001b[0;32m-> 1734\u001b[0m     \u001b[39mreturn\u001b[39;00m \u001b[39mself\u001b[39;49m\u001b[39m.\u001b[39;49m_reader\u001b[39m.\u001b[39;49mparse(\n\u001b[1;32m   1735\u001b[0m         sheet_name\u001b[39m=\u001b[39;49msheet_name,\n\u001b[1;32m   1736\u001b[0m         header\u001b[39m=\u001b[39;49mheader,\n\u001b[1;32m   1737\u001b[0m         names\u001b[39m=\u001b[39;49mnames,\n\u001b[1;32m   1738\u001b[0m         index_col\u001b[39m=\u001b[39;49mindex_col,\n\u001b[1;32m   1739\u001b[0m         usecols\u001b[39m=\u001b[39;49musecols,\n\u001b[1;32m   1740\u001b[0m         squeeze\u001b[39m=\u001b[39;49msqueeze,\n\u001b[1;32m   1741\u001b[0m         converters\u001b[39m=\u001b[39;49mconverters,\n\u001b[1;32m   1742\u001b[0m         true_values\u001b[39m=\u001b[39;49mtrue_values,\n\u001b[1;32m   1743\u001b[0m         false_values\u001b[39m=\u001b[39;49mfalse_values,\n\u001b[1;32m   1744\u001b[0m         skiprows\u001b[39m=\u001b[39;49mskiprows,\n\u001b[1;32m   1745\u001b[0m         nrows\u001b[39m=\u001b[39;49mnrows,\n\u001b[1;32m   1746\u001b[0m         na_values\u001b[39m=\u001b[39;49mna_values,\n\u001b[1;32m   1747\u001b[0m         parse_dates\u001b[39m=\u001b[39;49mparse_dates,\n\u001b[1;32m   1748\u001b[0m         date_parser\u001b[39m=\u001b[39;49mdate_parser,\n\u001b[1;32m   1749\u001b[0m         thousands\u001b[39m=\u001b[39;49mthousands,\n\u001b[1;32m   1750\u001b[0m         comment\u001b[39m=\u001b[39;49mcomment,\n\u001b[1;32m   1751\u001b[0m         skipfooter\u001b[39m=\u001b[39;49mskipfooter,\n\u001b[1;32m   1752\u001b[0m         convert_float\u001b[39m=\u001b[39;49mconvert_float,\n\u001b[1;32m   1753\u001b[0m         mangle_dupe_cols\u001b[39m=\u001b[39;49mmangle_dupe_cols,\n\u001b[1;32m   1754\u001b[0m         \u001b[39m*\u001b[39;49m\u001b[39m*\u001b[39;49mkwds,\n\u001b[1;32m   1755\u001b[0m     )\n",
      "File \u001b[0;32m~/.local/lib/python3.10/site-packages/pandas/io/excel/_base.py:760\u001b[0m, in \u001b[0;36mBaseExcelReader.parse\u001b[0;34m(self, sheet_name, header, names, index_col, usecols, squeeze, dtype, true_values, false_values, skiprows, nrows, na_values, verbose, parse_dates, date_parser, thousands, decimal, comment, skipfooter, convert_float, mangle_dupe_cols, **kwds)\u001b[0m\n\u001b[1;32m    757\u001b[0m     \u001b[39mprint\u001b[39m(\u001b[39mf\u001b[39m\u001b[39m\"\u001b[39m\u001b[39mReading sheet \u001b[39m\u001b[39m{\u001b[39;00masheetname\u001b[39m}\u001b[39;00m\u001b[39m\"\u001b[39m)\n\u001b[1;32m    759\u001b[0m \u001b[39mif\u001b[39;00m \u001b[39misinstance\u001b[39m(asheetname, \u001b[39mstr\u001b[39m):\n\u001b[0;32m--> 760\u001b[0m     sheet \u001b[39m=\u001b[39m \u001b[39mself\u001b[39;49m\u001b[39m.\u001b[39;49mget_sheet_by_name(asheetname)\n\u001b[1;32m    761\u001b[0m \u001b[39melse\u001b[39;00m:  \u001b[39m# assume an integer if not a string\u001b[39;00m\n\u001b[1;32m    762\u001b[0m     sheet \u001b[39m=\u001b[39m \u001b[39mself\u001b[39m\u001b[39m.\u001b[39mget_sheet_by_index(asheetname)\n",
      "File \u001b[0;32m~/.local/lib/python3.10/site-packages/pandas/io/excel/_openpyxl.py:577\u001b[0m, in \u001b[0;36mOpenpyxlReader.get_sheet_by_name\u001b[0;34m(self, name)\u001b[0m\n\u001b[1;32m    576\u001b[0m \u001b[39mdef\u001b[39;00m \u001b[39mget_sheet_by_name\u001b[39m(\u001b[39mself\u001b[39m, name: \u001b[39mstr\u001b[39m):\n\u001b[0;32m--> 577\u001b[0m     \u001b[39mself\u001b[39;49m\u001b[39m.\u001b[39;49mraise_if_bad_sheet_by_name(name)\n\u001b[1;32m    578\u001b[0m     \u001b[39mreturn\u001b[39;00m \u001b[39mself\u001b[39m\u001b[39m.\u001b[39mbook[name]\n",
      "File \u001b[0;32m~/.local/lib/python3.10/site-packages/pandas/io/excel/_base.py:602\u001b[0m, in \u001b[0;36mBaseExcelReader.raise_if_bad_sheet_by_name\u001b[0;34m(self, name)\u001b[0m\n\u001b[1;32m    600\u001b[0m \u001b[39mdef\u001b[39;00m \u001b[39mraise_if_bad_sheet_by_name\u001b[39m(\u001b[39mself\u001b[39m, name: \u001b[39mstr\u001b[39m) \u001b[39m-\u001b[39m\u001b[39m>\u001b[39m \u001b[39mNone\u001b[39;00m:\n\u001b[1;32m    601\u001b[0m     \u001b[39mif\u001b[39;00m name \u001b[39mnot\u001b[39;00m \u001b[39min\u001b[39;00m \u001b[39mself\u001b[39m\u001b[39m.\u001b[39msheet_names:\n\u001b[0;32m--> 602\u001b[0m         \u001b[39mraise\u001b[39;00m \u001b[39mValueError\u001b[39;00m(\u001b[39mf\u001b[39m\u001b[39m\"\u001b[39m\u001b[39mWorksheet named \u001b[39m\u001b[39m'\u001b[39m\u001b[39m{\u001b[39;00mname\u001b[39m}\u001b[39;00m\u001b[39m'\u001b[39m\u001b[39m not found\u001b[39m\u001b[39m\"\u001b[39m)\n",
      "\u001b[0;31mValueError\u001b[0m: Worksheet named 'Data1' not found"
     ]
    }
   ],
   "source": [
    "import pandas as pd\n",
    "Data1 = pd.read_excel(\"StateWise_Area.xlsx\",sheet_name='Data1')\n",
    "data2 = pd.read_excel(\"StateWise_Area.xlsx\",sheet_name='data2')\n",
    "print(\"Sheet 1 data\\n\\n\")\n",
    "print(Data1)"
   ]
  },
  {
   "cell_type": "code",
   "execution_count": 7,
   "metadata": {},
   "outputs": [
    {
     "data": {
      "text/html": [
       "<div>\n",
       "<style scoped>\n",
       "    .dataframe tbody tr th:only-of-type {\n",
       "        vertical-align: middle;\n",
       "    }\n",
       "\n",
       "    .dataframe tbody tr th {\n",
       "        vertical-align: top;\n",
       "    }\n",
       "\n",
       "    .dataframe thead th {\n",
       "        text-align: right;\n",
       "    }\n",
       "</style>\n",
       "<table border=\"1\" class=\"dataframe\">\n",
       "  <thead>\n",
       "    <tr style=\"text-align: right;\">\n",
       "      <th></th>\n",
       "      <th>EmpID</th>\n",
       "      <th>Name</th>\n",
       "      <th>DSGN</th>\n",
       "      <th>Salary</th>\n",
       "    </tr>\n",
       "  </thead>\n",
       "  <tbody>\n",
       "    <tr>\n",
       "      <th>0</th>\n",
       "      <td>1</td>\n",
       "      <td>A</td>\n",
       "      <td>Manager</td>\n",
       "      <td>10000</td>\n",
       "    </tr>\n",
       "    <tr>\n",
       "      <th>1</th>\n",
       "      <td>2</td>\n",
       "      <td>B</td>\n",
       "      <td>Finance</td>\n",
       "      <td>20000</td>\n",
       "    </tr>\n",
       "    <tr>\n",
       "      <th>2</th>\n",
       "      <td>3</td>\n",
       "      <td>C</td>\n",
       "      <td>Manager</td>\n",
       "      <td>30000</td>\n",
       "    </tr>\n",
       "    <tr>\n",
       "      <th>3</th>\n",
       "      <td>4</td>\n",
       "      <td>D</td>\n",
       "      <td>Staff</td>\n",
       "      <td>40000</td>\n",
       "    </tr>\n",
       "    <tr>\n",
       "      <th>4</th>\n",
       "      <td>5</td>\n",
       "      <td>E</td>\n",
       "      <td>CEO</td>\n",
       "      <td>50000</td>\n",
       "    </tr>\n",
       "  </tbody>\n",
       "</table>\n",
       "</div>"
      ],
      "text/plain": [
       "   EmpID Name     DSGN  Salary\n",
       "0      1    A  Manager   10000\n",
       "1      2    B  Finance   20000\n",
       "2      3    C  Manager   30000\n",
       "3      4    D    Staff   40000\n",
       "4      5    E      CEO   50000"
      ]
     },
     "execution_count": 7,
     "metadata": {},
     "output_type": "execute_result"
    }
   ],
   "source": [
    "data= {\n",
    "    'EmpID': [1,2,3,4,5],\n",
    "    'Name': ['A','B','C','D','E'],\n",
    "    'DSGN': ['Manager','Finance','Manager','Staff','CEO'],\n",
    "    'Salary': [10000,20000,30000,40000,50000]\n",
    "}\n",
    "df = pd.DataFrame(data)\n",
    "df"
   ]
  },
  {
   "cell_type": "code",
   "execution_count": 10,
   "metadata": {},
   "outputs": [
    {
     "name": "stderr",
     "output_type": "stream",
     "text": [
      "/tmp/ipykernel_1905/2517723472.py:3: FutureWarning: save is not part of the public API, usage can give unexpected results and will be removed in a future version\n",
      "  Sheet.save()\n"
     ]
    },
    {
     "data": {
      "text/plain": [
       "<pandas.io.excel._openpyxl.OpenpyxlWriter at 0x7f70420c60b0>"
      ]
     },
     "execution_count": 10,
     "metadata": {},
     "output_type": "execute_result"
    }
   ],
   "source": [
    "Sheet = pd.ExcelWriter('Assignment.xlsx')\n",
    "df.to_excel(Sheet, index=False)\n",
    "Sheet.save()\n"
   ]
  },
  {
   "cell_type": "code",
   "execution_count": 11,
   "metadata": {},
   "outputs": [
    {
     "data": {
      "text/html": [
       "<div>\n",
       "<style scoped>\n",
       "    .dataframe tbody tr th:only-of-type {\n",
       "        vertical-align: middle;\n",
       "    }\n",
       "\n",
       "    .dataframe tbody tr th {\n",
       "        vertical-align: top;\n",
       "    }\n",
       "\n",
       "    .dataframe thead th {\n",
       "        text-align: right;\n",
       "    }\n",
       "</style>\n",
       "<table border=\"1\" class=\"dataframe\">\n",
       "  <thead>\n",
       "    <tr style=\"text-align: right;\">\n",
       "      <th></th>\n",
       "      <th>EmpID</th>\n",
       "      <th>Name</th>\n",
       "      <th>DSGN</th>\n",
       "      <th>Salary</th>\n",
       "    </tr>\n",
       "  </thead>\n",
       "  <tbody>\n",
       "    <tr>\n",
       "      <th>0</th>\n",
       "      <td>1</td>\n",
       "      <td>A</td>\n",
       "      <td>Manager</td>\n",
       "      <td>10000</td>\n",
       "    </tr>\n",
       "    <tr>\n",
       "      <th>1</th>\n",
       "      <td>2</td>\n",
       "      <td>B</td>\n",
       "      <td>Finance</td>\n",
       "      <td>20000</td>\n",
       "    </tr>\n",
       "    <tr>\n",
       "      <th>2</th>\n",
       "      <td>3</td>\n",
       "      <td>C</td>\n",
       "      <td>Manager</td>\n",
       "      <td>30000</td>\n",
       "    </tr>\n",
       "    <tr>\n",
       "      <th>3</th>\n",
       "      <td>4</td>\n",
       "      <td>D</td>\n",
       "      <td>Staff</td>\n",
       "      <td>40000</td>\n",
       "    </tr>\n",
       "    <tr>\n",
       "      <th>4</th>\n",
       "      <td>5</td>\n",
       "      <td>E</td>\n",
       "      <td>CEO</td>\n",
       "      <td>50000</td>\n",
       "    </tr>\n",
       "  </tbody>\n",
       "</table>\n",
       "</div>"
      ],
      "text/plain": [
       "   EmpID Name     DSGN  Salary\n",
       "0      1    A  Manager   10000\n",
       "1      2    B  Finance   20000\n",
       "2      3    C  Manager   30000\n",
       "3      4    D    Staff   40000\n",
       "4      5    E      CEO   50000"
      ]
     },
     "execution_count": 11,
     "metadata": {},
     "output_type": "execute_result"
    }
   ],
   "source": [
    "s=pd.read_excel(\"Assignment.xlsx\")\n",
    "s"
   ]
  },
  {
   "cell_type": "code",
   "execution_count": 13,
   "metadata": {},
   "outputs": [
    {
     "name": "stdout",
     "output_type": "stream",
     "text": [
      " EmpID Name  DSGN  Salary\n",
      "     4    D Staff   40000\n",
      "     5    E   CEO   50000\n"
     ]
    }
   ],
   "source": [
    "fd=s[s['Salary'] > 30000]\n",
    "print(fd.to_string(index=False))"
   ]
  },
  {
   "cell_type": "code",
   "execution_count": 14,
   "metadata": {},
   "outputs": [
    {
     "data": {
      "text/html": [
       "<div>\n",
       "<style scoped>\n",
       "    .dataframe tbody tr th:only-of-type {\n",
       "        vertical-align: middle;\n",
       "    }\n",
       "\n",
       "    .dataframe tbody tr th {\n",
       "        vertical-align: top;\n",
       "    }\n",
       "\n",
       "    .dataframe thead th {\n",
       "        text-align: right;\n",
       "    }\n",
       "</style>\n",
       "<table border=\"1\" class=\"dataframe\">\n",
       "  <thead>\n",
       "    <tr style=\"text-align: right;\">\n",
       "      <th></th>\n",
       "      <th>EmpID</th>\n",
       "      <th>Name</th>\n",
       "      <th>DSGN</th>\n",
       "      <th>Salary</th>\n",
       "    </tr>\n",
       "  </thead>\n",
       "  <tbody>\n",
       "    <tr>\n",
       "      <th>3</th>\n",
       "      <td>4</td>\n",
       "      <td>D</td>\n",
       "      <td>Staff</td>\n",
       "      <td>40000</td>\n",
       "    </tr>\n",
       "    <tr>\n",
       "      <th>4</th>\n",
       "      <td>5</td>\n",
       "      <td>E</td>\n",
       "      <td>CEO</td>\n",
       "      <td>50000</td>\n",
       "    </tr>\n",
       "  </tbody>\n",
       "</table>\n",
       "</div>"
      ],
      "text/plain": [
       "   EmpID Name   DSGN  Salary\n",
       "3      4    D  Staff   40000\n",
       "4      5    E    CEO   50000"
      ]
     },
     "execution_count": 14,
     "metadata": {},
     "output_type": "execute_result"
    }
   ],
   "source": [
    "fd"
   ]
  },
  {
   "attachments": {},
   "cell_type": "markdown",
   "metadata": {},
   "source": [
    "- matplotlib\n",
    "    - 'b'- default blue line\n",
    "    - 'ro'- red circle plot\n",
    "    - '^k'- filled triangle plot\n",
    "    - '-g'- green line"
   ]
  },
  {
   "cell_type": "code",
   "execution_count": 7,
   "metadata": {},
   "outputs": [
    {
     "data": {
      "image/png": "[encoded data removed]",
      "text/plain": [
       "<Figure size 640x480 with 1 Axes>"
      ]
     },
     "metadata": {},
     "output_type": "display_data"
    }
   ],
   "source": [
    "import matplotlib.pyplot as plt\n",
    "\n",
    "plt.plot([12,23,55,67,80],[1,2,3,4,5],\"-g\")\n",
    "plt.title(\"Line Graph\")\n",
    "plt.xlabel(\"X-Axis\")\n",
    "plt.ylabel(\"Y-Axis\")\n",
    "plt.show()"
   ]
  },
  {
   "cell_type": "code",
   "execution_count": 6,
   "metadata": {},
   "outputs": [
    {
     "data": {
      "image/png": "[encoded data removed]",
      "text/plain": [
       "<Figure size 640x480 with 1 Axes>"
      ]
     },
     "metadata": {},
     "output_type": "display_data"
    }
   ],
   "source": [
    "import matplotlib.pyplot as ppp\n",
    "ppp.plot([1,2,3,4,5],[1,4,9,16,21])\n",
    "ppp.title(\"Price Chart\")\n",
    "ppp.xlabel(\"Days\")\n",
    "ppp.ylabel(\"Price\")\n",
    "ppp.axis([1,5,1,25])\n",
    "ppp.show()"
   ]
  },
  {
   "cell_type": "code",
   "execution_count": 8,
   "metadata": {},
   "outputs": [
    {
     "data": {
      "image/png": "[encoded data removed]",
      "text/plain": [
       "<Figure size 640x480 with 1 Axes>"
      ]
     },
     "metadata": {},
     "output_type": "display_data"
    }
   ],
   "source": [
    "import matplotlib.pyplot as plt\n",
    "\n",
    "plt.plot([12,23,55,67,80],[1,2,3,4,5],\"ro\")\n",
    "plt.title(\"Line Graph\")\n",
    "plt.xlabel(\"X-Axis\")\n",
    "plt.ylabel(\"Y-Axis\")\n",
    "plt.axis([1,80,1,5])\n",
    "plt.show()"
   ]
  },
  {
   "cell_type": "code",
   "execution_count": 21,
   "metadata": {},
   "outputs": [
    {
     "data": {
      "image/png": "[encoded data removed]",
      "text/plain": [
       "<Figure size 640x480 with 1 Axes>"
      ]
     },
     "metadata": {},
     "output_type": "display_data"
    }
   ],
   "source": [
    "import matplotlib.pyplot as plt\n",
    "\n",
    "name=['A','B','C','D','E']\n",
    "marks=[10,20,30,40,50]\n",
    "plt.scatter(name,marks,color='red')\n",
    "plt.plot(name,marks,color='red')\n",
    "plt.bar(name,marks,color='purple')\n",
    "plt.show()"
   ]
  },
  {
   "cell_type": "code",
   "execution_count": 43,
   "metadata": {},
   "outputs": [
    {
     "data": {
      "image/png": "[encoded data removed]",
      "text/plain": [
       "<Figure size 640x480 with 1 Axes>"
      ]
     },
     "metadata": {},
     "output_type": "display_data"
    }
   ],
   "source": [
    "import matplotlib.style as style\n",
    "style.use('fivethirtyeight') \n",
    "x=[1,2,3,4,5]\n",
    "y=[1,4,9,16,25]\n",
    "\n",
    "x1= [3,6,9,12,15]\n",
    "y1= [3,6,9,12,15]\n",
    "\n",
    "plt.plot(x,y,'r',label='First X',linewidth=2) #linewidth is used to increase the width of the line\n",
    "plt.plot(x1,y1,'b',label='Second X',linewidth=2)\n",
    "\n",
    "plt.title('Multiple charts')\n",
    "\n",
    "#plt.figure()#create a figure\n",
    "plt.xlabel(\"X Axis\")\n",
    "plt.ylabel(\"Y Axis\")\n",
    "plt.legend()#to show the label\n",
    "plt.grid(True)\n",
    "plt.show()"
   ]
  },
  {
   "cell_type": "code",
   "execution_count": 33,
   "metadata": {},
   "outputs": [
    {
     "name": "stdout",
     "output_type": "stream",
     "text": [
      "Axes(0.125,0.11;0.775x0.77)\n"
     ]
    },
    {
     "data": {
      "image/png": "[encoded data removed]",
      "text/plain": [
       "<Figure size 640x480 with 1 Axes>"
      ]
     },
     "metadata": {},
     "output_type": "display_data"
    }
   ],
   "source": [
    "import numpy as np\n",
    "fig = plt.figure()\n",
    "axis = plt.axes()\n",
    "xaxis = np.linspace(0,10,100)\n",
    "axis.plot(xaxis,np.sin(xaxis))\n",
    "print(axis)\n",
    "plt.title(\"Sine wave\")\n",
    "plt.xlabel(\"X Axis\")\n",
    "plt.ylabel(\"Y Axis\")\n",
    "plt.show()"
   ]
  },
  {
   "cell_type": "code",
   "execution_count": 48,
   "metadata": {},
   "outputs": [
    {
     "data": {
      "text/html": [
       "<div>\n",
       "<style scoped>\n",
       "    .dataframe tbody tr th:only-of-type {\n",
       "        vertical-align: middle;\n",
       "    }\n",
       "\n",
       "    .dataframe tbody tr th {\n",
       "        vertical-align: top;\n",
       "    }\n",
       "\n",
       "    .dataframe thead th {\n",
       "        text-align: right;\n",
       "    }\n",
       "</style>\n",
       "<table border=\"1\" class=\"dataframe\">\n",
       "  <thead>\n",
       "    <tr style=\"text-align: right;\">\n",
       "      <th></th>\n",
       "      <th>Gold</th>\n",
       "      <th>Silver</th>\n",
       "      <th>Bronze</th>\n",
       "    </tr>\n",
       "  </thead>\n",
       "  <tbody>\n",
       "    <tr>\n",
       "      <th>India</th>\n",
       "      <td>10</td>\n",
       "      <td>1</td>\n",
       "      <td>11</td>\n",
       "    </tr>\n",
       "    <tr>\n",
       "      <th>USA</th>\n",
       "      <td>20</td>\n",
       "      <td>2</td>\n",
       "      <td>22</td>\n",
       "    </tr>\n",
       "    <tr>\n",
       "      <th>UK</th>\n",
       "      <td>30</td>\n",
       "      <td>3</td>\n",
       "      <td>33</td>\n",
       "    </tr>\n",
       "    <tr>\n",
       "      <th>China</th>\n",
       "      <td>40</td>\n",
       "      <td>4</td>\n",
       "      <td>44</td>\n",
       "    </tr>\n",
       "    <tr>\n",
       "      <th>Russia</th>\n",
       "      <td>50</td>\n",
       "      <td>5</td>\n",
       "      <td>55</td>\n",
       "    </tr>\n",
       "  </tbody>\n",
       "</table>\n",
       "</div>"
      ],
      "text/plain": [
       "        Gold  Silver  Bronze\n",
       "India     10       1      11\n",
       "USA       20       2      22\n",
       "UK        30       3      33\n",
       "China     40       4      44\n",
       "Russia    50       5      55"
      ]
     },
     "execution_count": 48,
     "metadata": {},
     "output_type": "execute_result"
    }
   ],
   "source": [
    "import pandas as pd\n",
    "data ={\n",
    "    'Gold': [10,20,30,40,50],\n",
    "    'Silver': [1,2,3,4,5],\n",
    "    'Bronze': [11,22,33,44,55]\n",
    "}\n",
    "fd=pd.DataFrame(data, index=['India','USA','UK','China','Russia'])\n",
    "fd"
   ]
  },
  {
   "cell_type": "code",
   "execution_count": 51,
   "metadata": {},
   "outputs": [
    {
     "name": "stderr",
     "output_type": "stream",
     "text": [
      "/tmp/ipykernel_5995/720207985.py:3: FutureWarning: save is not part of the public API, usage can give unexpected results and will be removed in a future version\n",
      "  Sheet.save()\n"
     ]
    }
   ],
   "source": [
    "Sheet = pd.ExcelWriter('Olympic.xlsx')\n",
    "fd.to_excel(Sheet, index=True)\n",
    "Sheet.save()\n"
   ]
  },
  {
   "cell_type": "code",
   "execution_count": 52,
   "metadata": {},
   "outputs": [
    {
     "data": {
      "text/plain": [
       "<pandas.io.excel._openpyxl.OpenpyxlWriter at 0x7f526917a0b0>"
      ]
     },
     "execution_count": 52,
     "metadata": {},
     "output_type": "execute_result"
    }
   ],
   "source": [
    "Sheet"
   ]
  },
  {
   "cell_type": "code",
   "execution_count": 8,
   "metadata": {},
   "outputs": [
    {
     "data": {
      "image/png": "[encoded data removed]",
      "text/plain": [
       "<Figure size 640x480 with 1 Axes>"
      ]
     },
     "metadata": {},
     "output_type": "display_data"
    }
   ],
   "source": [
    "from matplotlib import pyplot\n",
    "import numpy\n",
    "countries = ['India','USA','UK','China','Russia']\n",
    "gold = numpy.array([10,20,30,40,50])\n",
    "silver = numpy.array([10,22,33,44,65])\n",
    "bronze = numpy.array([11,22,33,44,55])\n",
    "\n",
    "olymp = [x for x,_ in enumerate(countries)]\n",
    "pyplot.bar(olymp,height=gold,width=0.8,label='Gold',color='yellow',bottom=silver+bronze)\n",
    "pyplot.bar(olymp,height=silver,width=0.8,label='Silver',color='red',bottom=bronze) \n",
    "pyplot.bar(olymp,height=bronze,width=0.8,label='Bronze',color='indigo')\n",
    "\n",
    "pyplot.xticks(olymp,countries)\n",
    "pyplot.xlabel(\"Countries\")\n",
    "pyplot.ylabel(\"Medals\")\n",
    "pyplot.legend() \n",
    "pyplot.show()"
   ]
  },
  {
   "cell_type": "code",
   "execution_count": null,
   "metadata": {},
   "outputs": [],
   "source": []
  }
 ],
 "metadata": {
  "kernelspec": {
   "display_name": "Python 3",
   "language": "python",
   "name": "python3"
  },
  "language_info": {
   "codemirror_mode": {
    "name": "ipython",
    "version": 3
   },
   "file_extension": ".py",
   "mimetype": "text/x-python",
   "name": "python",
   "nbconvert_exporter": "python",
   "pygments_lexer": "ipython3",
   "version": "3.10.4"
  },
  "orig_nbformat": 4
 },
 "nbformat": 4,
 "nbformat_minor": 2
}

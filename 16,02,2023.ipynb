{
 "cells": [
  {
   "cell_type": "code",
   "execution_count": 1,
   "id": "1be40ae6",
   "metadata": {},
   "outputs": [
    {
     "name": "stdout",
     "output_type": "stream",
     "text": [
      "Enter id: ilovepython\n",
      "Matched\n"
     ]
    }
   ],
   "source": [
    "id='ilovepython'\n",
    "i=input(\"Enter id: \")\n",
    "if i==id:\n",
    "    print(\"Matched\")\n",
    "else:\n",
    "    print(\"Not Matched\")"
   ]
  },
  {
   "cell_type": "code",
   "execution_count": 5,
   "id": "9f682f8b",
   "metadata": {
    "scrolled": true
   },
   "outputs": [
    {
     "name": "stdout",
     "output_type": "stream",
     "text": [
      "Enter iddji\n",
      "Enter pwmypass1234\n",
      "Invalid id\n"
     ]
    }
   ],
   "source": [
    "id='ilovepython'\n",
    "pw='mypass1234'\n",
    "d=input(\"Enter id\")\n",
    "p=input(\"Enter pw\")\n",
    "if d==id and p==pw:\n",
    "    print(\"Welcome\")\n",
    "elif d!=id:\n",
    "    print(\"Invalid id\")\n",
    "else:\n",
    "    print(\"Invalid pw\")\n",
    "    "
   ]
  },
  {
   "cell_type": "code",
   "execution_count": 9,
   "id": "a115127c",
   "metadata": {},
   "outputs": [
    {
     "name": "stdout",
     "output_type": "stream",
     "text": [
      "80\n"
     ]
    }
   ],
   "source": [
    "import random\n",
    "a=random.randint(1,100)\n",
    "print(a)"
   ]
  },
  {
   "cell_type": "code",
   "execution_count": 11,
   "id": "0aee570d",
   "metadata": {},
   "outputs": [
    {
     "name": "stdout",
     "output_type": "stream",
     "text": [
      "Start coin tossing game\n",
      "Front\n",
      "Want to continue then press 1: 1\n",
      "Start coin tossing game\n",
      "Back\n",
      "Want to continue then press 1: 1\n",
      "Start coin tossing game\n",
      "Back\n",
      "Want to continue then press 1: 2\n",
      "Game Finished\n"
     ]
    }
   ],
   "source": [
    "import random\n",
    "n=1\n",
    "while(n==1):\n",
    "    print(\"Start coin tossing game\")\n",
    "    a=random.randrange(2)\n",
    "    if a==0:\n",
    "        print(\"Front\")\n",
    "    else:\n",
    "        print(\"Back\")\n",
    "    n=int(input(\"Want to continue then press 1: \"))    \n",
    "print(\"Game Finished\")    "
   ]
  },
  {
   "cell_type": "code",
   "execution_count": 1,
   "id": "9947d7e2",
   "metadata": {},
   "outputs": [
    {
     "name": "stdout",
     "output_type": "stream",
     "text": [
      "1)Addition\t2)Subtraction\t3)Multiplication\t4)Division1\n",
      "Enter two numbers: 2\n",
      "Enter proper input next time\n"
     ]
    }
   ],
   "source": [
    "import sys\n",
    "choice=int(input(\"1)Addition\\t2)Subtraction\\t3)Multiplication\\t4)Division\"))\n",
    "try:\n",
    "    a,b=input(\"Enter two numbers: \").split()\n",
    "    a=int(a)\n",
    "    b=int(b)\n",
    "    if choice==1:\n",
    "        print(a+b)\n",
    "    elif choice==2:\n",
    "        print(a-b)\n",
    "    elif choice==3:\n",
    "        print(a*b)\n",
    "    elif choice==4:\n",
    "        print(a/b)\n",
    "    else:\n",
    "        print(\"Invalid Choice\")\n",
    "except:\n",
    "    print(\"Enter proper input next time\")\n",
    "    quit()\n",
    "   "
   ]
  },
  {
   "cell_type": "code",
   "execution_count": 1,
   "id": "8784b5c5",
   "metadata": {},
   "outputs": [
    {
     "name": "stdout",
     "output_type": "stream",
     "text": [
      "enter x and y:-5 6\n",
      "Second Quadrant\n"
     ]
    }
   ],
   "source": [
    "x,y=input(\"enter x and y:\").split()\n",
    "x=int(x)\n",
    "y=int(y)\n",
    "if x>0 and y>0:\n",
    "    print(\"First quadrant\")\n",
    "elif x<0 and y>0:\n",
    "    print(\"Second Quadrant\")\n",
    "elif x>0 and y<0:\n",
    "    print(\"Fourth Quadrant\")\n",
    "elif x==0 and y==0:\n",
    "    print(\"origin\")\n",
    "else:\n",
    "    print(\"Third Quadrant\")"
   ]
  },
  {
   "cell_type": "code",
   "execution_count": 2,
   "id": "8769ce2d",
   "metadata": {},
   "outputs": [
    {
     "name": "stdout",
     "output_type": "stream",
     "text": [
      "Enter x and y-5 6\n",
      "Second  Quadrant\n"
     ]
    }
   ],
   "source": [
    "x,y=input(\"Enter x and y\").split()\n",
    "x=int(x)\n",
    "y=int(y)\n",
    "c={(True,True):\"First\",(True,False):\"Fourth\",(False,True):\"Second\",(False,False):\"Third\"}\n",
    "print(c[(x>=0,y>=0)],\" Quadrant\")"
   ]
  },
  {
   "cell_type": "code",
   "execution_count": 1,
   "id": "5fc75af3",
   "metadata": {},
   "outputs": [
    {
     "name": "stdout",
     "output_type": "stream",
     "text": [
      "Welcome to yummy restaurant.Here is the menu.\n",
      "-Burger(enter b)\n",
      "-Chicken(enter c)\n",
      "-Pizza(enter p)\n",
      "Enter ur choiceq\n",
      "Enter ur choiceb\n",
      "ordered Burger\n"
     ]
    }
   ],
   "source": [
    "print(\"Welcome to yummy restaurant.Here is the menu.\\n-Burger(enter b)\\n-Chicken(enter c)\\n-Pizza(enter p)\")\n",
    "n=1\n",
    "while(n==1):\n",
    "    c=input(\"Enter ur choice\")\n",
    "    if c=='p'or c=='b' or c=='c':\n",
    "        if c=='b':\n",
    "            print(\"ordered Burger\")\n",
    "        elif c=='c':\n",
    "            print(\"Ordered Chicken\")\n",
    "        else:\n",
    "            print(\"Ordered Pizza\")\n",
    "        n+=1\n",
    "        \n",
    "    \n",
    "        "
   ]
  },
  {
   "cell_type": "code",
   "execution_count": 2,
   "id": "46877224",
   "metadata": {},
   "outputs": [
    {
     "name": "stdout",
     "output_type": "stream",
     "text": [
      "Red bread+Meatball+onion+Honey\n",
      "Red bread+Meatball+onion+Chilli\n",
      "Red bread+Meatball+onion+Soya\n",
      "Red bread+Meatball+Tomato+Honey\n",
      "Red bread+Meatball+Tomato+Chilli\n",
      "Red bread+Meatball+Tomato+Soya\n",
      "Red bread+Meatball+Bitter guard+Honey\n",
      "Red bread+Meatball+Bitter guard+Chilli\n",
      "Red bread+Meatball+Bitter guard+Soya\n",
      "Red bread+Sausage+onion+Honey\n",
      "Red bread+Sausage+onion+Chilli\n",
      "Red bread+Sausage+onion+Soya\n",
      "Red bread+Sausage+Tomato+Honey\n",
      "Red bread+Sausage+Tomato+Chilli\n",
      "Red bread+Sausage+Tomato+Soya\n",
      "Red bread+Sausage+Bitter guard+Honey\n",
      "Red bread+Sausage+Bitter guard+Chilli\n",
      "Red bread+Sausage+Bitter guard+Soya\n",
      "Red bread+Chicken Breast+onion+Honey\n",
      "Red bread+Chicken Breast+onion+Chilli\n",
      "Red bread+Chicken Breast+onion+Soya\n",
      "Red bread+Chicken Breast+Tomato+Honey\n",
      "Red bread+Chicken Breast+Tomato+Chilli\n",
      "Red bread+Chicken Breast+Tomato+Soya\n",
      "Red bread+Chicken Breast+Bitter guard+Honey\n",
      "Red bread+Chicken Breast+Bitter guard+Chilli\n",
      "Red bread+Chicken Breast+Bitter guard+Soya\n",
      "Wheat+Meatball+onion+Honey\n",
      "Wheat+Meatball+onion+Chilli\n",
      "Wheat+Meatball+onion+Soya\n",
      "Wheat+Meatball+Tomato+Honey\n",
      "Wheat+Meatball+Tomato+Chilli\n",
      "Wheat+Meatball+Tomato+Soya\n",
      "Wheat+Meatball+Bitter guard+Honey\n",
      "Wheat+Meatball+Bitter guard+Chilli\n",
      "Wheat+Meatball+Bitter guard+Soya\n",
      "Wheat+Sausage+onion+Honey\n",
      "Wheat+Sausage+onion+Chilli\n",
      "Wheat+Sausage+onion+Soya\n",
      "Wheat+Sausage+Tomato+Honey\n",
      "Wheat+Sausage+Tomato+Chilli\n",
      "Wheat+Sausage+Tomato+Soya\n",
      "Wheat+Sausage+Bitter guard+Honey\n",
      "Wheat+Sausage+Bitter guard+Chilli\n",
      "Wheat+Sausage+Bitter guard+Soya\n",
      "Wheat+Chicken Breast+onion+Honey\n",
      "Wheat+Chicken Breast+onion+Chilli\n",
      "Wheat+Chicken Breast+onion+Soya\n",
      "Wheat+Chicken Breast+Tomato+Honey\n",
      "Wheat+Chicken Breast+Tomato+Chilli\n",
      "Wheat+Chicken Breast+Tomato+Soya\n",
      "Wheat+Chicken Breast+Bitter guard+Honey\n",
      "Wheat+Chicken Breast+Bitter guard+Chilli\n",
      "Wheat+Chicken Breast+Bitter guard+Soya\n",
      "White+Meatball+onion+Honey\n",
      "White+Meatball+onion+Chilli\n",
      "White+Meatball+onion+Soya\n",
      "White+Meatball+Tomato+Honey\n",
      "White+Meatball+Tomato+Chilli\n",
      "White+Meatball+Tomato+Soya\n",
      "White+Meatball+Bitter guard+Honey\n",
      "White+Meatball+Bitter guard+Chilli\n",
      "White+Meatball+Bitter guard+Soya\n",
      "White+Sausage+onion+Honey\n",
      "White+Sausage+onion+Chilli\n",
      "White+Sausage+onion+Soya\n",
      "White+Sausage+Tomato+Honey\n",
      "White+Sausage+Tomato+Chilli\n",
      "White+Sausage+Tomato+Soya\n",
      "White+Sausage+Bitter guard+Honey\n",
      "White+Sausage+Bitter guard+Chilli\n",
      "White+Sausage+Bitter guard+Soya\n",
      "White+Chicken Breast+onion+Honey\n",
      "White+Chicken Breast+onion+Chilli\n",
      "White+Chicken Breast+onion+Soya\n",
      "White+Chicken Breast+Tomato+Honey\n",
      "White+Chicken Breast+Tomato+Chilli\n",
      "White+Chicken Breast+Tomato+Soya\n",
      "White+Chicken Breast+Bitter guard+Honey\n",
      "White+Chicken Breast+Bitter guard+Chilli\n",
      "White+Chicken Breast+Bitter guard+Soya\n"
     ]
    }
   ],
   "source": [
    "breads=[\"Red bread\",\"Wheat\",\"White\"]\n",
    "meats=[\"Meatball\",\"Sausage\",\"Chicken Breast\"]\n",
    "vegs=[\"onion\",\"Tomato\",\"Bitter guard\"]\n",
    "sauce=[\"Honey\",\"Chilli\",\"Soya\"]\n",
    "for b in breads:\n",
    "    for m in meats:\n",
    "        for v in vegs:\n",
    "            for s in sauce:\n",
    "                print(b+\"+\"+m+\"+\"+v+\"+\"+s)"
   ]
  },
  {
   "cell_type": "code",
   "execution_count": 3,
   "id": "73ae0760",
   "metadata": {},
   "outputs": [
    {
     "name": "stdout",
     "output_type": "stream",
     "text": [
      "[0, 1, 2, 3, 4]\n"
     ]
    }
   ],
   "source": [
    "print(list(range(0,5)))"
   ]
  },
  {
   "cell_type": "code",
   "execution_count": 4,
   "id": "99713b40",
   "metadata": {},
   "outputs": [
    {
     "name": "stdout",
     "output_type": "stream",
     "text": [
      "[0, 1, 2, 3, 4]\n",
      "[0, 2, 4]\n",
      "[0, 3]\n",
      "[0, 4]\n"
     ]
    }
   ],
   "source": [
    "print(list(range(0,5,1)))\n",
    "print(list(range(0,5,2)))\n",
    "print(list(range(0,5,3)))\n",
    "print(list(range(0,5,4)))"
   ]
  },
  {
   "cell_type": "code",
   "execution_count": 6,
   "id": "aa383f97",
   "metadata": {},
   "outputs": [
    {
     "name": "stdout",
     "output_type": "stream",
     "text": [
      "55\n"
     ]
    }
   ],
   "source": [
    "print(sum(range(0,11)))"
   ]
  },
  {
   "cell_type": "code",
   "execution_count": 8,
   "id": "2e0dcd9a",
   "metadata": {},
   "outputs": [
    {
     "name": "stdout",
     "output_type": "stream",
     "text": [
      "m and n2 4 \n",
      "4\n"
     ]
    }
   ],
   "source": [
    "m,n=[int(i) for i in input(\"m and n\").split()]\n",
    "print(m if m>n else n)"
   ]
  },
  {
   "cell_type": "code",
   "execution_count": 33,
   "id": "98337a5e",
   "metadata": {},
   "outputs": [
    {
     "name": "stdout",
     "output_type": "stream",
     "text": [
      "55\n"
     ]
    },
    {
     "ename": "TypeError",
     "evalue": "'int' object is not callable",
     "output_type": "error",
     "traceback": [
      "\u001b[1;31m---------------------------------------------------------------------------\u001b[0m",
      "\u001b[1;31mTypeError\u001b[0m                                 Traceback (most recent call last)",
      "Cell \u001b[1;32mIn[33], line 5\u001b[0m\n\u001b[0;32m      3\u001b[0m     su\u001b[38;5;241m+\u001b[39m\u001b[38;5;241m=\u001b[39mi\n\u001b[0;32m      4\u001b[0m \u001b[38;5;28mprint\u001b[39m(\u001b[38;5;28msum\u001b[39m)    \n\u001b[1;32m----> 5\u001b[0m \u001b[38;5;28mprint\u001b[39m(\u001b[38;5;28;43msum\u001b[39;49m\u001b[43m(\u001b[49m\u001b[38;5;28;43mrange\u001b[39;49m\u001b[43m(\u001b[49m\u001b[38;5;241;43m0\u001b[39;49m\u001b[43m,\u001b[49m\u001b[38;5;241;43m11\u001b[39;49m\u001b[43m)\u001b[49m\u001b[43m)\u001b[49m)\n",
      "\u001b[1;31mTypeError\u001b[0m: 'int' object is not callable"
     ]
    }
   ],
   "source": [
    "su=0\n",
    "for i in range(11):\n",
    "    su+=i\n",
    "print(sum)    \n",
    "print(sum(range(0,11)))    "
   ]
  },
  {
   "cell_type": "code",
   "execution_count": 14,
   "id": "99815446",
   "metadata": {},
   "outputs": [
    {
     "name": "stdout",
     "output_type": "stream",
     "text": [
      "m,n and o: 1 3 2\n",
      "3\n"
     ]
    }
   ],
   "source": [
    "m,n,o=[int(i) for i in input(\"m,n and o: \").split()]\n",
    "print(m if m>n and m>o else n if n>m and n>o else o)"
   ]
  },
  {
   "cell_type": "code",
   "execution_count": 16,
   "id": "723c7832",
   "metadata": {},
   "outputs": [
    {
     "name": "stdout",
     "output_type": "stream",
     "text": [
      "Enter the number: 5\n",
      "5! is 120\n"
     ]
    }
   ],
   "source": [
    "f=1\n",
    "n=int(input(\"Enter the number: \"))\n",
    "for i in range(1,n+1):\n",
    "    f*=i\n",
    "print(f\"{n}! is {f}\")    "
   ]
  },
  {
   "cell_type": "code",
   "execution_count": 18,
   "id": "65f11603",
   "metadata": {},
   "outputs": [
    {
     "name": "stdout",
     "output_type": "stream",
     "text": [
      "x and y-5 6\n",
      "Second\n"
     ]
    }
   ],
   "source": [
    "x,y=[int(i) for i in input(\"x and y\").split()]\n",
    "if x>=0:\n",
    "    q=\"First\" if y>=0 else \"Fourth\"\n",
    "else:\n",
    "    q=\"Third\" if y<=0 else \"Second\"\n",
    "print(q)    "
   ]
  },
  {
   "cell_type": "code",
   "execution_count": 21,
   "id": "759f4afc",
   "metadata": {},
   "outputs": [
    {
     "name": "stdout",
     "output_type": "stream",
     "text": [
      "My name is: Harish\n"
     ]
    }
   ],
   "source": [
    "print(\"My name is:\",end=\" \")\n",
    "print(\"Harish\")"
   ]
  },
  {
   "cell_type": "code",
   "execution_count": 31,
   "id": "ce89286c",
   "metadata": {},
   "outputs": [
    {
     "name": "stdout",
     "output_type": "stream",
     "text": [
      "bts[0]=V  \n",
      "bts[1]=J-Hope\n",
      "bts[2]=RM \n",
      "bts[3]=Junbook\n",
      "bts[4]=Jin\n",
      "bts[5]=Jimin\n",
      "bts[6]=Suga\n"
     ]
    }
   ],
   "source": [
    "bts=['V','J-Hope','RM','Junbook','Jin','Jimin','Suga']\n",
    "for i,a in enumerate(bts):\n",
    "    print(f'bts[{i}]={a:3}')"
   ]
  },
  {
   "cell_type": "code",
   "execution_count": 2,
   "id": "68fea54d",
   "metadata": {},
   "outputs": [
    {
     "name": "stdout",
     "output_type": "stream",
     "text": [
      "5050\n"
     ]
    }
   ],
   "source": [
    "print(sum(range(1,101)))"
   ]
  },
  {
   "cell_type": "code",
   "execution_count": 6,
   "id": "db2224b8",
   "metadata": {},
   "outputs": [
    {
     "name": "stdout",
     "output_type": "stream",
     "text": [
      "2550\n"
     ]
    }
   ],
   "source": [
    "print(sum(range(0,101,2)))"
   ]
  },
  {
   "cell_type": "code",
   "execution_count": 5,
   "id": "3fad02db",
   "metadata": {},
   "outputs": [
    {
     "name": "stdout",
     "output_type": "stream",
     "text": [
      "2500\n"
     ]
    }
   ],
   "source": [
    "print(sum(range(1,101,2)))"
   ]
  },
  {
   "cell_type": "code",
   "execution_count": 9,
   "id": "22a9d5fb",
   "metadata": {},
   "outputs": [
    {
     "name": "stdout",
     "output_type": "stream",
     "text": [
      "  100hi\n"
     ]
    }
   ],
   "source": [
    "#Format Function\n",
    "print('{:5d}hi'.format(100))"
   ]
  },
  {
   "cell_type": "code",
   "execution_count": 16,
   "id": "14c8f5fb",
   "metadata": {},
   "outputs": [
    {
     "name": "stdout",
     "output_type": "stream",
     "text": [
      "  100 hi        3.1hi\n"
     ]
    }
   ],
   "source": [
    "print('{:5d} hi {:10.1f}hi'.format(100,3.14))"
   ]
  },
  {
   "cell_type": "code",
   "execution_count": 46,
   "id": "272adabd",
   "metadata": {},
   "outputs": [
    {
     "name": "stdout",
     "output_type": "stream",
     "text": [
      "Enter n: 5\n",
      "1 2 3 4 5 \n",
      "6 7 8 9 10 \n",
      "11 12 13 14 15 \n",
      "16 17 18 19 20 \n",
      "21 22 23 24 25 \n"
     ]
    }
   ],
   "source": [
    "k=1\n",
    "n=int(input(\"Enter n: \"))\n",
    "for i in range(n):\n",
    "    for j in range(n):\n",
    "        print(k,end=\" \")\n",
    "        k+=1\n",
    "    print()    \n",
    "      "
   ]
  },
  {
   "cell_type": "code",
   "execution_count": 50,
   "id": "2f3456ce",
   "metadata": {},
   "outputs": [
    {
     "name": "stdout",
     "output_type": "stream",
     "text": [
      "Enter n: 7\n",
      "   1    2    3    4    5\n",
      "   6    7    8    9   10\n",
      "  11   12   13   14   15\n",
      "  16   17   18   19   20\n",
      "  21   22   23   24   25\n",
      "  26   27   28   29   30\n",
      "  31   32   33   34   35\n"
     ]
    }
   ],
   "source": [
    "n=int(input(\"Enter n: \"))\n",
    "for i in range(1,5*n+1):\n",
    "    print(f'{i:4}',end=\" \" if i%5 else \"\\n\")"
   ]
  },
  {
   "cell_type": "code",
   "execution_count": 38,
   "id": "41d3bc51",
   "metadata": {},
   "outputs": [
    {
     "name": "stdout",
     "output_type": "stream",
     "text": [
      "13\n"
     ]
    }
   ],
   "source": [
    "depth=30\n",
    "a=7\n",
    "b=5\n",
    "d=0\n",
    "day=0\n",
    "while(1):\n",
    "    d+=a\n",
    "    day+=1 \n",
    "    if(d>=depth):\n",
    "        break   \n",
    "    d-=b\n",
    "print(day)    "
   ]
  },
  {
   "cell_type": "markdown",
   "id": "0cf61571",
   "metadata": {},
   "source": [
    "# shuffle doesnt returnnnn"
   ]
  },
  {
   "cell_type": "code",
   "execution_count": 40,
   "id": "724c33ab",
   "metadata": {},
   "outputs": [
    {
     "name": "stdout",
     "output_type": "stream",
     "text": [
      "[5, 1, 2, 4, 3]\n"
     ]
    }
   ],
   "source": [
    "import random as r\n",
    "a=[1,2,3,4,5]\n",
    "r.shuffle(a)\n",
    "print(a)"
   ]
  },
  {
   "cell_type": "code",
   "execution_count": 41,
   "id": "3a86321b",
   "metadata": {},
   "outputs": [
    {
     "name": "stdout",
     "output_type": "stream",
     "text": [
      "4\n"
     ]
    }
   ],
   "source": [
    "print(r.choice(a))"
   ]
  },
  {
   "cell_type": "code",
   "execution_count": 43,
   "id": "a7284339",
   "metadata": {},
   "outputs": [
    {
     "name": "stdout",
     "output_type": "stream",
     "text": [
      "[1, 4]\n"
     ]
    }
   ],
   "source": [
    "print(r.sample(a,2))"
   ]
  },
  {
   "cell_type": "code",
   "execution_count": null,
   "id": "0989a4a5",
   "metadata": {},
   "outputs": [],
   "source": []
  }
 ],
 "metadata": {
  "kernelspec": {
   "display_name": "Python 3 (ipykernel)",
   "language": "python",
   "name": "python3"
  },
  "language_info": {
   "codemirror_mode": {
    "name": "ipython",
    "version": 3
   },
   "file_extension": ".py",
   "mimetype": "text/x-python",
   "name": "python",
   "nbconvert_exporter": "python",
   "pygments_lexer": "ipython3",
   "version": "3.10.9"
  }
 },
 "nbformat": 4,
 "nbformat_minor": 5
}

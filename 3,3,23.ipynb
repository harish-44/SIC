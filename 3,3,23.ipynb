{
 "cells": [
  {
   "cell_type": "code",
   "execution_count": 9,
   "metadata": {},
   "outputs": [
    {
     "name": "stdout",
     "output_type": "stream",
     "text": [
      "the result is 2.0 or -4.06\n"
     ]
    }
   ],
   "source": [
    "import math as m\n",
    "def get_root(a,b,c):\n",
    "    a=(m.sqrt(b**2-4*a*c)-b)/(2*a)\n",
    "    b=(-b-m.sqrt(b**2-4*a*c)/(2*a))\n",
    "    return a,b\n",
    "r1,r2=get_root(a=1,b=2,c=-8)\n",
    "r1-round(r1,2)\n",
    "r2=round(r2,2)\n",
    "print(f'the result is {r1} or {r2}')"
   ]
  },
  {
   "cell_type": "code",
   "execution_count": 11,
   "metadata": {},
   "outputs": [
    {
     "name": "stdout",
     "output_type": "stream",
     "text": [
      "the result is 2.0 or -4.06\n"
     ]
    }
   ],
   "source": [
    "r1,r2=get_root(c=-8,b=2,a=1)\n",
    "r1-round(r1,2)\n",
    "r2=round(r2,2)\n",
    "print(f'the result is {r1} or {r2}')"
   ]
  },
  {
   "cell_type": "code",
   "execution_count": 13,
   "metadata": {},
   "outputs": [
    {
     "name": "stdout",
     "output_type": "stream",
     "text": [
      "the result is 2.0 or -4.06\n"
     ]
    }
   ],
   "source": [
    "r1,r2=get_root(1,2,c=-8)\n",
    "r1-round(r1,2)\n",
    "r2=round(r2,2)\n",
    "print(f'the result is {r1} or {r2}')                                                                                                                                                                                                                                                                                                                                                                                                                                                                                                                                                                                                                                                                                                                                                                                                                                                                                                                                                                                                                                                                                                                                                                                                                                                                                                                                                                                                                                                                                                                                                                                                                                                                                                                                                                                                                                                                                                                                                                                                                                                                                                                                                                                                                                                                                                                                                                                                                                                                                                                                                                                                                                                                                                                                                                                                                                                                                                                                                                                                                                                                                                                                                                                                                                                                                                                                                                                                                                                                                                                                                                                                                                                                                                                                                                                                                                                                                                                                                                                                                                                                                                                                                                   "
   ]
  },
  {
   "cell_type": "code",
   "execution_count": 14,
   "metadata": {},
   "outputs": [
    {
     "name": "stdout",
     "output_type": "stream",
     "text": [
      "Welcome\n",
      "Welcome\n"
     ]
    }
   ],
   "source": [
    "def greet():\n",
    "    print(\"Welcome\")\n",
    "greet()\n",
    "greet()    "
   ]
  },
  {
   "cell_type": "code",
   "execution_count": 15,
   "metadata": {},
   "outputs": [
    {
     "name": "stdout",
     "output_type": "stream",
     "text": [
      "The greater of 100 and 200 is : 200\n",
      "The smller of 100 and 200 is : 100\n"
     ]
    }
   ],
   "source": [
    "def max2(m,n):\n",
    "    return m if m>n else n\n",
    "def min2(m,n):\n",
    "    return m if m<n else n\n",
    "a=max2(100,200)\n",
    "b=min2(100,200)\n",
    "print(f'The greater of 100 and 200 is : {a}')\n",
    "print(f'The smller of 100 and 200 is : {b}')"
   ]
  },
  {
   "cell_type": "code",
   "execution_count": 16,
   "metadata": {},
   "outputs": [
    {
     "name": "stdout",
     "output_type": "stream",
     "text": [
      "1 mile = 1.61 km\n",
      "2 mile = 3.22 km\n",
      "3 mile = 4.83 km\n",
      "4 mile = 6.44 km\n",
      "5 mile = 8.05 km\n"
     ]
    }
   ],
   "source": [
    "def miletokm(mile):\n",
    "    return mile*1.61\n",
    "for i in range(1,6):\n",
    "    a=miletokm(i)\n",
    "    print(f'{i} mile = {a} km')\n"
   ]
  },
  {
   "cell_type": "code",
   "execution_count": 17,
   "metadata": {},
   "outputs": [
    {
     "name": "stdout",
     "output_type": "stream",
     "text": [
      "10 cel = 50.0 far\n",
      "20 cel = 68.0 far\n",
      "30 cel = 86.0 far\n",
      "40 cel = 104.0 far\n",
      "50 cel = 122.0 far\n"
     ]
    }
   ],
   "source": [
    "def cel2far(cel):\n",
    "    return cel*1.8+32\n",
    "for i in range(10,51,10):\n",
    "    a=cel2far(i)\n",
    "    print(f'{i} cel = {a} far')"
   ]
  },
  {
   "cell_type": "code",
   "execution_count": 18,
   "metadata": {},
   "outputs": [
    {
     "data": {
      "text/plain": [
       "2"
      ]
     },
     "execution_count": 18,
     "metadata": {},
     "output_type": "execute_result"
    }
   ],
   "source": [
    "a='i love python'\n",
    "a.count('o')"
   ]
  },
  {
   "cell_type": "code",
   "execution_count": 19,
   "metadata": {},
   "outputs": [
    {
     "data": {
      "text/plain": [
       "2"
      ]
     },
     "execution_count": 19,
     "metadata": {},
     "output_type": "execute_result"
    }
   ],
   "source": [
    "a.count(' ')"
   ]
  },
  {
   "cell_type": "code",
   "execution_count": 20,
   "metadata": {},
   "outputs": [
    {
     "data": {
      "text/plain": [
       "'I LOVE PYTHON'"
      ]
     },
     "execution_count": 20,
     "metadata": {},
     "output_type": "execute_result"
    }
   ],
   "source": [
    "a.swapcase()"
   ]
  },
  {
   "cell_type": "code",
   "execution_count": 21,
   "metadata": {},
   "outputs": [
    {
     "data": {
      "text/plain": [
       "False"
      ]
     },
     "execution_count": 21,
     "metadata": {},
     "output_type": "execute_result"
    }
   ],
   "source": [
    "a.istitle()"
   ]
  },
  {
   "cell_type": "code",
   "execution_count": 23,
   "metadata": {},
   "outputs": [
    {
     "name": "stdout",
     "output_type": "stream",
     "text": [
      "ABCDEFGHIJKLMNOPQRSTUVWXYZ\n"
     ]
    }
   ],
   "source": [
    "import string\n",
    "s=string.ascii_uppercase\n",
    "print(s)"
   ]
  },
  {
   "cell_type": "code",
   "execution_count": 24,
   "metadata": {},
   "outputs": [
    {
     "name": "stdout",
     "output_type": "stream",
     "text": [
      "abcdefghijklmnopqrstuvwxyz\n"
     ]
    }
   ],
   "source": [
    "d=string.ascii_lowercase\n",
    "print(d)"
   ]
  },
  {
   "cell_type": "code",
   "execution_count": 25,
   "metadata": {},
   "outputs": [],
   "source": [
    "q=s[1:]+s[:1]"
   ]
  },
  {
   "cell_type": "code",
   "execution_count": 26,
   "metadata": {},
   "outputs": [
    {
     "name": "stdout",
     "output_type": "stream",
     "text": [
      "BCDEFGHIJKLMNOPQRSTUVWXYZA\n"
     ]
    }
   ],
   "source": [
    "print(q)"
   ]
  },
  {
   "cell_type": "code",
   "execution_count": 29,
   "metadata": {},
   "outputs": [
    {
     "name": "stdout",
     "output_type": "stream",
     "text": [
      "0\n"
     ]
    }
   ],
   "source": [
    "w=s.index('A')\n",
    "print(w)"
   ]
  },
  {
   "cell_type": "code",
   "execution_count": 31,
   "metadata": {},
   "outputs": [
    {
     "name": "stdout",
     "output_type": "stream",
     "text": [
      "{((3, 1), 3), ((3, 3), 1), ((3, 1), 1), ((1, 3), 3), ((1, 1), 1), ((3, 3), 3), ((1, 1), 3), ((1, 3), 1)}\n"
     ]
    }
   ],
   "source": [
    "def pro(s1,s2):\n",
    "    r=set()\n",
    "    for i in s1:\n",
    "        for j in s2:\n",
    "            r=r | {(i,j)} # | is union\n",
    "    return r\n",
    "def exp(ip,exp):\n",
    "    r=ip\n",
    "    for i in range(exp-1):\n",
    "        r=pro(r,ip)\n",
    "    return r\n",
    "a={1,3}\n",
    "a3=exp(a,3)\n",
    "print(a3)    "
   ]
  },
  {
   "cell_type": "code",
   "execution_count": 35,
   "metadata": {},
   "outputs": [
    {
     "name": "stdout",
     "output_type": "stream",
     "text": [
      "5!=120\n"
     ]
    }
   ],
   "source": [
    "def f(n):\n",
    "    if n<=1:\n",
    "        return 1\n",
    "    else:\n",
    "        return n*f(n-1)\n",
    "n=5\n",
    "print(f'{n}!={f(n)}')   "
   ]
  },
  {
   "cell_type": "code",
   "execution_count": 37,
   "metadata": {},
   "outputs": [
    {
     "name": "stdout",
     "output_type": "stream",
     "text": [
      "Fib series: \n",
      "1\n",
      "2\n",
      "3\n",
      "5\n",
      "8\n",
      "13\n",
      "21\n",
      "34\n",
      "55\n",
      "89\n"
     ]
    }
   ],
   "source": [
    "def fib(n):\n",
    "    a=0\n",
    "    b=1\n",
    "    print(\"Fib series: \")\n",
    "    for i in range(0,n):\n",
    "        c=a+b\n",
    "        print(a+b)\n",
    "        a=b\n",
    "        b=c\n",
    "fib(10)        "
   ]
  },
  {
   "attachments": {},
   "cell_type": "markdown",
   "metadata": {},
   "source": [
    "- Lambda Function\n",
    "    - lambda x,y: x+y\n",
    "# what is map function?\n",
    "# map function is used to apply a function on each element of a list  "
   ]
  },
  {
   "cell_type": "code",
   "execution_count": 48,
   "metadata": {},
   "outputs": [
    {
     "name": "stdout",
     "output_type": "stream",
     "text": [
      "sum of 100 and 200 is 300\n",
      "subtraction of 200 and 100 is 100\n"
     ]
    }
   ],
   "source": [
    "add=lambda x,y:x+y\n",
    "sub=lambda x,y:x-y\n",
    "print(\"sum of 100 and 200 is\",add(100,200))\n",
    "print(\"subtraction of 200 and 100 is\",sub(200,100))"
   ]
  },
  {
   "cell_type": "code",
   "execution_count": 52,
   "metadata": {},
   "outputs": [
    {
     "name": "stdout",
     "output_type": "stream",
     "text": [
      "2^3= 8\n"
     ]
    }
   ],
   "source": [
    "exp=lambda x,y:x**y if y>=0 else -1\n",
    "print(\"2^3=\",exp(2,3))"
   ]
  },
  {
   "cell_type": "code",
   "execution_count": 53,
   "metadata": {},
   "outputs": [
    {
     "name": "stdout",
     "output_type": "stream",
     "text": [
      "[1, 4, 9, 16, 25]\n"
     ]
    }
   ],
   "source": [
    "def f(x):\n",
    "    return x**2\n",
    "a=[1,2,3,4,5]\n",
    "b=list(map(f,a)) \n",
    "print(b)\n"
   ]
  },
  {
   "cell_type": "code",
   "execution_count": 54,
   "metadata": {},
   "outputs": [
    {
     "name": "stdout",
     "output_type": "stream",
     "text": [
      "Adult list:\n",
      "20\n",
      "19\n",
      "22\n",
      "25\n",
      "30\n"
     ]
    }
   ],
   "source": [
    "def check(n):\n",
    "    if n>18:\n",
    "        return True\n",
    "    else:  \n",
    "        return False\n",
    "age=[20,15,18,19,22,25,30]\n",
    "print(\"Adult list:\")\n",
    "for a in filter(check,age):\n",
    "    print(a)"
   ]
  },
  {
   "cell_type": "code",
   "execution_count": 64,
   "metadata": {},
   "outputs": [
    {
     "name": "stdout",
     "output_type": "stream",
     "text": [
      "['a', 100]\n",
      "['b', 50]\n"
     ]
    }
   ],
   "source": [
    "#name Key , value marks\n",
    "def chek(n):\n",
    "    if n[1]>35:\n",
    "        return True\n",
    "    else:  \n",
    "        return False\n",
    "d={'a':100,'b':50,'c':30}\n",
    "for a in filter(chek,d.items()):\n",
    "    print(list(a))"
   ]
  },
  {
   "cell_type": "code",
   "execution_count": null,
   "metadata": {},
   "outputs": [],
   "source": []
  }
 ],
 "metadata": {
  "kernelspec": {
   "display_name": "Python 3",
   "language": "python",
   "name": "python3"
  },
  "language_info": {
   "codemirror_mode": {
    "name": "ipython",
    "version": 3
   },
   "file_extension": ".py",
   "mimetype": "text/x-python",
   "name": "python",
   "nbconvert_exporter": "python",
   "pygments_lexer": "ipython3",
   "version": "3.10.4"
  },
  "orig_nbformat": 4
 },
 "nbformat": 4,
 "nbformat_minor": 2
}

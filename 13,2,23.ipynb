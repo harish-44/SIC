{
 "cells": [
  {
   "cell_type": "code",
   "execution_count": 1,
   "id": "ae94f07d",
   "metadata": {},
   "outputs": [
    {
     "name": "stdout",
     "output_type": "stream",
     "text": [
      "0\n",
      "1\n",
      "2\n",
      "3\n",
      "4\n",
      "5\n",
      "6\n",
      "7\n",
      "8\n",
      "9\n"
     ]
    }
   ],
   "source": [
    "for i in range(0,10):\n",
    "    print(i)"
   ]
  },
  {
   "cell_type": "code",
   "execution_count": 2,
   "id": "33d751ea",
   "metadata": {},
   "outputs": [
    {
     "name": "stdout",
     "output_type": "stream",
     "text": [
      "0\n",
      "2\n",
      "4\n",
      "6\n",
      "8\n"
     ]
    }
   ],
   "source": [
    "for i in range(0,10,2):\n",
    "    print(i)"
   ]
  },
  {
   "cell_type": "code",
   "execution_count": null,
   "id": "c3690ece",
   "metadata": {},
   "outputs": [],
   "source": [
    "i=0\n",
    "a=[]\n",
    "for i in range(0,10):\n",
    "    ele=int(input(\"Enter element\"))\n",
    "    a.append(ele)\n",
    "for i in range(10):\n",
    "    print(a[i])"
   ]
  },
  {
   "cell_type": "markdown",
   "id": "226bcf8f",
   "metadata": {},
   "source": []
  },
  {
   "cell_type": "code",
   "execution_count": 1,
   "id": "f9da9fed",
   "metadata": {},
   "outputs": [
    {
     "name": "stdout",
     "output_type": "stream",
     "text": [
      "Enter element1\n",
      "Enter element2\n",
      "Enter element3\n",
      "Enter element4\n",
      "Enter element5\n",
      "Enter element6\n",
      "Enter element7\n",
      "Enter element89\n",
      "Enter element99\n",
      "Enter element99\n",
      "1\n",
      "2\n",
      "3\n",
      "4\n",
      "5\n",
      "6\n",
      "7\n",
      "89\n",
      "99\n",
      "99\n"
     ]
    }
   ],
   "source": [
    "i=0\n",
    "a=[]\n",
    "for i in range(0,10):\n",
    "    ele=int(input(\"Enter element\"))\n",
    "    a.append(ele)\n",
    "for i in range(10):\n",
    "    print(a[i])"
   ]
  },
  {
   "cell_type": "code",
   "execution_count": 2,
   "id": "c5df7c90",
   "metadata": {},
   "outputs": [
    {
     "name": "stdout",
     "output_type": "stream",
     "text": [
      "Hello World\n"
     ]
    }
   ],
   "source": [
    "## 1st question\n",
    "print(\"Hello World\")"
   ]
  },
  {
   "cell_type": "code",
   "execution_count": 4,
   "id": "9fed7ddc",
   "metadata": {},
   "outputs": [
    {
     "name": "stdout",
     "output_type": "stream",
     "text": [
      "Enter a: 3\n",
      "Enter b: 4\n",
      "Sum=  7\n"
     ]
    }
   ],
   "source": [
    "##2nd question\n",
    "a=int(input(\"Enter a: \"))\n",
    "b=int(input(\"Enter b: \"))\n",
    "print(\"Sum= \",a+b)"
   ]
  },
  {
   "cell_type": "code",
   "execution_count": 6,
   "id": "0f560a39",
   "metadata": {},
   "outputs": [
    {
     "name": "stdout",
     "output_type": "stream",
     "text": [
      "Enter the number: 69\n",
      "8.306623862918075  is the sq root\n"
     ]
    }
   ],
   "source": [
    "##3rd question\n",
    "import math\n",
    "a=int(input(\"Enter the number: \"))\n",
    "print(math.sqrt(a),\" is the sq root\")"
   ]
  },
  {
   "cell_type": "code",
   "execution_count": 7,
   "id": "a84d0256",
   "metadata": {},
   "outputs": [
    {
     "name": "stdout",
     "output_type": "stream",
     "text": [
      "Enter the base: 4\n",
      "Enter the height: 2\n",
      "area of triangle is  4.0\n"
     ]
    }
   ],
   "source": [
    "##4th question\n",
    "a=float(input(\"Enter the base: \"))\n",
    "b=float(input(\"Enter the height: \"))\n",
    "print(\"area of triangle is \",(1/2)*a*b)"
   ]
  },
  {
   "cell_type": "code",
   "execution_count": 8,
   "id": "c5efc163",
   "metadata": {},
   "outputs": [
    {
     "name": "stdout",
     "output_type": "stream",
     "text": [
      "Enter the 1st number: 2\n",
      "Enter the second number: 3\n",
      "1st number :  3\n",
      "2nd number :  2\n"
     ]
    }
   ],
   "source": [
    "##5th question\n",
    "a=int(input(\"Enter the 1st number: \"))\n",
    "b=int(input(\"Enter the second number: \"))\n",
    "a,b=b,a\n",
    "print(\"1st number : \",a)\n",
    "print(\"2nd number : \",b)"
   ]
  },
  {
   "cell_type": "code",
   "execution_count": 10,
   "id": "1f23df63",
   "metadata": {},
   "outputs": [
    {
     "name": "stdout",
     "output_type": "stream",
     "text": [
      "201\n"
     ]
    }
   ],
   "source": [
    "#6th question\n",
    "import random\n",
    "a=random.randint(100,500)\n",
    "print(a)"
   ]
  },
  {
   "cell_type": "code",
   "execution_count": 11,
   "id": "613b1a10",
   "metadata": {},
   "outputs": [
    {
     "name": "stdout",
     "output_type": "stream",
     "text": [
      "Enter the distance in km: 4\n",
      "in meters  4000.0\n"
     ]
    }
   ],
   "source": [
    "##7th\n",
    "a=float(input(\"Enter the distance in km: \"))\n",
    "print(\"in meters \",a*1000)"
   ]
  },
  {
   "cell_type": "code",
   "execution_count": 17,
   "id": "8a8772c5",
   "metadata": {},
   "outputs": [
    {
     "name": "stdout",
     "output_type": "stream",
     "text": [
      "Enter the number4\n",
      "not a prime number\n"
     ]
    }
   ],
   "source": [
    "#8th \n",
    "flag=0\n",
    "a=int(input(\"Enter the number\"))\n",
    "for i in range(2,int(a/2)+1):\n",
    "    if((a%i)==0):\n",
    "        flag=1\n",
    "if(flag==0):\n",
    "    print(\"Prime number\")\n",
    "else:\n",
    "    print(\"not a prime number\")"
   ]
  },
  {
   "cell_type": "code",
   "execution_count": 2,
   "id": "c5e8b109",
   "metadata": {},
   "outputs": [
    {
     "name": "stdout",
     "output_type": "stream",
     "text": [
      "Enter the number: 6\n",
      "Enter the second number: 3\n",
      "3\n"
     ]
    }
   ],
   "source": [
    "a=int(input(\"Enter the number: \"))\n",
    "b=int(input(\"Enter the second number: \"))\n",
    "c=min(a,b)\n",
    "while(c>0):\n",
    "    if((a%c==0) and (b%c==0)):\n",
    "        print(c)\n",
    "        break\n",
    "    c-=1    "
   ]
  },
  {
   "cell_type": "code",
   "execution_count": 3,
   "id": "5b0ffd58",
   "metadata": {},
   "outputs": [
    {
     "name": "stdout",
     "output_type": "stream",
     "text": [
      "Enter n: 4\n",
      "10.0\n"
     ]
    }
   ],
   "source": [
    "a=int(input(\"Enter n: \"))\n",
    "print(a*((a+1)/2))"
   ]
  },
  {
   "cell_type": "code",
   "execution_count": 13,
   "id": "520b4190",
   "metadata": {},
   "outputs": [
    {
     "name": "stdout",
     "output_type": "stream",
     "text": [
      "\n",
      "\n",
      "1 \n",
      "1 2 \n",
      "1 2 3 \n",
      "1 2 3 4 \n",
      "1 2 3 4 5 \n"
     ]
    }
   ],
   "source": [
    "#11\n",
    "for i in range(0,7):\n",
    "    for j in range(1,i):\n",
    "        print(j,end=\" \") \n",
    "    print()    \n",
    "        \n",
    "       "
   ]
  },
  {
   "cell_type": "code",
   "execution_count": 1,
   "id": "72e66130",
   "metadata": {},
   "outputs": [],
   "source": [
    "##with anaconda"
   ]
  },
  {
   "cell_type": "code",
   "execution_count": 2,
   "id": "0b4c25f5",
   "metadata": {},
   "outputs": [
    {
     "name": "stdout",
     "output_type": "stream",
     "text": [
      "hello world\n"
     ]
    }
   ],
   "source": [
    "print(\"hello world\")"
   ]
  },
  {
   "cell_type": "code",
   "execution_count": 3,
   "id": "76284cb1",
   "metadata": {},
   "outputs": [
    {
     "name": "stdout",
     "output_type": "stream",
     "text": [
      "10\n"
     ]
    }
   ],
   "source": [
    "#run time compiler\n",
    "print(10)"
   ]
  },
  {
   "cell_type": "code",
   "execution_count": 4,
   "id": "6e7ece2f",
   "metadata": {},
   "outputs": [
    {
     "name": "stdout",
     "output_type": "stream",
     "text": [
      "12.5\n"
     ]
    }
   ],
   "source": [
    "print(12.5)"
   ]
  },
  {
   "cell_type": "code",
   "execution_count": 5,
   "id": "8e8729dc",
   "metadata": {},
   "outputs": [
    {
     "name": "stdout",
     "output_type": "stream",
     "text": [
      "8\n"
     ]
    }
   ],
   "source": [
    "print(4+4)"
   ]
  },
  {
   "cell_type": "code",
   "execution_count": 6,
   "id": "11c0cb62",
   "metadata": {},
   "outputs": [
    {
     "name": "stdout",
     "output_type": "stream",
     "text": [
      "4.0\n"
     ]
    }
   ],
   "source": [
    "print(12/3)"
   ]
  },
  {
   "cell_type": "code",
   "execution_count": 7,
   "id": "b067b888",
   "metadata": {},
   "outputs": [
    {
     "name": "stdout",
     "output_type": "stream",
     "text": [
      "4\n"
     ]
    }
   ],
   "source": [
    "print(int(12/3))"
   ]
  },
  {
   "cell_type": "code",
   "execution_count": 8,
   "id": "10a9d935",
   "metadata": {},
   "outputs": [
    {
     "name": "stdout",
     "output_type": "stream",
     "text": [
      "hello\\chinthya\n"
     ]
    }
   ],
   "source": [
    "print(\"hello\\chinthya\")"
   ]
  },
  {
   "cell_type": "code",
   "execution_count": 9,
   "id": "926d5af7",
   "metadata": {},
   "outputs": [
    {
     "name": "stdout",
     "output_type": "stream",
     "text": [
      "hello\n",
      "chinthya\n"
     ]
    }
   ],
   "source": [
    "print(\"hello\\nchinthya\")"
   ]
  },
  {
   "cell_type": "code",
   "execution_count": 10,
   "id": "4b168c19",
   "metadata": {},
   "outputs": [
    {
     "name": "stdout",
     "output_type": "stream",
     "text": [
      "d a\n"
     ]
    }
   ],
   "source": [
    "print('d','a')"
   ]
  },
  {
   "cell_type": "code",
   "execution_count": 11,
   "id": "806983db",
   "metadata": {},
   "outputs": [
    {
     "name": "stdout",
     "output_type": "stream",
     "text": [
      "2 4 6\n"
     ]
    }
   ],
   "source": [
    "print(2,4,6)"
   ]
  },
  {
   "cell_type": "code",
   "execution_count": 12,
   "id": "01ea8c0a",
   "metadata": {},
   "outputs": [
    {
     "name": "stdout",
     "output_type": "stream",
     "text": [
      "a b c\n"
     ]
    }
   ],
   "source": [
    "print(\"a\",\"b\",\"c\")"
   ]
  },
  {
   "cell_type": "code",
   "execution_count": 13,
   "id": "44baed7b",
   "metadata": {},
   "outputs": [
    {
     "data": {
      "text/plain": [
       "'hi hello'"
      ]
     },
     "execution_count": 13,
     "metadata": {},
     "output_type": "execute_result"
    }
   ],
   "source": [
    "'hi hello'"
   ]
  },
  {
   "cell_type": "code",
   "execution_count": 14,
   "id": "a423ceca",
   "metadata": {},
   "outputs": [
    {
     "name": "stdout",
     "output_type": "stream",
     "text": [
      "hi10\n"
     ]
    }
   ],
   "source": [
    "print('hi'+'10')"
   ]
  },
  {
   "cell_type": "code",
   "execution_count": 15,
   "id": "7d444fa6",
   "metadata": {},
   "outputs": [
    {
     "ename": "TypeError",
     "evalue": "can only concatenate str (not \"int\") to str",
     "output_type": "error",
     "traceback": [
      "\u001b[1;31m---------------------------------------------------------------------------\u001b[0m",
      "\u001b[1;31mTypeError\u001b[0m                                 Traceback (most recent call last)",
      "Cell \u001b[1;32mIn[15], line 1\u001b[0m\n\u001b[1;32m----> 1\u001b[0m \u001b[38;5;28mprint\u001b[39m(\u001b[38;5;124;43m'\u001b[39;49m\u001b[38;5;124;43m10\u001b[39;49m\u001b[38;5;124;43m'\u001b[39;49m\u001b[38;5;241;43m+\u001b[39;49m\u001b[38;5;241;43m1\u001b[39;49m)\n",
      "\u001b[1;31mTypeError\u001b[0m: can only concatenate str (not \"int\") to str"
     ]
    }
   ],
   "source": [
    "print('10'+1)"
   ]
  },
  {
   "cell_type": "code",
   "execution_count": 16,
   "id": "01d0522f",
   "metadata": {},
   "outputs": [
    {
     "name": "stdout",
     "output_type": "stream",
     "text": [
      "achaaaaaaachaaaaaaachaaaaaaachaaaaaa\n"
     ]
    }
   ],
   "source": [
    "print(\"achaaaaaa\"*4)"
   ]
  },
  {
   "cell_type": "code",
   "execution_count": 17,
   "id": "fb2151d5",
   "metadata": {},
   "outputs": [
    {
     "name": "stdout",
     "output_type": "stream",
     "text": [
      "hi."
     ]
    }
   ],
   "source": [
    "print(\"hi\",end=\".\")"
   ]
  },
  {
   "cell_type": "code",
   "execution_count": 18,
   "id": "f4f87204",
   "metadata": {},
   "outputs": [
    {
     "name": "stdout",
     "output_type": "stream",
     "text": [
      "Help on class int in module builtins:\n",
      "\n",
      "class int(object)\n",
      " |  int([x]) -> integer\n",
      " |  int(x, base=10) -> integer\n",
      " |  \n",
      " |  Convert a number or string to an integer, or return 0 if no arguments\n",
      " |  are given.  If x is a number, return x.__int__().  For floating point\n",
      " |  numbers, this truncates towards zero.\n",
      " |  \n",
      " |  If x is not a number or if base is given, then x must be a string,\n",
      " |  bytes, or bytearray instance representing an integer literal in the\n",
      " |  given base.  The literal can be preceded by '+' or '-' and be surrounded\n",
      " |  by whitespace.  The base defaults to 10.  Valid bases are 0 and 2-36.\n",
      " |  Base 0 means to interpret the base from the string as an integer literal.\n",
      " |  >>> int('0b100', base=0)\n",
      " |  4\n",
      " |  \n",
      " |  Built-in subclasses:\n",
      " |      bool\n",
      " |  \n",
      " |  Methods defined here:\n",
      " |  \n",
      " |  __abs__(self, /)\n",
      " |      abs(self)\n",
      " |  \n",
      " |  __add__(self, value, /)\n",
      " |      Return self+value.\n",
      " |  \n",
      " |  __and__(self, value, /)\n",
      " |      Return self&value.\n",
      " |  \n",
      " |  __bool__(self, /)\n",
      " |      True if self else False\n",
      " |  \n",
      " |  __ceil__(...)\n",
      " |      Ceiling of an Integral returns itself.\n",
      " |  \n",
      " |  __divmod__(self, value, /)\n",
      " |      Return divmod(self, value).\n",
      " |  \n",
      " |  __eq__(self, value, /)\n",
      " |      Return self==value.\n",
      " |  \n",
      " |  __float__(self, /)\n",
      " |      float(self)\n",
      " |  \n",
      " |  __floor__(...)\n",
      " |      Flooring an Integral returns itself.\n",
      " |  \n",
      " |  __floordiv__(self, value, /)\n",
      " |      Return self//value.\n",
      " |  \n",
      " |  __format__(self, format_spec, /)\n",
      " |      Default object formatter.\n",
      " |  \n",
      " |  __ge__(self, value, /)\n",
      " |      Return self>=value.\n",
      " |  \n",
      " |  __getattribute__(self, name, /)\n",
      " |      Return getattr(self, name).\n",
      " |  \n",
      " |  __getnewargs__(self, /)\n",
      " |  \n",
      " |  __gt__(self, value, /)\n",
      " |      Return self>value.\n",
      " |  \n",
      " |  __hash__(self, /)\n",
      " |      Return hash(self).\n",
      " |  \n",
      " |  __index__(self, /)\n",
      " |      Return self converted to an integer, if self is suitable for use as an index into a list.\n",
      " |  \n",
      " |  __int__(self, /)\n",
      " |      int(self)\n",
      " |  \n",
      " |  __invert__(self, /)\n",
      " |      ~self\n",
      " |  \n",
      " |  __le__(self, value, /)\n",
      " |      Return self<=value.\n",
      " |  \n",
      " |  __lshift__(self, value, /)\n",
      " |      Return self<<value.\n",
      " |  \n",
      " |  __lt__(self, value, /)\n",
      " |      Return self<value.\n",
      " |  \n",
      " |  __mod__(self, value, /)\n",
      " |      Return self%value.\n",
      " |  \n",
      " |  __mul__(self, value, /)\n",
      " |      Return self*value.\n",
      " |  \n",
      " |  __ne__(self, value, /)\n",
      " |      Return self!=value.\n",
      " |  \n",
      " |  __neg__(self, /)\n",
      " |      -self\n",
      " |  \n",
      " |  __or__(self, value, /)\n",
      " |      Return self|value.\n",
      " |  \n",
      " |  __pos__(self, /)\n",
      " |      +self\n",
      " |  \n",
      " |  __pow__(self, value, mod=None, /)\n",
      " |      Return pow(self, value, mod).\n",
      " |  \n",
      " |  __radd__(self, value, /)\n",
      " |      Return value+self.\n",
      " |  \n",
      " |  __rand__(self, value, /)\n",
      " |      Return value&self.\n",
      " |  \n",
      " |  __rdivmod__(self, value, /)\n",
      " |      Return divmod(value, self).\n",
      " |  \n",
      " |  __repr__(self, /)\n",
      " |      Return repr(self).\n",
      " |  \n",
      " |  __rfloordiv__(self, value, /)\n",
      " |      Return value//self.\n",
      " |  \n",
      " |  __rlshift__(self, value, /)\n",
      " |      Return value<<self.\n",
      " |  \n",
      " |  __rmod__(self, value, /)\n",
      " |      Return value%self.\n",
      " |  \n",
      " |  __rmul__(self, value, /)\n",
      " |      Return value*self.\n",
      " |  \n",
      " |  __ror__(self, value, /)\n",
      " |      Return value|self.\n",
      " |  \n",
      " |  __round__(...)\n",
      " |      Rounding an Integral returns itself.\n",
      " |      \n",
      " |      Rounding with an ndigits argument also returns an integer.\n",
      " |  \n",
      " |  __rpow__(self, value, mod=None, /)\n",
      " |      Return pow(value, self, mod).\n",
      " |  \n",
      " |  __rrshift__(self, value, /)\n",
      " |      Return value>>self.\n",
      " |  \n",
      " |  __rshift__(self, value, /)\n",
      " |      Return self>>value.\n",
      " |  \n",
      " |  __rsub__(self, value, /)\n",
      " |      Return value-self.\n",
      " |  \n",
      " |  __rtruediv__(self, value, /)\n",
      " |      Return value/self.\n",
      " |  \n",
      " |  __rxor__(self, value, /)\n",
      " |      Return value^self.\n",
      " |  \n",
      " |  __sizeof__(self, /)\n",
      " |      Returns size in memory, in bytes.\n",
      " |  \n",
      " |  __sub__(self, value, /)\n",
      " |      Return self-value.\n",
      " |  \n",
      " |  __truediv__(self, value, /)\n",
      " |      Return self/value.\n",
      " |  \n",
      " |  __trunc__(...)\n",
      " |      Truncating an Integral returns itself.\n",
      " |  \n",
      " |  __xor__(self, value, /)\n",
      " |      Return self^value.\n",
      " |  \n",
      " |  as_integer_ratio(self, /)\n",
      " |      Return integer ratio.\n",
      " |      \n",
      " |      Return a pair of integers, whose ratio is exactly equal to the original int\n",
      " |      and with a positive denominator.\n",
      " |      \n",
      " |      >>> (10).as_integer_ratio()\n",
      " |      (10, 1)\n",
      " |      >>> (-10).as_integer_ratio()\n",
      " |      (-10, 1)\n",
      " |      >>> (0).as_integer_ratio()\n",
      " |      (0, 1)\n",
      " |  \n",
      " |  bit_count(self, /)\n",
      " |      Number of ones in the binary representation of the absolute value of self.\n",
      " |      \n",
      " |      Also known as the population count.\n",
      " |      \n",
      " |      >>> bin(13)\n",
      " |      '0b1101'\n",
      " |      >>> (13).bit_count()\n",
      " |      3\n",
      " |  \n",
      " |  bit_length(self, /)\n",
      " |      Number of bits necessary to represent self in binary.\n",
      " |      \n",
      " |      >>> bin(37)\n",
      " |      '0b100101'\n",
      " |      >>> (37).bit_length()\n",
      " |      6\n",
      " |  \n",
      " |  conjugate(...)\n",
      " |      Returns self, the complex conjugate of any int.\n",
      " |  \n",
      " |  to_bytes(self, /, length, byteorder, *, signed=False)\n",
      " |      Return an array of bytes representing an integer.\n",
      " |      \n",
      " |      length\n",
      " |        Length of bytes object to use.  An OverflowError is raised if the\n",
      " |        integer is not representable with the given number of bytes.\n",
      " |      byteorder\n",
      " |        The byte order used to represent the integer.  If byteorder is 'big',\n",
      " |        the most significant byte is at the beginning of the byte array.  If\n",
      " |        byteorder is 'little', the most significant byte is at the end of the\n",
      " |        byte array.  To request the native byte order of the host system, use\n",
      " |        `sys.byteorder' as the byte order value.\n",
      " |      signed\n",
      " |        Determines whether two's complement is used to represent the integer.\n",
      " |        If signed is False and a negative integer is given, an OverflowError\n",
      " |        is raised.\n",
      " |  \n",
      " |  ----------------------------------------------------------------------\n",
      " |  Class methods defined here:\n",
      " |  \n",
      " |  from_bytes(bytes, byteorder, *, signed=False) from builtins.type\n",
      " |      Return the integer represented by the given array of bytes.\n",
      " |      \n",
      " |      bytes\n",
      " |        Holds the array of bytes to convert.  The argument must either\n",
      " |        support the buffer protocol or be an iterable object producing bytes.\n",
      " |        Bytes and bytearray are examples of built-in objects that support the\n",
      " |        buffer protocol.\n",
      " |      byteorder\n",
      " |        The byte order used to represent the integer.  If byteorder is 'big',\n",
      " |        the most significant byte is at the beginning of the byte array.  If\n",
      " |        byteorder is 'little', the most significant byte is at the end of the\n",
      " |        byte array.  To request the native byte order of the host system, use\n",
      " |        `sys.byteorder' as the byte order value.\n",
      " |      signed\n",
      " |        Indicates whether two's complement is used to represent the integer.\n",
      " |  \n",
      " |  ----------------------------------------------------------------------\n",
      " |  Static methods defined here:\n",
      " |  \n",
      " |  __new__(*args, **kwargs) from builtins.type\n",
      " |      Create and return a new object.  See help(type) for accurate signature.\n",
      " |  \n",
      " |  ----------------------------------------------------------------------\n",
      " |  Data descriptors defined here:\n",
      " |  \n",
      " |  denominator\n",
      " |      the denominator of a rational number in lowest terms\n",
      " |  \n",
      " |  imag\n",
      " |      the imaginary part of a complex number\n",
      " |  \n",
      " |  numerator\n",
      " |      the numerator of a rational number in lowest terms\n",
      " |  \n",
      " |  real\n",
      " |      the real part of a complex number\n",
      "\n"
     ]
    }
   ],
   "source": [
    "help(int)"
   ]
  },
  {
   "cell_type": "code",
   "execution_count": 19,
   "id": "c9afbb89",
   "metadata": {},
   "outputs": [
    {
     "name": "stdout",
     "output_type": "stream",
     "text": [
      "hi+hello+vanakkam\n"
     ]
    }
   ],
   "source": [
    "print(\"hi\",\"hello\",\"vanakkam\",sep=\"+\")"
   ]
  },
  {
   "cell_type": "code",
   "execution_count": 20,
   "id": "928b1855",
   "metadata": {},
   "outputs": [
    {
     "name": "stdout",
     "output_type": "stream",
     "text": [
      "chommu=achinthya\n"
     ]
    }
   ],
   "source": [
    "print(\"chommu\",\"achinthya\",sep=\"=\")"
   ]
  },
  {
   "cell_type": "code",
   "execution_count": null,
   "id": "5a0a7fed",
   "metadata": {},
   "outputs": [],
   "source": []
  }
 ],
 "metadata": {
  "kernelspec": {
   "display_name": "Python 3 (ipykernel)",
   "language": "python",
   "name": "python3"
  },
  "language_info": {
   "codemirror_mode": {
    "name": "ipython",
    "version": 3
   },
   "file_extension": ".py",
   "mimetype": "text/x-python",
   "name": "python",
   "nbconvert_exporter": "python",
   "pygments_lexer": "ipython3",
   "version": "3.10.9"
  }
 },
 "nbformat": 4,
 "nbformat_minor": 5
}
